{
  "cells": [
    {
      "cell_type": "code",
      "execution_count": null,
      "metadata": {
        "collapsed": false
      },
      "outputs": [],
      "source": [
        "%matplotlib inline"
      ]
    },
    {
      "cell_type": "markdown",
      "metadata": {},
      "source": [
        "\n# Code speed and efficiency\nEMD analysis can be time-consuming. This tutorial outlines some basic\ninformation about how long different computations may take and what features\ncan be used to speed this up.\n"
      ]
    },
    {
      "cell_type": "markdown",
      "metadata": {},
      "source": [
        "## Sift Speed\n\n"
      ]
    },
    {
      "cell_type": "markdown",
      "metadata": {},
      "source": [
        "The sift can be time-consuming for two reasons. Firstly, it is an iterative\nprocess which can vary in how long it takes to converge. Though many signals\ncan be sifted in a handful of iterations some may take tens or hundreds of\niterations before an IMF is identified - unfortunately we can't tell before\nthe process is running. Secondly, the sift is sequential in that we can't\ncompute the second IMF until the first IMF has been identified.\n\n"
      ]
    },
    {
      "cell_type": "markdown",
      "metadata": {},
      "source": [
        "The default settings in the sift are selected to operate reasonably well and\nreasonable quickly on a signal. Here we include some a very rough, order of\nmagnitude illustration of timings based on running speeds on a modern\ncomputer (the readthedocs server generating this website).\n\n"
      ]
    },
    {
      "cell_type": "code",
      "execution_count": null,
      "metadata": {
        "collapsed": false
      },
      "outputs": [],
      "source": [
        "import emd\nimport time\nimport numpy as np\n\n\n# ---- Ten thousand sample example\nx = np.random.randn(10000,)\n\nt = time.process_time()\nimf = emd.sift.sift(x)\nelapsed = 1000 * (time.process_time() - t)\nprint('{0} samples sifted in {1} milliseconds'.format(10000, elapsed))\n\n# ---- Five thousand samples example\nx = np.random.randn(5000,)\n\nt = time.process_time()\nimf = emd.sift.sift(x)\nelapsed = 1000 * (time.process_time() - t)\nprint('{0} samples sifted in {1} milliseconds'.format(5000, elapsed))\n\n# ---- Five hundred samples example\nx = np.random.randn(500,)\n\nt = time.process_time()\nimf = emd.sift.sift(x)\nelapsed = 1000 * (time.process_time() - t)\nprint('{0} samples sifted in {1} milliseconds'.format(500, elapsed))"
      ]
    },
    {
      "cell_type": "markdown",
      "metadata": {},
      "source": [
        "The sift executes in well less than a second for all examples. Computation\ntime increases with input array size linearly for relatively short input but\nexponentially but larger ones (>1 million samples, not computed here...).\n\n"
      ]
    },
    {
      "cell_type": "markdown",
      "metadata": {},
      "source": [
        "Some options can noticeably slow down the sift. For example, the imf option\n``imf_opts/stop_method='rilling'`` is tends to use more iterations than the\ndefault ``imf_opts/stop_method='sd'``. Similarly changing the thresholds for\neither stopping method can increase the number of iterations computed. the\nenvelope interpolation method ``envelope_opes/interp_method='mono_pchip'`` is\nmuch slower than the default ``envelope_opes/interp_method='splrep'``\n\n"
      ]
    },
    {
      "cell_type": "markdown",
      "metadata": {},
      "source": [
        "## Sift Variants\n\n"
      ]
    },
    {
      "cell_type": "markdown",
      "metadata": {},
      "source": [
        "Compared to the classic sift, the ensemble and mask sift are slower but have\nmore options for speeding up computation. The computation speed of\n``emd.sift.ensemble_sift`` and ``emd.sift.complete_ensemble_sift`` is most\nstrongly determined by the number of ensembles that are computed - however,\nthese can be parallelised by setting the ``nprocesses`` option to be greater\nthan 1.\n\n"
      ]
    },
    {
      "cell_type": "code",
      "execution_count": null,
      "metadata": {
        "collapsed": false
      },
      "outputs": [],
      "source": [
        "# Run an ensemble sift with 24 ensembles\nimf = emd.sift.ensemble_sift(x, nensembles=24, max_imfs=6)\n\n# Run an ensemble sift with the 24 ensembles splits across 6 parallel threads\nimf = emd.sift.ensemble_sift(x, nensembles=24, max_imfs=6, nprocesses=6)"
      ]
    },
    {
      "cell_type": "markdown",
      "metadata": {},
      "source": [
        "Similarly, the timing of ``emd.sift.mask_sift`` is strongly determined by the\nnumber of separate masks applied to each IMF - specified by ``nphases``.\nAgain this can be parallelised by setting ``nprocesses`` to speed up\ncomputation time.\n\n"
      ]
    },
    {
      "cell_type": "code",
      "execution_count": null,
      "metadata": {
        "collapsed": false
      },
      "outputs": [],
      "source": [
        "# Compute a mask sift, applying four masks per IMF\nimf = emd.sift.mask_sift(x, nphases=4)\n\n# Compute a mask sift, applying four masks per IMF split across 4 parallel processes\nimf = emd.sift.mask_sift(x, nphases=4, nprocesses=4)"
      ]
    },
    {
      "cell_type": "markdown",
      "metadata": {},
      "source": [
        "## Sparse Time-Frequency Transforms.\n\n"
      ]
    },
    {
      "cell_type": "markdown",
      "metadata": {},
      "source": [
        "Another potentially slow computation during an EMD analysis is generating\nHilbert-Huang and Holospectrum arrays. Both of these algorithms make use of\nnested looping to form the output. As this can be very slow, these operations\nare accelerated internally by using sparse arrays. This allows the\nHilbert-Huang transform and Holospectrum arrays to be formed in one shot\nwithout looping.\n\nBy default, these outputs are cast to normal numpy arrays before being\nreturned to the user. If you are working with a very large transform, it is\nfar more memory and computationally efficient to work with the sparse form of\nthese arrays. These can be returned by specifying ``return_sparse=True`` in\nthe options in either ``emd.spectra.hilberthuang`` or\n``emd.spectra.holospectrum``.\n\n"
      ]
    },
    {
      "cell_type": "code",
      "execution_count": null,
      "metadata": {
        "collapsed": false
      },
      "outputs": [],
      "source": [
        "IP, IF, IA = emd.spectra.frequency_transform(imf, 1, 'hilbert')\nfreq_edges, freq_bins = emd.spectra.define_hist_bins(0, .5, 75)\n\nmsg = 'Output is a {0} of size {1} using {2}Kb of memory'\n\nhht = emd.spectra.hilberthuang(IF, IA, freq_edges)\nprint(msg.format(type(hht), hht.shape, hht.nbytes/1024))\n\nhht = emd.spectra.hilberthuang(IF, IA, freq_edges, return_sparse=True)\nprint(msg.format(type(hht), hht.shape, hht.data.nbytes/1024))"
      ]
    }
  ],
  "metadata": {
    "kernelspec": {
      "display_name": "Python 3",
      "language": "python",
      "name": "python3"
    },
    "language_info": {
      "codemirror_mode": {
        "name": "ipython",
        "version": 3
      },
      "file_extension": ".py",
      "mimetype": "text/x-python",
      "name": "python",
      "nbconvert_exporter": "python",
      "pygments_lexer": "ipython3",
      "version": "3.7.6"
    }
  },
  "nbformat": 4,
  "nbformat_minor": 0
}