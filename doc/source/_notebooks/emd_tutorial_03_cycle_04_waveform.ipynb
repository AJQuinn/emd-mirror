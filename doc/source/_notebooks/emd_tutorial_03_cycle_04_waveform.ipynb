{
  "cells": [
    {
      "cell_type": "code",
      "execution_count": null,
      "metadata": {
        "collapsed": false
      },
      "outputs": [],
      "source": [
        "%matplotlib inline"
      ]
    },
    {
      "cell_type": "markdown",
      "metadata": {},
      "source": [
        "\n# Waveform shape & Instantaneous Frequency\nHere we explore how the instantaneous frequency of a signal is related to its\nwaveform shape and how we can directly compare waveform shapes using phase\nalignment\n"
      ]
    },
    {
      "cell_type": "markdown",
      "metadata": {},
      "source": [
        "We will start with some imports emd and by simulating a very simple\nstationary sine wave signal.\n\n"
      ]
    },
    {
      "cell_type": "code",
      "execution_count": null,
      "metadata": {
        "collapsed": false
      },
      "outputs": [],
      "source": [
        "import emd\nimport numpy as np\nfrom scipy import signal, stats\nimport matplotlib.pyplot as plt"
      ]
    },
    {
      "cell_type": "markdown",
      "metadata": {},
      "source": [
        "## Linear & Non-linear Systems\n\n"
      ]
    },
    {
      "cell_type": "markdown",
      "metadata": {},
      "source": [
        "In this tutorial, we're going to explore how the instaneous frequency of an\noscillatory signal can represent its waveform shape. To do this, we're going\ncreate a sine-wave simulation and modulate by a linear and a non-linear\nequation. The linear equation simply scales the signal by a defined factor.\nThe non-linear equation also scales the signal but, crucially, has an extra\nterm which distorts the waveform of the oscillation such that it becomes\nnon-sinusoidal.\n\nThese equations are implemented as functions below. The equations themselves\nwere defined in equations 50.24 and 50.25 in section 50-6 of Feynman's\nLectures of Physics.\n\n"
      ]
    },
    {
      "cell_type": "code",
      "execution_count": null,
      "metadata": {
        "collapsed": false
      },
      "outputs": [],
      "source": [
        "def linear_system(x, K):\n    \"\"\" A linear system which scales a signal by a factor\"\"\"\n    return K * x\n\n\ndef nonlinear_system(x, K, eta=.43, power=2):\n    \"\"\" A non-linear system which scales a signal by a factor introduces a\n    waveform distortion\"\"\"\n    return K * (x + eta * (x ** power))"
      ]
    },
    {
      "cell_type": "markdown",
      "metadata": {},
      "source": [
        "## A simple sine-wave\n\n"
      ]
    },
    {
      "cell_type": "markdown",
      "metadata": {},
      "source": [
        "We will first apply our linear and non-linear equations to a very simple\npure-tone oscillation. We define some values below and create a 10 second\nsignal which oscillates at 2Hz.\n\n"
      ]
    },
    {
      "cell_type": "code",
      "execution_count": null,
      "metadata": {
        "collapsed": false
      },
      "outputs": [],
      "source": [
        "seconds = 10\nf = 2\nsample_rate = 512\nemd.spectra.frequency_transform\nt = np.linspace(0, seconds, seconds*sample_rate)\nx = np.cos(2*np.pi*f*t)"
      ]
    },
    {
      "cell_type": "markdown",
      "metadata": {},
      "source": [
        "We then modulate our signal ``x`` by the linear and nonlinear systems.\n\n"
      ]
    },
    {
      "cell_type": "code",
      "execution_count": null,
      "metadata": {
        "collapsed": false
      },
      "outputs": [],
      "source": [
        "K = .5  # both systems will scale the signal by 0.5\n\n# Apply the systems to time-series x\nx_linear = linear_system(x, K)\nx_nonlinear = nonlinear_system(x, K)\n\n# Create a summary plot\nplt.figure(figsize=(10, 4))\nplt.plot(t, x, 'k:')\nplt.plot(t, x_linear)\nplt.plot(t, x_nonlinear)\nplt.xlim(0, 3)\nplt.xlabel('Time (seconds)')\nplt.legend(['Original', 'Linear', 'Non-linear'])"
      ]
    },
    {
      "cell_type": "markdown",
      "metadata": {},
      "source": [
        "We can see that the output of the linear system returns a scaled sinusoid\nwhilst the nonlinear system outputs a distorted wave. By eye, we can see that\nthe non-linear signal has a sharper peak and a wider trough than the linear\nsystem. The next section is going to quantify this distortion using\ninstantanous frequency.\n\nFirstly, we compute the EMD of the linear system using the ``emd.sift.sift`` with\ndefault argumnts.\n\n"
      ]
    },
    {
      "cell_type": "code",
      "execution_count": null,
      "metadata": {
        "collapsed": false
      },
      "outputs": [],
      "source": [
        "# Compute EMD\nimf_linear = emd.sift.sift(x_linear)\n\n# Visualise the IMFs\nemd.plotting.plot_imfs(imf_linear[:sample_rate*4, :], cmap=True, scale_y=True)"
      ]
    },
    {
      "cell_type": "markdown",
      "metadata": {},
      "source": [
        "This is an easy decomposition as we haven't added any noise to the signal.\nThe oscillation is captured completed by the first component whilst the\nsecond component contains a very small residual.\n\nNext we compute the EMD for the non-linear system\n\n"
      ]
    },
    {
      "cell_type": "code",
      "execution_count": null,
      "metadata": {
        "collapsed": false
      },
      "outputs": [],
      "source": [
        "# Compute EMD\nimf_nonlinear = emd.sift.sift(x_nonlinear)\n\n# Visualise the IMFs\nemd.plotting.plot_imfs(imf_nonlinear[:sample_rate*4, :], cmap=True, scale_y=True)"
      ]
    },
    {
      "cell_type": "markdown",
      "metadata": {},
      "source": [
        "As with the linear system, this is an easy decomposition without any noise.\nThe oscillatory signal is captured within the first component without further\ndistorting the waveform shape. The residual contains a near-constant mean\nterm. This is as the non-linear system makes the peaks larger and the troughs\nsmaller which shifts the mean of the signal away from zero. This effect is\noften called rectification.\n\nNext, we compute the instantanous frequency metrics from our linear and\nnon-linear IMFs.\n\n"
      ]
    },
    {
      "cell_type": "code",
      "execution_count": null,
      "metadata": {
        "collapsed": false
      },
      "outputs": [],
      "source": [
        "IP_linear, IF_linear, IA_linear = emd.spectra.frequency_transform(imf_linear, sample_rate, 'nht')\nIP_nonlinear, IF_nonlinear, IA_nonlinear = emd.spectra.frequency_transform(imf_nonlinear, sample_rate, 'nht')"
      ]
    },
    {
      "cell_type": "markdown",
      "metadata": {},
      "source": [
        "We can now start to look at how a non-sinusoidal waveform is represented in\nfrequency. We will compare the EMD instantaneous frequency perspective with a\nstandard frequency analysis based on the Fourier transform.\n\nWe compute the Hilbert-Huang transform from the IMF frequency metrics and\nWelch's Periodogram from the raw data before creating a summary plot.\n\n"
      ]
    },
    {
      "cell_type": "code",
      "execution_count": null,
      "metadata": {
        "collapsed": false
      },
      "outputs": [],
      "source": [
        "# Welch's Periodogram\nf, pxx_linear = signal.welch(x_linear, fs=sample_rate, nperseg=2048)\nf, pxx_nonlinear = signal.welch(x_nonlinear, fs=sample_rate, nperseg=2048)\n\n# Hilbert-Huang transform\nedges, centres = emd.spectra.define_hist_bins(0, 20, 64)\nspec_linear = emd.spectra.hilberthuang_1d(IF_linear, IA_linear, edges) / len(x)\nspec_nonlinear = emd.spectra.hilberthuang_1d(IF_nonlinear, IA_nonlinear, edges) / len(x)\n\n# Summary figure\nplt.figure()\nplt.subplot(121)\nplt.plot(f, pxx_linear)\nplt.plot(f, pxx_nonlinear)\nplt.title(\"Welch's Periodogram\")\nplt.xlim(0, 20)\nplt.xticks(np.arange(10)*2)\nplt.grid(True)\nplt.xlabel('Frequency (Hz)')\n\nplt.subplot(122)\nplt.plot(centres, spec_linear[:, 0])\nplt.plot(centres, spec_nonlinear[:, 0])\nplt.xticks(np.arange(10)*2)\nplt.grid(True)\nplt.title(\"Hilbert-Huang Transform\")\nplt.legend(['Linear System', 'Nonlinear System'])\nplt.xlabel('Frequency (Hz)')"
      ]
    },
    {
      "cell_type": "markdown",
      "metadata": {},
      "source": [
        "Both the Welch and Hilbert-Huang transform show a clear 2Hz peak for the\nlinear system but differ in how the represent the non-linear system. Welch's\nPeriodogram introduces a harmonic component at 4Hz whereas the Hilbert-Huang\ntransform simply widens the existing 2Hz peak.\n\nWhy would a non-sinsuoidal signal lead to a wider spectral peak in the\nHilbert-Huang transform? To get some intuition about this, we will plot the\nHilbert-Huang spectra alongside the instantaneous frequency traces for the\nlinear and non-linear systems.\n\n"
      ]
    },
    {
      "cell_type": "code",
      "execution_count": null,
      "metadata": {
        "collapsed": false
      },
      "outputs": [],
      "source": [
        "plt.figure(figsize=(10, 6))\nplt.axes([.1, .1, .2, .8])\nplt.plot(spec_linear[:, 0], centres)\nplt.plot(spec_nonlinear[:, 0], centres)\nplt.ylim(0, 10)\nplt.ylabel('Frequency (Hz)')\nplt.xlabel('Power')\nplt.title('HHT')\n\nplt.axes([.32, .1, .65, .8])\nplt.plot(t, IF_linear[:, 0])\nplt.plot(t, IF_nonlinear[:, 0])\nplt.ylim(0, 10)\nplt.xlim(0, 5)\nplt.legend(['Linear system', 'Nonlinear-system'])\nplt.title('Instantaneous Frequency')\nplt.xlabel('Time (seconds)')"
      ]
    },
    {
      "cell_type": "markdown",
      "metadata": {},
      "source": [
        "We see that the linear system has a constant instantaneous frequency which\ndoesn't vary over time. When this constant instantanous frequency is fed into\nthe Hilbert-Huang transform it concentrates all the power into a sharp peak\nwhich looks similar to Welch's periodogram.\n\nIn contrast, the instantanous frequency of the non-linear system does change\nover time. In fact, it seems to be oscillating between values aorund 2Hz (The\nIF variability is actually 2+/- the value for eta defined in the function\nabove). When this variable instantaneous frequency is fed into the\nHilbert-Huang transform, it spreads the power out within this same range.\n\nIf you re-run this analysis with a small value of eta in the nonlinear_system\nfunction you will see that the instantaneous frequency here varies within a\nsmaller range and the peak in the Hilbert-Huang transform gets sharper again.\n\nThe variability in instantaneous frequency reflects the waveform shape\ndistortions introduced by the non-linear system. We can see this by taking a\nlook at the original waveform and the instantnaous freuqencies alongside each\nother.\n\n"
      ]
    },
    {
      "cell_type": "code",
      "execution_count": null,
      "metadata": {
        "collapsed": false
      },
      "outputs": [],
      "source": [
        "plt.figure(figsize=(10, 8))\nplt.subplot(211)\nplt.plot(t, x_linear)\nplt.plot(t, x_nonlinear)\nplt.xlim(0, 3)\nplt.ylabel('Signal\\nAmplitude')\nplt.subplot(212)\nplt.plot(t, IF_linear[:, 0])\nplt.plot(t, IF_nonlinear[:, 0])\nplt.xlim(0, 3)\nplt.ylim(0, 4)\nplt.xlabel('Time (seconds)')\nplt.ylabel('Instantaneous\\nFrequency (Hz)')\nplt.legend(['Linear system', 'Nonlinear-system'])"
      ]
    },
    {
      "cell_type": "markdown",
      "metadata": {},
      "source": [
        "The peaks in instantaneous frequency co-incide with the peaks of the raw\nsignal, whilst the lowest instantaneous frequency values occur around the\ntrough. This reflects how quickly the oscillation is progressing at each\npoint in the cycle. The linear system progresses at a uniform rate throughout\neach cycle and therefore has a constant instantaneous frequency. In\ncontrast, the sharp peaks and wide troughs of the non-linear signal can be\ninterpreted as the cycle processing more quickly and slowly at the peak and\ntrough respectively. The instantnaous frequency tracks this at the full\nsample rate of the data showing high frequnecies around the sharp peaks and\nlow frequencies around the slow troughs.\n\n"
      ]
    },
    {
      "cell_type": "markdown",
      "metadata": {},
      "source": [
        "## Single cycle Instantaneous Frequency\n\n"
      ]
    },
    {
      "cell_type": "markdown",
      "metadata": {},
      "source": [
        "We can extract the instantaneous frequency of single cycles of an oscillation\nto systematically compare differences in waveform shape between signals. Next\nwe extract the indices of individual cycles in our systems and extract the\nIMF time-course waveform and instantaneous frequency of these cycles into\nseparate matrices.\n\n"
      ]
    },
    {
      "cell_type": "code",
      "execution_count": null,
      "metadata": {
        "collapsed": false
      },
      "outputs": [],
      "source": [
        "# Find cycle indices\ncycles_linear = emd.cycles.get_cycle_inds(IP_linear, return_good=True)\ncycles_nonlinear = emd.cycles.get_cycle_inds(IP_nonlinear, return_good=True)\n\n# Pre-allocate an array for linear cycles\nwaveform_linear = np.zeros((300, cycles_linear.max()))*np.nan\ninstfreq_linear = np.zeros((300, cycles_linear.max()))*np.nan\n\n# Extract waveform and IF info\nfor ii in range(1, cycles_linear.max()+1):\n    inds = cycles_linear[:, 0] == ii\n    waveform_linear[:np.sum(inds), ii-1] = imf_linear[inds, 0]\n    instfreq_linear[:np.sum(inds), ii-1] = IF_linear[inds, 0]\n\n# Pre-allocate an array for non-linear cycles\nwaveform_nonlinear = np.zeros((300, cycles_nonlinear.max()))*np.nan\ninstfreq_nonlinear = np.zeros((300, cycles_nonlinear.max()))*np.nan\n\n# Extract waveform and IF info\nfor ii in range(1, cycles_nonlinear.max()+1):\n    inds = cycles_nonlinear[:, 0] == ii\n    waveform_nonlinear[:np.sum(inds), ii-1] = imf_nonlinear[inds, 0]\n    instfreq_nonlinear[:np.sum(inds), ii-1] = IF_nonlinear[inds, 0]"
      ]
    },
    {
      "cell_type": "markdown",
      "metadata": {},
      "source": [
        "We next directly compare waveform of examples cycles from the linear and\nnon-linear systems. We plot the fifth cycle as an example. The first panel\nplots the waveform of the example cycles, there is a clear difference in\nwaveform shape between the linear and non-linear systems. Panel 2 plots the\ninstantaneous phase, the phase of the linear system progresses in a straight\nline whilst the nonlinear phase progresses at different rates throughout the\ncycle - it starts quickly but then slows. These dynamics are illustrated in\npanel 3 showing the instantaneous frequencies (computed from the derivative\nof the phase). The non-linear cycle has a relatively high frequency at the\nstart of the cycle and a relatively low frequency at the end. In contrast,\nthe linear cycle has a constant frequency.\n\n"
      ]
    },
    {
      "cell_type": "code",
      "execution_count": null,
      "metadata": {
        "collapsed": false
      },
      "outputs": [],
      "source": [
        "cycle_ind_linear = cycles_linear[:, 0] == 5\ncycle_ind_nonlinear = cycles_nonlinear[:, 0] == 5\n\nplt.figure(figsize=(4, 8))\nplt.subplots_adjust(left=.25, hspace=.3)\nplt.subplot(311)\nplt.plot(imf_linear[cycle_ind_linear, 0])\nplt.plot(imf_nonlinear[cycle_ind_nonlinear, 0])\nplt.xlabel('Samples')\nplt.grid(True)\n\nplt.subplot(312)\nplt.plot(IP_linear[cycle_ind_linear, 0])\nplt.plot(IP_nonlinear[cycle_ind_nonlinear, 0])\nplt.ylabel('Instataneous\\nPhase')\nplt.xlabel('Samples')\nplt.yticks(np.linspace(0, np.pi*2, 5), [r'$0$', r'$\\pi/2$', r'$\\pi$', r'$3\\pi/2$', r'$2\\pi$'])\nplt.grid(True)\n\nplt.subplot(313)\nplt.plot(IF_linear[cycle_ind_linear, 0])\nplt.plot(IF_nonlinear[cycle_ind_nonlinear, 0])\nplt.ylabel('Instataneous\\nFrequency')\nplt.xlabel('Samples')\nplt.grid(True)"
      ]
    },
    {
      "cell_type": "markdown",
      "metadata": {},
      "source": [
        "Unfortuanetely, We cannot directly compare these two instantaneous frequency\nprofiles as they are. Though both are the same length the change in waveform\nshape means that the x-axis is misaligned between them. Specifically, we can\nsee that the nonlinear cycle has a descending zero-crossing around 100\nsamples into the cycle whilst the linear cycle crosses zero around 125\nsamples in. Similarly the peak and trough are a little shifted between the\ncycles.\n\nAs such, if we simply compute a comparison between these cycles, we cannot be\nsure we're comparing featuers like for like. We may be contrasting the\nshoulder of one cycle with the zero-crossing of another.\n\nOne solution is called phase-alignment. We can plot the evolution of each\ncycle as over its phase rather than over time. We do this for the waveform\nand the instantaneous frequency next.\n\n"
      ]
    },
    {
      "cell_type": "code",
      "execution_count": null,
      "metadata": {
        "collapsed": false
      },
      "outputs": [],
      "source": [
        "plt.figure(figsize=(10, 4))\nplt.subplots_adjust(bottom=.15, wspace=.3)\nplt.subplot(121)\nplt.plot(IP_linear[cycle_ind_linear, 0], imf_linear[cycle_ind_linear, 0])\nplt.plot(IP_nonlinear[cycle_ind_nonlinear, 0], imf_nonlinear[cycle_ind_nonlinear, 0])\nplt.xlabel('Instataneous\\nPhase')\nplt.ylabel('Instataneous\\nFrequency')\nplt.xticks(np.linspace(0, np.pi*2, 5), [r'$0$', r'$\\pi/2$', r'$\\pi$', r'$3\\pi/2$', r'$2\\pi$'])\nplt.grid(True)\nplt.title('Phase-aligned\\nWaveforms')\n\nplt.subplot(122)\nplt.plot(IP_linear[cycle_ind_linear, 0], IF_linear[cycle_ind_linear, 0])\nplt.plot(IP_nonlinear[cycle_ind_nonlinear, 0], IF_nonlinear[cycle_ind_nonlinear, 0])\nplt.xlabel('Instataneous\\nPhase')\nplt.ylabel('Instataneous\\nFrequency')\nplt.xticks(np.linspace(0, np.pi*2, 5), [r'$0$', r'$\\pi/2$', r'$\\pi$', r'$3\\pi/2$', r'$2\\pi$'])\nplt.grid(True)\nplt.title('Phase-aligned\\nInst. Freq')"
      ]
    },
    {
      "cell_type": "markdown",
      "metadata": {},
      "source": [
        "The phase-alignment makes the waveform of both cycles nearly exactly\nsinusoidal. Crucially information about the waveform shape of the cycles in\nthe instantaneous frequency is preserved. We can see that at the cycle peak\n(where phase is pi/2) the nonlinear cycle has a much higher frequency than\nthe linear cycle. The frequencies of the two cycles are nearly equal just\nafter the ascending zerp-crossing (where phase is pi) and the nonlinear cycle\nhas a much lower frequency around the trough.\n\nThis presentation of the data makes comparisons across cycles much simpler.\nWe can now discuss differences between the shape of specific parts of a cycle\n- such as the peak or trough.\n\n"
      ]
    },
    {
      "cell_type": "markdown",
      "metadata": {},
      "source": [
        "## A dynamic oscillation with noise\n\n"
      ]
    },
    {
      "cell_type": "markdown",
      "metadata": {},
      "source": [
        "Unfortunately most signals are more complex than our sine-wave above! Here we\napply the same analysis as above to a dynamic & noisy signal. The signal\ndynamics make the signal more interesting but also introduce some challenges\nfor waveform shape analyses, we will explore what these are and how\nphase-alignment can be useful to overcome them.\n\nFirst we generate a dynamic oscillation using direct pole-placement to create\nan autoregressive model with a peak around 12Hz. We then pass the dynamic\noscillation through our linear and non-linear systems as above. Finally we\nadd some white noise.\n\n"
      ]
    },
    {
      "cell_type": "code",
      "execution_count": null,
      "metadata": {
        "collapsed": false
      },
      "outputs": [],
      "source": [
        "peak_freq = 12\nsample_rate = 512\nseconds = 60\nnoise_std = None\nx = emd.utils.ar_simulate(peak_freq, sample_rate, seconds, noise_std=noise_std, random_seed=42, r=.99)\nx = x * 1e-5\nt = np.linspace(0, seconds, seconds*sample_rate)\n\nx_linear = linear_system(x, K=1) + np.random.randn(len(t), 1)*5e-2\nx_nonlinear = nonlinear_system(x, K=1, eta=2) + np.random.randn(len(t), 1)*5e-2"
      ]
    },
    {
      "cell_type": "markdown",
      "metadata": {},
      "source": [
        "We compute our IMFs using the mask_sift with default parameters. First on the linear system.\n\n"
      ]
    },
    {
      "cell_type": "code",
      "execution_count": null,
      "metadata": {
        "collapsed": false
      },
      "outputs": [],
      "source": [
        "# Compute IMFs\nimf_linear = emd.sift.mask_sift(x_linear)\n\n# Visualise IMFs\nemd.plotting.plot_imfs(imf_linear[:sample_rate*4, :], cmap=True, scale_y=True)"
      ]
    },
    {
      "cell_type": "markdown",
      "metadata": {},
      "source": [
        "The oscillation is isolated into IMF-3. The remaining IMFs comtain low\nmagnitude noise. Next we run the same on the non-linear system.\n\n"
      ]
    },
    {
      "cell_type": "code",
      "execution_count": null,
      "metadata": {
        "collapsed": false
      },
      "outputs": [],
      "source": [
        "# Compute IMFs\nimf_nonlinear = emd.sift.mask_sift(x_nonlinear)\n\n# Visualise IMFs\nemd.plotting.plot_imfs(imf_nonlinear[:sample_rate*4, :], cmap=True, scale_y=True)"
      ]
    },
    {
      "cell_type": "markdown",
      "metadata": {},
      "source": [
        "Again the oscillatory component is isolated into IMF-3. Next we compute the\ninstantanous frequency metrics for the linear and nonlinear IMFs using the\nNormalise Hilbert Transform.\n\n"
      ]
    },
    {
      "cell_type": "code",
      "execution_count": null,
      "metadata": {
        "collapsed": false
      },
      "outputs": [],
      "source": [
        "IP_linear, IF_linear, IA_linear = emd.spectra.frequency_transform(imf_linear, sample_rate, 'nht')\nIP_nonlinear, IF_nonlinear, IA_nonlinear = emd.spectra.frequency_transform(imf_nonlinear, sample_rate, 'nht')"
      ]
    },
    {
      "cell_type": "markdown",
      "metadata": {},
      "source": [
        "We next compare the spectral content of the signal using the EMD based\nHilbert-Huang transform and the Fourier based Welch's Periodogram.\n\n"
      ]
    },
    {
      "cell_type": "code",
      "execution_count": null,
      "metadata": {
        "collapsed": false
      },
      "outputs": [],
      "source": [
        "# Welch's Periodogram\nf, pxx_linear = signal.welch(x_linear[:, 0], fs=sample_rate, nperseg=2048)\nf, pxx_nonlinear = signal.welch(x_nonlinear[:, 0], fs=sample_rate, nperseg=2048)\n\n# Hilbert-Huang Transform\nedges, centres = emd.spectra.define_hist_bins(0, 40, 64)\nspec_linear = emd.spectra.hilberthuang_1d(IF_linear, IA_linear, edges, mode='amplitude')\nspec_nonlinear = emd.spectra.hilberthuang_1d(IF_nonlinear, IA_nonlinear, edges, mode='amplitude')\n\n# Summary figure\nplt.figure()\nplt.subplot(121)\nplt.plot(f, pxx_linear)\nplt.plot(f, pxx_nonlinear)\nplt.title(\"Welch's Periodogram\")\nplt.xlabel('Frequency (Hz)')\nplt.ylabel('Power')\nplt.xlim(0, 40)\nplt.subplot(122)\nplt.plot(centres, spec_linear[:, 2])\nplt.plot(centres, spec_nonlinear[:, 2])\nplt.xlabel('Frequency (Hz)')\nplt.title(\"Hilbert-Huang Transform\")\nplt.legend(['Linear System', 'Nonlinear System'])"
      ]
    },
    {
      "cell_type": "markdown",
      "metadata": {},
      "source": [
        "As with the simple sinusoidal signal in the first section. We see that the\nnon-sinsusoidal waveform introduced by the nonlinear system introduces a\nharmonic into Welch's Periodogram and widens the 12Hz peak of the\nHilbert-Huang transform.\n\nWe can plot the waveform and instantanous frequency alongside each other to\ntry and see how the shape might be affecting instantanous frequency.\n\n"
      ]
    },
    {
      "cell_type": "code",
      "execution_count": null,
      "metadata": {
        "collapsed": false
      },
      "outputs": [],
      "source": [
        "plt.figure(figsize=(8, 6))\nplt.subplot(211)\nplt.plot(t, imf_linear[:, 2])\nplt.plot(t, imf_nonlinear[:, 2])\nplt.xlim(0, 3)\nplt.subplot(212)\nplt.plot(t, IF_linear[:, 2])\nplt.plot(t, IF_nonlinear[:, 2])\nplt.xlim(0, 3)\nplt.ylim(0, 25)\nplt.ylabel('Instantaneous\\nFrequency (Hz)')\nplt.xlabel('Time (seconds)')\nplt.legend(['Linear System', 'Nonlinear System'])"
      ]
    },
    {
      "cell_type": "markdown",
      "metadata": {},
      "source": [
        "In contrast to the simple sinusoidal case, this plot looks very noisy. The\ninstantaneous frequency estimates are very volitile in parts of the signal\nwith low amplitude (such as 1-1.75 seconds). If we concentrate on clean parts\nof the signal (say 0-0.5 seconds) we can perhaps see a suggestion that the\nnon-linear instantnaous frequency is changing more than the linear one but it\nis perhaps hard to tell from this alone.\n\nWe can try to clean up the analysis by contentrating on oscillatory cycles\nwhich have a well formed phase and an amplitude above a specified threshold.\nWe extract these cycles using the ``emd.cycles.get_cycle_inds`` function with\na defined mask based on instantanous amplitude. We apply a mask here as phase\nestimates, and therefore instantaneous frequency estimates, can be very noisy\nin very low power signals - including the very low amplitude cycles we could\nget noisy frequency jumps which will distort our average. This mask removes\naround 20% of the cycles with the vary lowest amplitudes to avoid this noise.\n\n"
      ]
    },
    {
      "cell_type": "code",
      "execution_count": null,
      "metadata": {
        "collapsed": false
      },
      "outputs": [],
      "source": [
        "mask = IA_linear[:, 2] > .05\ncycles_linear = emd.cycles.get_cycle_inds(IP_linear, return_good=True, mask=mask)\n\nmask = IA_nonlinear[:, 2] > .05\ncycles_nonlinear = emd.cycles.get_cycle_inds(IP_nonlinear, return_good=True, mask=mask)"
      ]
    },
    {
      "cell_type": "markdown",
      "metadata": {},
      "source": [
        "Next we extract the per-cycle IMF and instantaneous frequencies for both\nsystems. We will also compute the 'control points' for each cycle, these are\nthe indices of the peak, zero-crossings and trough of each cycle.\n\n"
      ]
    },
    {
      "cell_type": "code",
      "execution_count": null,
      "metadata": {
        "collapsed": false
      },
      "outputs": [],
      "source": [
        "waveform_linear = np.zeros((60, cycles_linear.max()))*np.nan\ninstfreq_linear = np.zeros((60, cycles_linear.max()))*np.nan\n\nfor ii in range(1, cycles_linear.max()+1):\n    inds = cycles_linear[:, 2] == ii\n    waveform_linear[:np.sum(inds), ii-1] = imf_linear[inds, 2]\n    instfreq_linear[:np.sum(inds), ii-1] = IF_linear[inds, 2]\n\nctrl_linear = emd.cycles.get_control_points(imf_linear[:, 2], cycles_linear[:, 2])\n\nwaveform_nonlinear = np.zeros((60, cycles_nonlinear.max()))*np.nan\ninstfreq_nonlinear = np.zeros((60, cycles_nonlinear.max()))*np.nan\n\nfor ii in range(1, cycles_nonlinear.max()+1):\n    inds = cycles_nonlinear[:, 2] == ii\n    waveform_nonlinear[:np.sum(inds), ii-1] = imf_nonlinear[inds, 2]\n    instfreq_nonlinear[:np.sum(inds), ii-1] = IF_nonlinear[inds, 2]\n\nctrl_nonlinear = emd.cycles.get_control_points(imf_nonlinear[:, 2], cycles_nonlinear[:, 2])"
      ]
    },
    {
      "cell_type": "markdown",
      "metadata": {},
      "source": [
        "Next we plot a big summary of the single cycle IMFs. The top row contains\neach single cycle and the second row contains the average across cycles. As\nwith the simple oscillation in the first example, we can see by eye that the\nvariability in the signal is shifting the relative timing of the peaks and\ntroughs within each cycle.\n\nUnfortunately there is a second problem caused by the dynamics in this\nsignal. As well as shape induced variability in the timinig of features\nwithin cycles, there is also variability in the overall durations of each\ncycle. These both add up to create considerable noise in cross cycle comparisons.\n\nThe third row contains histograms of the timings of the control points within\neach cycle. The further we get from the 'locking-point' at the start of the\ncycle, the wider these distributions become. The troughs can occur anywhere\nbetween 25 and 40 samples into a cycle.\n\nFinally the fourth row show the number of cycles contributing to the average\nat each point in time. After 40 samples there are relatively few cycles long\nenough to contribute to an average at this point. Around 50-60 cycles we have\nalmost none.\n\n"
      ]
    },
    {
      "cell_type": "code",
      "execution_count": null,
      "metadata": {
        "collapsed": false
      },
      "outputs": [],
      "source": [
        "plt.figure(figsize=(6, 9))\nplt.subplot(421)\nplt.title('Linear oscillations')\nplt.plot(waveform_linear)\nplt.xticks(np.arange(7)*10, [])\nplt.grid(True)\n\nplt.subplot(422)\nplt.title('Nonlinear oscillations')\nplt.plot(waveform_nonlinear)\nplt.xticks(np.arange(7)*10, [])\nplt.grid(True)\n\nplt.subplot(423)\nplt.title('Linear avg. waveform')\nplt.plot(np.nanmean(waveform_linear, axis=1))\nplt.xticks(np.arange(7)*10, [])\nplt.grid(True)\n\nplt.subplot(424)\nplt.title('Nonlinear avg. waveform')\nplt.plot(np.nanmean(waveform_nonlinear, axis=1))\nplt.xticks(np.arange(7)*10, [])\nplt.grid(True)\n\nplt.subplot(425)\nplt.title('Linear ctrl points')\nplt.hist(ctrl_linear[:, 1], np.linspace(0, 50))\nplt.hist(ctrl_linear[:, 2], np.linspace(0, 50))\nplt.hist(ctrl_linear[:, 3], np.linspace(0, 50))\nplt.xticks(np.arange(7)*10, [])\nplt.grid(True)\n\nplt.subplot(426)\nplt.title('Nonlinear ctrl points')\nplt.hist(ctrl_nonlinear[:, 1], np.linspace(0, 50))\nplt.hist(ctrl_nonlinear[:, 2], np.linspace(0, 50))\nplt.hist(ctrl_nonlinear[:, 3], np.linspace(0, 50))\nplt.xticks(np.arange(7)*10, [])\nplt.grid(True)\nplt.legend(['Peak', 'Desc ZC', 'Trough'])\n\nplt.subplot(427)\nplt.title('Linear Num Cycles')\nplt.plot(np.sum(~np.isnan(waveform_linear), axis=1))\nplt.xticks(np.arange(7)*10)\nplt.grid(True)\n\nplt.subplot(428)\nplt.xlabel('Samples')\nplt.title('Nonlinear Num Cycles')\nplt.plot(np.sum(~np.isnan(waveform_nonlinear), axis=1))\nplt.xticks(np.arange(7)*10)\nplt.grid(True)"
      ]
    },
    {
      "cell_type": "markdown",
      "metadata": {},
      "source": [
        "We can make the equivalent plot for the instantaneous frequency - again the\ntwo sources in variability are visible.\n\n"
      ]
    },
    {
      "cell_type": "code",
      "execution_count": null,
      "metadata": {
        "collapsed": false
      },
      "outputs": [],
      "source": [
        "plt.figure(figsize=(6, 9))\nplt.subplot(421)\nplt.title('Linear oscillations')\nplt.plot(instfreq_linear)\nplt.xticks(np.arange(7)*10, [])\nplt.grid(True)\n\nplt.subplot(422)\nplt.title('Nonlinear oscillations')\nplt.plot(instfreq_nonlinear)\nplt.xticks(np.arange(7)*10, [])\nplt.grid(True)\n\nplt.subplot(423)\nplt.title('Linear avg. instfreq')\nplt.plot(np.nanmean(instfreq_linear, axis=1))\nplt.xticks(np.arange(7)*10, [])\nplt.grid(True)\n\nplt.subplot(424)\nplt.title('Nonlinear avg. instfreq')\nplt.plot(np.nanmean(instfreq_nonlinear, axis=1))\nplt.xticks(np.arange(7)*10, [])\nplt.grid(True)\n\nplt.subplot(425)\nplt.title('Linear ctrl points')\nplt.hist(ctrl_linear[:, 1], np.linspace(0, 50))\nplt.hist(ctrl_linear[:, 2], np.linspace(0, 50))\nplt.hist(ctrl_linear[:, 3], np.linspace(0, 50))\nplt.xticks(np.arange(7)*10, [])\nplt.grid(True)\n\nplt.subplot(426)\nplt.title('Nonlinear ctrl points')\nplt.hist(ctrl_nonlinear[:, 1], np.linspace(0, 50))\nplt.hist(ctrl_nonlinear[:, 2], np.linspace(0, 50))\nplt.hist(ctrl_nonlinear[:, 3], np.linspace(0, 50))\nplt.xticks(np.arange(7)*10, [])\nplt.grid(True)\nplt.legend(['Peak', 'Desc ZC', 'Trough'])\n\nplt.subplot(427)\nplt.title('Linear Num Cycles')\nplt.plot(np.sum(~np.isnan(instfreq_linear), axis=1))\nplt.xticks(np.arange(7)*10)\nplt.grid(True)\n\nplt.subplot(428)\nplt.xlabel('Samples')\nplt.title('Nonlinear Num Cycles')\nplt.plot(np.sum(~np.isnan(instfreq_nonlinear), axis=1))\nplt.xticks(np.arange(7)*10)\nplt.grid(True)"
      ]
    },
    {
      "cell_type": "markdown",
      "metadata": {},
      "source": [
        "We can see an indication that there may be a difference in shape between the\nlinear and nonlinear systems but it is hard to interpret when looking at the\nwaveform or instantaneous frequency as a function of time.\n\nAs in the first section, we can make a cleaner comparison considering the\nevolution of a cycle as a function of its phase rather than across time. Next\nwe compute this phase alignment using ``emd.cycles.phase_align``. This\ninterpolates the instantaneous phase of a signal onto a regularly sampled\ngrid before applying that interpolation onto a metric of our choice. Here we\nwill phase align the IMF and the instantaneous frequency values for the\nlinear and non linear systems.\n\n"
      ]
    },
    {
      "cell_type": "code",
      "execution_count": null,
      "metadata": {
        "collapsed": false
      },
      "outputs": [],
      "source": [
        "pa_waveform_linear = emd.cycles.phase_align(IP_linear[:, 2],\n                                            imf_linear[:, 2],\n                                            cycles=cycles_linear[:, 2])\npa_waveform_nonlinear = emd.cycles.phase_align(IP_nonlinear[:, 2],\n                                               imf_nonlinear[:, 2],\n                                               cycles=cycles_nonlinear[:, 2])\n\npa_if_linear = emd.cycles.phase_align(IP_linear[:, 2],\n                                      IF_linear[:, 2],\n                                      cycles=cycles_linear[:, 2])\npa_if_nonlinear = emd.cycles.phase_align(IP_nonlinear[:, 2],\n                                         IF_nonlinear[:, 2],\n                                         cycles=cycles_nonlinear[:, 2])\n\nphase_template = np.linspace(0, np.pi*2, 48)"
      ]
    },
    {
      "cell_type": "markdown",
      "metadata": {},
      "source": [
        "Plotting the phase aligned results, we see that the IMF waveforms are\ntransformed into near perfect sinusoids confirming that the phase alignment\nhas done a good job at projecting the phase onto a regular grid.\n\nWhen applying this projection onto the instantaneous frequencies we can see\nthat the nonlinear cycle has a higher frequency peak and lower frequency\ntrough than the linear cycles. Thanks to the phase alignment we can be\nconfident that we are really comparing features like-for-like between the two\nsystem despite variability in timing of features within cycles and\nvariability in the absolution duration of cycles.\n\n"
      ]
    },
    {
      "cell_type": "code",
      "execution_count": null,
      "metadata": {
        "collapsed": false
      },
      "outputs": [],
      "source": [
        "plt.figure(figsize=(10, 4))\nplt.subplots_adjust(bottom=.15, wspace=.3)\nplt.subplot(121)\nplt.plot(phase_template, pa_waveform_linear.mean(axis=1))\nplt.plot(phase_template, pa_waveform_nonlinear.mean(axis=1))\nplt.xlabel('Instataneous\\nPhase')\nplt.xticks(np.linspace(0, np.pi*2, 5), [r'$0$', r'$\\pi/2$', r'$\\pi$', r'$3\\pi/2$', r'$2\\pi$'])\nplt.grid(True)\nplt.title('Phase-aligned\\nIMF')\n\nplt.subplot(122)\nplt.plot(phase_template, pa_if_linear.mean(axis=1))\nplt.plot(phase_template, pa_if_nonlinear.mean(axis=1))\nplt.ylim(10, 16)\nplt.legend(['Linear System', 'Nonlinear system'])\nplt.xlabel('Instataneous\\nPhase')\nplt.ylabel('Instataneous\\nFrequency')\nplt.xticks(np.linspace(0, np.pi*2, 5), [r'$0$', r'$\\pi/2$', r'$\\pi$', r'$3\\pi/2$', r'$2\\pi$'])\nplt.grid(True)\nplt.title('Phase-aligned\\nInst. Freq')"
      ]
    },
    {
      "cell_type": "markdown",
      "metadata": {},
      "source": [
        "We can now use conventional statistics to compare waveforms between groups.\nHere we do an independent samples t-test to describe differences in phase\naligned instantaneous frequency between the linear and nonlinear systems.\n\n"
      ]
    },
    {
      "cell_type": "code",
      "execution_count": null,
      "metadata": {
        "collapsed": false
      },
      "outputs": [],
      "source": [
        "tvals, pvals = stats.ttest_ind(pa_if_nonlinear, pa_if_linear, axis=1)\n\nplt.figure(figsize=(10, 4))\nplt.subplots_adjust(bottom=.15, wspace=.3)\nplt.subplot(121)\nplt.plot(phase_template, pa_if_linear.mean(axis=1))\nplt.plot(phase_template, pa_if_nonlinear.mean(axis=1))\nplt.ylim(10, 16)\nplt.legend(['Linear System', 'Nonlinear system'])\nplt.xlabel('Instataneous\\nPhase')\nplt.ylabel('Instataneous\\nFrequency')\nplt.xticks(np.linspace(0, np.pi*2, 5), [r'$0$', r'$\\pi/2$', r'$\\pi$', r'$3\\pi/2$', r'$2\\pi$'])\nplt.grid(True)\nplt.title('Phase-aligned\\nInst. Freq')\n\nplt.subplot(122)\nplt.plot(phase_template, tvals)\nplt.xlabel('Instataneous\\nPhase')\nplt.ylabel('t-statistic')\nplt.xticks(np.linspace(0, np.pi*2, 5), [r'$0$', r'$\\pi/2$', r'$\\pi$', r'$3\\pi/2$', r'$2\\pi$'])\nplt.grid(True)\nplt.title('Nonlinear > Linear IF')"
      ]
    }
  ],
  "metadata": {
    "kernelspec": {
      "display_name": "Python 3",
      "language": "python",
      "name": "python3"
    },
    "language_info": {
      "codemirror_mode": {
        "name": "ipython",
        "version": 3
      },
      "file_extension": ".py",
      "mimetype": "text/x-python",
      "name": "python",
      "nbconvert_exporter": "python",
      "pygments_lexer": "ipython3",
      "version": "3.7.6"
    }
  },
  "nbformat": 4,
  "nbformat_minor": 0
}