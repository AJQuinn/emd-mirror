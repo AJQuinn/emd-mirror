{
  "cells": [
    {
      "cell_type": "code",
      "execution_count": null,
      "metadata": {
        "collapsed": false
      },
      "outputs": [],
      "source": [
        "%matplotlib inline"
      ]
    },
    {
      "cell_type": "markdown",
      "metadata": {},
      "source": [
        "\n# The sift in detail\nHere, we will run through the different steps of the sift and get to know some\nof the lower-level functions which are used by the core sift functions.  There\nare four levels of functions which are used in the sift.\n\nWe will take a look at each of these steps in turn using a simulated time-series.\n"
      ]
    },
    {
      "cell_type": "markdown",
      "metadata": {},
      "source": [
        "Lets make a simulated signal to get started.\n\n"
      ]
    },
    {
      "cell_type": "code",
      "execution_count": null,
      "metadata": {
        "collapsed": false
      },
      "outputs": [],
      "source": [
        "import emd\nimport numpy as np\nimport matplotlib.pyplot as plt\n\nsample_rate = 1000\nseconds = 10\nnum_samples = sample_rate*seconds\ntime_vect = np.linspace(0, seconds, num_samples)\nfreq = 5\n\n# Change extent of deformation from sinusoidal shape [-1 to 1]\nnonlinearity_deg = .25\n\n# Change left-right skew of deformation [-pi to pi]\nnonlinearity_phi = -np.pi/4\n\n# Create a non-linear oscillation\nx = emd.utils.abreu2010(freq, nonlinearity_deg, nonlinearity_phi, sample_rate, seconds)\n\nx += np.cos(2 * np.pi * 1 * time_vect)        # Add a simple 1Hz sinusoid\nx -= np.sin(2 * np.pi * 2.2e-1 * time_vect)   # Add part of a very slow cycle as a trend\n\n# sphinx_gallery_thumbnail_number = 7"
      ]
    },
    {
      "cell_type": "markdown",
      "metadata": {},
      "source": [
        "## Sifting\n\n"
      ]
    },
    {
      "cell_type": "markdown",
      "metadata": {},
      "source": [
        "The top-level of options configure the sift itself. These options vary\nbetween the type of sift that is being performed and options don't generalise\nbetween different variants of the sift.\n\nHere we will run a standard sift on our simulation.\n\n"
      ]
    },
    {
      "cell_type": "code",
      "execution_count": null,
      "metadata": {
        "collapsed": false
      },
      "outputs": [],
      "source": [
        "# Get the default configuration for a sift\nconfig = emd.sift.get_config('sift')\n# Adjust the threshold for accepting an IMF\nconfig['imf_opts/sd_thresh'] = 0.05\n\nimf = emd.sift.sift(x)\n\nemd.plotting.plot_imfs(imf, cmap=True, scale_y=True)"
      ]
    },
    {
      "cell_type": "markdown",
      "metadata": {},
      "source": [
        "Internally the ``sift`` function calls a set of lower level functions to\n extract the IMFs. These functions are call in a hierarchy when you run\n ``sift`` it will call ``get_next_imf`` behind the scenes. Similarly,\n ``get_next_imf`` makes use of ``interp_envelope`` and so on.\n\n- ``get_next_imf`` extracts the fastest IMF from an input signal\n- ``interp_envelope`` find the interpolated envelope of a signal.\n- ``get_padded_extrema`` identifies the location and magnitude of signal extrema with optional padding.\n\n"
      ]
    },
    {
      "cell_type": "markdown",
      "metadata": {},
      "source": [
        "We will run through each of these functions in now, giving some examples of their use and options.\n\n"
      ]
    },
    {
      "cell_type": "markdown",
      "metadata": {},
      "source": [
        "## IMF Extraction\n\n"
      ]
    },
    {
      "cell_type": "markdown",
      "metadata": {},
      "source": [
        "After the top-level sift function, the next layer is IMF extraction as\nimplemented in ``emd.sift.get_next_imf``.  This uses the envelope\ninterpolation and extrema detection to carry out the sifting iterations on a\ntime-series to return a single intrinsic mode function.\n\nThis is the main function used when implementing novel types of sift. For\ninstance, the ensemble sift uses this ``emd.sift.get_next_imf`` to extract\nIMFs from many repetitions of the signal with small amounts of noise added.\nSimilarly the mask sift calls ``emd.sift.get_next_imf`` after adding a mask\nsignal to the data.\n\nHere we call ``get_next_imf`` repeatedly on a signal and its residuals to\nimplement a very simple sift. We extract the first IMF, subtract it from the\ndata and then extract the second and third IMFs. We then plot the original\nsignal, the IMFs and the residual.\n\n"
      ]
    },
    {
      "cell_type": "code",
      "execution_count": null,
      "metadata": {
        "collapsed": false
      },
      "outputs": [],
      "source": [
        "# Extract the options for get_next_imf - these can be customised here at this point.\nimf_opts = config['imf_opts']\n\n#\u00a0Extract first IMF from the signal\nimf1, continue_sift = emd.sift.get_next_imf(x[:, None],           **imf_opts)\n\n# Extract second IMF from the signal with the first IMF removed\nimf2, continue_sift = emd.sift.get_next_imf(x[:, None]-imf1,      **imf_opts)\n\n# Extract third IMF from the signal with the first and second IMFs removed\nimf3, continue_sift = emd.sift.get_next_imf(x[:, None]-imf1-imf2, **imf_opts)\n\n# The residual is the signal component left after removing the IMFs\nresidual = x[:, None]-imf1-imf2-imf3\n\n#\u00a0Contactenate our IMFs into one array\nimfs_manual = np.c_[imf1, imf2, imf3, residual]\n\n# Visualise\nemd.plotting.plot_imfs(imfs_manual, cmap=True, scale_y=True)"
      ]
    },
    {
      "cell_type": "markdown",
      "metadata": {},
      "source": [
        "These IMFs should be identical to the IMFs obtained using ``emd.sift.sift`` above.\n\n"
      ]
    },
    {
      "cell_type": "markdown",
      "metadata": {},
      "source": [
        "## Envelope interpolation\n\n"
      ]
    },
    {
      "cell_type": "markdown",
      "metadata": {},
      "source": [
        "A large part of IMF exraction is the computation of an upper and lower\nenvelope of the signal.  This is done through interpolation using\n``emd.sift.interp_envelope`` and the options in the ``envelope`` section of\nthe config.\n\n\n"
      ]
    },
    {
      "cell_type": "code",
      "execution_count": null,
      "metadata": {
        "collapsed": false
      },
      "outputs": [],
      "source": [
        "# Extract envelope options\nenv_opts = config['envelope_opts']\n\n# Compute upper and lower envelopes\nupper_env = emd.utils.interp_envelope(x, mode='upper', **env_opts)\nlower_env = emd.utils.interp_envelope(x, mode='lower', **env_opts)\n\n# Compute average envelope\navg_env = (upper_env+lower_env) / 2\n\n# Visualise\nplt.figure(figsize=(12, 6))\nplt.plot(x, 'k')\nplt.plot(upper_env, 'r')\nplt.plot(lower_env, 'b')\nplt.plot(avg_env, 'g')\nplt.legend(['Signal', 'Upper Envelope', 'Lower Envelope', 'Avg. Envelope'])"
      ]
    },
    {
      "cell_type": "markdown",
      "metadata": {},
      "source": [
        "Subtracting the upper and lower envelopes from the signal removes slow\ndynamics from the signal. Next, we subtract the average envelope from our\nsignal.\n\n"
      ]
    },
    {
      "cell_type": "code",
      "execution_count": null,
      "metadata": {
        "collapsed": false
      },
      "outputs": [],
      "source": [
        "# Plot the signal with the average of the upper and lower envelopes subtracted alongside IMF1\nplt.figure(figsize=(12, 6))\nplt.subplot(211)\nplt.plot(x-avg_env, 'k')\nplt.title('Signal-Average Envelope')\nplt.subplot(212)\nplt.plot(imf1, 'b')\nplt.title('IMF1')"
      ]
    },
    {
      "cell_type": "markdown",
      "metadata": {},
      "source": [
        "Note that the simple subtraction is very similar to IMF1 as extracted above.\nIn real data, several iterations of envelope computation and subtraction may\nbe required to identify a well-formed IMF.\n\nIn this case there is a small amplitude error in the IMF at the very start.\nThis is due to uncertainty in the envelope interpolation at the edges. This\ncan sometimes be reduced by changing the interpolation and extrema padding\noptions but is hard to completely overcome. It is often sensible to treat the\nfirst and last couple of cycles in an IMF with caution.\n\n"
      ]
    },
    {
      "cell_type": "markdown",
      "metadata": {},
      "source": [
        "## Extrema detection and padding\n\n"
      ]
    },
    {
      "cell_type": "markdown",
      "metadata": {},
      "source": [
        "Finally, the lowest-level functions involve extrema detection and padding as\nimplemented in the ``emd.sift.get_padded_extrema`` function. This is a simple\nfunction which identifies extrema using ``scipy.signal``. Here we identify\npeaks and troughs without any padding applied.\n\n"
      ]
    },
    {
      "cell_type": "code",
      "execution_count": null,
      "metadata": {
        "collapsed": false
      },
      "outputs": [],
      "source": [
        "max_locs, max_mag = emd.sift.get_padded_extrema(x, pad_width=0, mode='peaks')\nmin_locs, min_mag = emd.sift.get_padded_extrema(x, pad_width=0, mode='troughs')\n\nplt.figure(figsize=(12, 3))\nplt.plot(x, 'k')\nplt.plot(max_locs, max_mag, 'or')\nplt.plot(min_locs, min_mag, 'ob')\nplt.legend(['Signal', 'Maxima', 'Minima'])"
      ]
    },
    {
      "cell_type": "markdown",
      "metadata": {},
      "source": [
        "Extrema padding is used to stablise the envelope at the edges of the\ntime-series. The ``emd.sift.get_padded_extrema`` function identifies and pads\nextrema in a time-series. This calls the ``emd.sift.find_extrema`` internally.\n\n"
      ]
    },
    {
      "cell_type": "code",
      "execution_count": null,
      "metadata": {
        "collapsed": false
      },
      "outputs": [],
      "source": [
        "max_locs, max_mag = emd.sift.get_padded_extrema(x, pad_width=2, mode='peaks')\nmin_locs, min_mag = emd.sift.get_padded_extrema(x, pad_width=2, mode='troughs')\n\nplt.figure(figsize=(12, 3))\nplt.plot(x, 'k')\nplt.plot(max_locs, max_mag, 'or')\nplt.plot(min_locs, min_mag, 'ob')\nplt.legend(['Signal', 'Maxima', 'Minima'])"
      ]
    },
    {
      "cell_type": "markdown",
      "metadata": {},
      "source": [
        "The extrema detection and padding arguments are specified in the config dict\nunder the extrema, mag_pad and loc_pad keywords. These are passed directly\ninto ``emd.sift.get_padded_extrema`` when running the sift.\n\nThe padding is controlled by a build in numpy function ``np.pad``. The\n``mag_pad`` and ``loc_pad`` dictionaries are passed into np.pad to define the\npadding in the y-axis (extrema magnitude) and x-axis (extrema time-point)\nrespectively. Note that ``np.pad`` takes a mode as a positional argument -\nthis must be included as a keyword argument here.\n\nLets try customising the extrema padding. First we get the 'extrema' options\nfrom a nested config then try changing a couple of options\n\n"
      ]
    },
    {
      "cell_type": "code",
      "execution_count": null,
      "metadata": {
        "collapsed": false
      },
      "outputs": [],
      "source": [
        "ext_opts = config['extrema_opts']\n\n# The default options\nmax_locs, max_mag = emd.sift.get_padded_extrema(x, mode='peaks', **ext_opts)\nmin_locs, min_mag = emd.sift.get_padded_extrema(x, mode='troughs', **ext_opts)\n\nplt.figure(figsize=(12, 12))\n\nplt.subplot(311)\nplt.plot(x, 'k')\nplt.plot(max_locs, max_mag, 'or')\nplt.plot(min_locs, min_mag, 'ob')\nplt.legend(['Signal', 'Maxima', 'Minima'])\nplt.title('Default')\n\n# Increase the pad width to 5 extrema\next_opts['pad_width'] = 5\nmax_locs, max_mag = emd.sift.get_padded_extrema(x, mode='peaks', **ext_opts)\nmin_locs, min_mag = emd.sift.get_padded_extrema(x, mode='troughs', **ext_opts)\n\nplt.subplot(312)\nplt.plot(x, 'k')\nplt.plot(max_locs, max_mag, 'or')\nplt.plot(min_locs, min_mag, 'ob')\nplt.legend(['Signal', 'Maxima', 'Minima'])\nplt.title('Increased pad width')\n\n# Change the y-axis padding to 'reflect' rather than 'median' (this option is\n# for illustration and not recommended for actual sifting....)\next_opts['mag_pad_opts']['mode'] = 'reflect'\ndel ext_opts['mag_pad_opts']['stat_length']\nmax_locs, max_mag = emd.sift.get_padded_extrema(x, mode='peaks', **ext_opts)\nmin_locs, min_mag = emd.sift.get_padded_extrema(x, mode='troughs', **ext_opts)\n\nplt.subplot(313)\nplt.plot(x, 'k')\nplt.plot(max_locs, max_mag, 'or')\nplt.plot(min_locs, min_mag, 'ob')\nplt.legend(['Signal', 'Maxima', 'Minima'])\nplt.title('Reflected extrema and increased pad width')"
      ]
    }
  ],
  "metadata": {
    "kernelspec": {
      "display_name": "Python 3",
      "language": "python",
      "name": "python3"
    },
    "language_info": {
      "codemirror_mode": {
        "name": "ipython",
        "version": 3
      },
      "file_extension": ".py",
      "mimetype": "text/x-python",
      "name": "python",
      "nbconvert_exporter": "python",
      "pygments_lexer": "ipython3",
      "version": "3.7.6"
    }
  },
  "nbformat": 4,
  "nbformat_minor": 0
}