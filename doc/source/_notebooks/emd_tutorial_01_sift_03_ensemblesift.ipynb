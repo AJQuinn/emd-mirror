{
  "cells": [
    {
      "cell_type": "code",
      "execution_count": null,
      "metadata": {
        "collapsed": false
      },
      "outputs": [],
      "source": [
        "%matplotlib inline"
      ]
    },
    {
      "cell_type": "markdown",
      "metadata": {},
      "source": [
        "\n# Ensemble sifting\nThis tutorial introduces the ensemble sift. This is a noise-assisted approach\nto sifting which overcomes some of the problems in the original sift.\n"
      ]
    },
    {
      "cell_type": "markdown",
      "metadata": {},
      "source": [
        "Lets make a simulated signal to get started. Here we generate two bursts of\noscillations and some dynamic noise.\n\n"
      ]
    },
    {
      "cell_type": "code",
      "execution_count": null,
      "metadata": {
        "collapsed": false
      },
      "outputs": [],
      "source": [
        "import emd\nimport numpy as np\nimport matplotlib.pyplot as plt\n\nsample_rate = 512\nseconds = 2\ntime_vect = np.linspace(0, seconds, seconds*sample_rate)\n\n# Create an amplitude modulated burst\nam = -np.cos(2*np.pi*1*time_vect) * 2\nam[am < 0] = 0\nburst = am*np.sin(2*np.pi*42*time_vect)\n\n# Create some noise with increasing amplitude\nam = np.linspace(0, 1, sample_rate*seconds)**2 + .1\nnp.random.seed(42)\nn = am * np.random.randn(sample_rate*seconds,)\n\n# Signal is burst + noise\nx = burst + n\n\n# Quick summary figure\nplt.figure()\nplt.subplot(311)\nplt.plot(burst)\nplt.subplot(312)\nplt.plot(n)\nplt.subplot(313)\nplt.plot(x)"
      ]
    },
    {
      "cell_type": "markdown",
      "metadata": {},
      "source": [
        "The standard sifting methods do not perform well on this signal. Here we run\n``emd.sift.sift`` and plot the result.\n\n"
      ]
    },
    {
      "cell_type": "code",
      "execution_count": null,
      "metadata": {
        "collapsed": false
      },
      "outputs": [],
      "source": [
        "imf_opts = {'sd_thresh': 0.05}\nimf = emd.sift.sift(burst+n, imf_opts=imf_opts)\nemd.plotting.plot_imfs(imf, cmap=True, scale_y=True)"
      ]
    },
    {
      "cell_type": "markdown",
      "metadata": {},
      "source": [
        "We can see that the 42Hz bursting activity is split across two or three IMFs.\nThe first burst is split between IMFs 1 and 2 whereas the second burst is\nsplit between IMFs 2 and 3. As these events are all the same frequency, we\nwant them to be in the the IMF to make subsequent spectrum analysis easier.\n\nThe problem in this case is the dynamic noise. The peaks and troughs of the\nfirst burst are only slightly distorted by the additive noise (whose variance\nis low in the first half of the signal). Therefore most of the first burst\nappears in the first IMF with a small segment in the second IMF.\n\nIn contrast, the high variance noise under the second burst is large enough\nto consitute a feature in itself. The second burst is completely pushed out\nof IMF1.\n\nThe combined problems of noise sensitivity and transient signals can lead to\npoor sift results.\n\n"
      ]
    },
    {
      "cell_type": "markdown",
      "metadata": {},
      "source": [
        "## Noise-assisted sifting\n\n"
      ]
    },
    {
      "cell_type": "markdown",
      "metadata": {},
      "source": [
        "One solution to these issues is to try and normalise the amount of noise\nthrough a signal by adding a small amount of white noise to he signal before\nsifting. We do this many times, creating an ensemble of sift processes each\nwith a separate white noise added. The final set of IMFs is taken to be the\naverage across the whole ensemble.\n\nThis might seem like an odd solution. It relies on the effect of the additive\nwhite noise cancelling out across the whole ensemble, whilst the true signal\n(which is present across the whole ensemble) should survive the averaging.\n\nHere we try this out by extracting out first IMF five times. Once without\nnoise and four times with noise.\n\n"
      ]
    },
    {
      "cell_type": "code",
      "execution_count": null,
      "metadata": {
        "collapsed": false
      },
      "outputs": [],
      "source": [
        "imf = np.zeros((x.shape[0], 5))\n\n# Standard sift\nimf[:, 0] = emd.sift.get_next_imf(x, **imf_opts)[0][:, 0]\n\n# Additive noise sifts\nnoise_variance = .25\nfor ii in range(4):\n    imf[:, ii+1] = emd.sift.get_next_imf(x + np.random.randn(x.shape[0],)*noise_variance, **imf_opts)[0][:, 0]"
      ]
    },
    {
      "cell_type": "markdown",
      "metadata": {},
      "source": [
        "Next we plot our IMF from the standard sift and the four noise-added ensemble sifts\n\n"
      ]
    },
    {
      "cell_type": "code",
      "execution_count": null,
      "metadata": {
        "collapsed": false
      },
      "outputs": [],
      "source": [
        "plt.figure()\nfor ii in range(5):\n    plt.subplot(5, 1, ii+1)\n    plt.plot(imf[:, ii])\n\n    if ii == 0:\n        plt.ylabel('Normal   ', rotation=0)\n    else:\n        plt.ylabel('Ens. {0}   '.format(ii), rotation=0)"
      ]
    },
    {
      "cell_type": "markdown",
      "metadata": {},
      "source": [
        "We can see that the first burst appears clearly in the first IMF for the\nstandard sift as before. This burst is suppressed in each of the ensembles.\nSome of it remains but crucially different parts of the signal are attenuated\nin each of the four ensembles.\n\nThe average of these four noise-added signals shows a strong suppression of\nthe first burst.\n\n"
      ]
    },
    {
      "cell_type": "code",
      "execution_count": null,
      "metadata": {
        "collapsed": false
      },
      "outputs": [],
      "source": [
        "plt.figure()\nplt.subplot(211)\nplt.plot(imf[:, 0])\nplt.ylabel('Normal   ', rotation=0)\nplt.subplot(212)\nplt.plot(imf[:, 1:].mean(axis=1))\nplt.ylabel('Ens. Avg ', rotation=0)"
      ]
    },
    {
      "cell_type": "markdown",
      "metadata": {},
      "source": [
        "Some of the first burst still remains. We can increase the attenuation by\nincreasing the variance of the added noise.\n\nHere, we run the ensemble of four again but we increase the ``noise_variance`` from `0.25` to `1`.\n\n"
      ]
    },
    {
      "cell_type": "code",
      "execution_count": null,
      "metadata": {
        "collapsed": false
      },
      "outputs": [],
      "source": [
        "imf = np.zeros((x.shape[0], 5))\n\n# Standard sift\nimf[:, 0] = emd.sift.get_next_imf(x, **imf_opts)[0][:, 0]\n\n# Additive noise sifts\nnoise_variance = 1\nfor ii in range(4):\n    imf[:, ii+1] = emd.sift.get_next_imf(x + np.random.randn(x.shape[0],)*noise_variance, **imf_opts)[0][:, 0]"
      ]
    },
    {
      "cell_type": "markdown",
      "metadata": {},
      "source": [
        "If we plot the average of this new ensemble, we can see that the first burst\nis now completely removed from the first IMF.\n\n"
      ]
    },
    {
      "cell_type": "code",
      "execution_count": null,
      "metadata": {
        "collapsed": false
      },
      "outputs": [],
      "source": [
        "plt.figure()\nplt.subplot(211)\nplt.plot(imf[:, 0])\nplt.subplot(212)\nplt.plot(imf[:, 1:].mean(axis=1))"
      ]
    },
    {
      "cell_type": "markdown",
      "metadata": {},
      "source": [
        "## Ensemble Sifting\n\n"
      ]
    },
    {
      "cell_type": "markdown",
      "metadata": {},
      "source": [
        "This process is implemented for a whole sifting run in\n``emd.sift.ensemble_sift``. This function works much like ``emd.sift.sift``\nwith a few extra options for controlling the noise ensembles.\n\n* `nensembles` defines the number of parallel sifts to compute\n* `ensemble_noise` defines the noise variance relative to the standard deviation of the input signal\n* `nprocesses` allow for parallel processing of the ensembles to speed up computation\n\nNext, we call ``emd.sift.ensemble_sift`` to run through a whole sift of our signal.\n\nNote that is is ofen a good idea to limit the total number of IMFs in an\nensemble_sift. If we allow the sift to compute all possible IMFs then there\nis a chance that some processes in the ensemble might complete with one more\nor one less IMF than the others - this will break the averaging so here, we\nonly compute the first five IMFs.\n\n"
      ]
    },
    {
      "cell_type": "markdown",
      "metadata": {},
      "source": [
        "First, we compute the sift with `2` ensembles.\n\n"
      ]
    },
    {
      "cell_type": "code",
      "execution_count": null,
      "metadata": {
        "collapsed": false
      },
      "outputs": [],
      "source": [
        "imf = emd.sift.ensemble_sift(burst+n, max_imfs=5, nensembles=2, nprocesses=6, ensemble_noise=1, imf_opts=imf_opts)\nemd.plotting.plot_imfs(imf, cmap=True, scale_y=True)"
      ]
    },
    {
      "cell_type": "markdown",
      "metadata": {},
      "source": [
        "This does a reasonable job. Certainly better than the standard sift we ran at\nthe start of the tutorial. There is still some mixing of signals visible\nthough. To help with this we next compute the ensemble sift with four\nseparate noise added sifts.\n\n"
      ]
    },
    {
      "cell_type": "code",
      "execution_count": null,
      "metadata": {
        "collapsed": false
      },
      "outputs": [],
      "source": [
        "imf = emd.sift.ensemble_sift(burst+n, max_imfs=5, nensembles=4, nprocesses=6, ensemble_noise=1, imf_opts=imf_opts)\nemd.plotting.plot_imfs(imf, cmap=True, scale_y=True)"
      ]
    },
    {
      "cell_type": "markdown",
      "metadata": {},
      "source": [
        "This is better again but still could be improved. Finally, we run a sift with\nan ensemble of 24 separate sifts.\n\n"
      ]
    },
    {
      "cell_type": "code",
      "execution_count": null,
      "metadata": {
        "collapsed": false
      },
      "outputs": [],
      "source": [
        "imf = emd.sift.ensemble_sift(burst+n, max_imfs=5, nensembles=24, nprocesses=6, ensemble_noise=1, imf_opts=imf_opts)\nemd.plotting.plot_imfs(imf, cmap=True, scale_y=True)"
      ]
    },
    {
      "cell_type": "markdown",
      "metadata": {},
      "source": [
        "This does a good job. Both bursts are clearly recovered with smooth amplitude\nmodulations and the noise in the first IMF shows the smooth increase in\nvariance that we defined at the start.\n\n"
      ]
    }
  ],
  "metadata": {
    "kernelspec": {
      "display_name": "Python 3",
      "language": "python",
      "name": "python3"
    },
    "language_info": {
      "codemirror_mode": {
        "name": "ipython",
        "version": 3
      },
      "file_extension": ".py",
      "mimetype": "text/x-python",
      "name": "python",
      "nbconvert_exporter": "python",
      "pygments_lexer": "ipython3",
      "version": "3.7.6"
    }
  },
  "nbformat": 4,
  "nbformat_minor": 0
}