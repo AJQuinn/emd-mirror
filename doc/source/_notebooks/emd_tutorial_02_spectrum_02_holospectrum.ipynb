{
  "cells": [
    {
      "cell_type": "code",
      "execution_count": null,
      "metadata": {
        "collapsed": false
      },
      "outputs": [],
      "source": [
        "%matplotlib inline"
      ]
    },
    {
      "cell_type": "markdown",
      "metadata": {},
      "source": [
        "\n# The Holospectrum\nThis tutorial shows how we can compute a holospectrum to characterise the\ndistribution of power in a signal as a function of both frequency of the\ncarrier wave and the frequency of any amplitude modulations\n"
      ]
    },
    {
      "cell_type": "markdown",
      "metadata": {},
      "source": [
        "## Simulating a signal with amplitude modulations\nFirst of all, we import EMD alongside numpy and matplotlib. We will also use\nscipy's ndimage module to smooth our results for visualisation later.\n\n"
      ]
    },
    {
      "cell_type": "code",
      "execution_count": null,
      "metadata": {
        "collapsed": false
      },
      "outputs": [],
      "source": [
        "# sphinx_gallery_thumbnail_number = 5\n\nimport matplotlib.pyplot as plt\nfrom scipy import ndimage\nimport numpy as np\nimport emd"
      ]
    },
    {
      "cell_type": "markdown",
      "metadata": {},
      "source": [
        "First we create a simulated signal to analyse. This signal will be composed\nof a  linear trend and two oscillations, each with a different amplitude\nmodulation.\n\n"
      ]
    },
    {
      "cell_type": "code",
      "execution_count": null,
      "metadata": {
        "collapsed": false
      },
      "outputs": [],
      "source": [
        "seconds = 60\nsample_rate = 200\nt = np.linspace(0, seconds, seconds*sample_rate)\n\n# First we create a slow 4.25Hz oscillation with a 0.5Hz amplitude modulation\nslow = np.sin(2*np.pi*5*t) * (.5+(np.cos(2*np.pi*.5*t)/2))\n\n# Second, we create a faster 37Hz oscillation that is amplitude modulated by the first.\nfast = .5*np.sin(2*np.pi*37*t) * (slow+(.5+(np.cos(2*np.pi*.5*t)/2)))\n\n# We create our signal by summing the oscillation and adding some noise\nx = slow+fast + np.random.randn(*t.shape)*.1\n\n# Plot the first 5 seconds of data\nplt.figure(figsize=(10, 2))\nplt.plot(t[:sample_rate*5], x[:sample_rate*5], 'k')"
      ]
    },
    {
      "cell_type": "markdown",
      "metadata": {},
      "source": [
        "Next we run a simple sift with a cubic spline interpolation and estimate the\ninstantaneous frequency statistics from it using the Normalised Hilbert\nTransform\n\n"
      ]
    },
    {
      "cell_type": "code",
      "execution_count": null,
      "metadata": {
        "collapsed": false
      },
      "outputs": [],
      "source": [
        "config = emd.sift.get_config('mask_sift')\nconfig['max_imfs'] = 7\nconfig['mask_freqs'] = 50/sample_rate\nconfig['mask_amp_mode'] = 'ratio_sig'\nconfig['imf_opts/sd_thresh'] = 0.05\nimf = emd.sift.mask_sift(x, **config)\nIP, IF, IA = emd.spectra.frequency_transform(imf, sample_rate, 'nht')\n\n# Visualise the IMFs\nemd.plotting.plot_imfs(imf[:sample_rate*5, :], cmap=True, scale_y=True)"
      ]
    },
    {
      "cell_type": "markdown",
      "metadata": {},
      "source": [
        "## Second-layer sift\nThe first IMF contains the 30Hz oscillation and the fourth captures the 8Hz\noscillation. Their amplitude modulations are described in the IA\n(Instantaneous Amplitude) variable.\nWe can visualise these, note that the amplitude modulations (in red) are\nthemselves oscillatory.\n\n"
      ]
    },
    {
      "cell_type": "code",
      "execution_count": null,
      "metadata": {
        "collapsed": false
      },
      "outputs": [],
      "source": [
        "plt.figure(figsize=(10, 9))\nplt.subplot(211)\nplt.plot(t[:sample_rate*6], imf[:sample_rate*6, 0], 'k')\nplt.plot(t[:sample_rate*6], IA[:sample_rate*6, 0], 'r', linewidth=2)\nplt.legend(['IMF1', 'IMF1-Instantaneous Amplitude'], fontsize=14)\nplt.subplot(212)\nplt.plot(t[:sample_rate*6], imf[:sample_rate*6, 3], 'k')\nplt.plot(t[:sample_rate*6], IA[:sample_rate*6, 3], 'r', linewidth=2)\nplt.legend(['IMF4', 'IMF4-Instantaneous Amplitude'], fontsize=14)\nplt.xlabel('Time')"
      ]
    },
    {
      "cell_type": "markdown",
      "metadata": {},
      "source": [
        "We can describe the frequency content of these amplitude modulation signal\nwith another EMD. This is called a second level sift which decomposes the\ninstantaneous amplitude of each first level IMF with an additional set of\nIMFs.\n\n"
      ]
    },
    {
      "cell_type": "code",
      "execution_count": null,
      "metadata": {
        "collapsed": false
      },
      "outputs": [],
      "source": [
        "# Helper function for the second level sift\ndef mask_sift_second_layer(IA, masks, config={}):\n    imf2 = np.zeros((IA.shape[0], IA.shape[1], config['max_imfs']))\n    for ii in range(IA.shape[1]):\n        config['mask_freqs'] = masks[ii:]\n        tmp = emd.sift.mask_sift(IA[:, ii], **config)\n        imf2[:, ii, :tmp.shape[1]] = tmp\n    return imf2\n\n\n# Define sift parameters for the second level\nmasks = np.array([25/2**ii for ii in range(12)])/sample_rate\nconfig = emd.sift.get_config('mask_sift')\nconfig['mask_amp_mode'] = 'ratio_sig'\nconfig['mask_amp'] = 2\nconfig['max_imfs'] = 5\nconfig['imf_opts/sd_thresh'] = 0.05\nconfig['envelope_opts/interp_method'] = 'mono_pchip'\n\n# Sift the first 5 first level IMFs\nimf2 = emd.sift.mask_sift_second_layer(IA, masks, sift_args=config)"
      ]
    },
    {
      "cell_type": "markdown",
      "metadata": {},
      "source": [
        "We can see that the oscillatory content in the amplitude modulations has been\ndescribed with an additional set of IMFs. Here we plot the IMFs for the\namplitude modulations of IMFs 1 (as plotted above).\n\n"
      ]
    },
    {
      "cell_type": "code",
      "execution_count": null,
      "metadata": {
        "collapsed": false
      },
      "outputs": [],
      "source": [
        "emd.plotting.plot_imfs(imf2[:sample_rate*5, 0, :], scale_y=True, cmap=True)"
      ]
    },
    {
      "cell_type": "markdown",
      "metadata": {},
      "source": [
        "## The Holospectrum\n\n"
      ]
    },
    {
      "cell_type": "markdown",
      "metadata": {},
      "source": [
        "We can compute the frequency stats for the second level IMFs using the same\noptions as for the first levels.\n\n"
      ]
    },
    {
      "cell_type": "code",
      "execution_count": null,
      "metadata": {
        "collapsed": false
      },
      "outputs": [],
      "source": [
        "IP2, IF2, IA2 = emd.spectra.frequency_transform(imf2, sample_rate, 'nht')"
      ]
    },
    {
      "cell_type": "markdown",
      "metadata": {},
      "source": [
        "Finally, we want to visualise our results. We first define two sets of\nhistogram bins, one for the main carrier frequency oscillations and one for\nthe amplitude modulations.\n\n"
      ]
    },
    {
      "cell_type": "code",
      "execution_count": null,
      "metadata": {
        "collapsed": false
      },
      "outputs": [],
      "source": [
        "# Carrier frequency histogram definition\nedges, bins = emd.spectra.define_hist_bins(1, 100, 128, 'log')\n# AM frequency histogram definition\nedges2, bins2 = emd.spectra.define_hist_bins(1e-2, 32, 64, 'log')\n\n# Compute the 1d Hilbert-Huang transform (power over carrier frequency)\nspec = emd.spectra.hilberthuang_1d(IF, IA, edges)\n\n# Compute the 2d Hilbert-Huang transform (power over time x carrier frequency)\nhht = emd.spectra.hilberthuang(IF, IA, edges)\nshht = ndimage.gaussian_filter(hht, 2)\n\n# Compute the 3d Holospectrum transform (power over time x carrier frequency x AM frequency)\n# Here we return the time averaged Holospectrum (power over carrier frequency x AM frequency)\nholo = emd.spectra.holospectrum(IF[:, :], IF2[:, :, :], IA2[:, :, :], edges, edges2)\nsholo = ndimage.gaussian_filter(holo, 1)"
      ]
    },
    {
      "cell_type": "markdown",
      "metadata": {},
      "source": [
        "We summarise the results with a four part figure:\n\n"
      ]
    },
    {
      "cell_type": "code",
      "execution_count": null,
      "metadata": {
        "collapsed": false
      },
      "outputs": [],
      "source": [
        "plt.figure(figsize=(16, 10))\n\n# Plot a section of the time-course\nplt.axes([.325, .7, .4, .25])\nplt.plot(t[:sample_rate*5], x[:sample_rate*5], 'k', linewidth=1)\nplt.xlim(0, 5)\nplt.ylim(-2.5, 2.5)\nplt.title('Original Time-series')\n\n# Plot the 1d Hilbert-Huang Transform\nplt.axes([.075, .1, .225, .5])\nplt.plot(spec, bins)\nplt.plot((0, spec.max()*1.05), (5, 5), 'grey', linewidth=.5)\nplt.text(spec.max()/2, 5.5, '5 Hz', verticalalignment='bottom')\nplt.plot((0, spec.max()*1.05), (37, 37), 'grey', linewidth=.5)\nplt.text(spec.max()/2, 41, '37 Hz', verticalalignment='bottom')\nplt.title('1D HHT Spectrum')\nplt.yscale('log')\nplt.xlabel('Power')\nplt.ylabel('Frequency (Hz)')\nplt.yticks(2**np.arange(7), 2**np.arange(7))\nplt.ylim(bins[0], bins[-1])\nplt.xlim(0, spec.max()*1.05)\n\n# Plot a section of the Hilbert-Huang transform\nplt.axes([.325, .1, .4, .5])\nplt.pcolormesh(t[:sample_rate*5], bins, shht[:, :sample_rate*5], cmap='ocean_r', shading='nearest')\nplt.yscale('log')\nplt.plot((0, t[sample_rate*5]), (5, 5), 'grey', linewidth=.5)\nplt.plot((0, t[sample_rate*5]), (37, 37), 'grey', linewidth=.5)\nplt.title('2-D HHT Spectrum')\nplt.xlabel('Time (seconds)')\nplt.yticks(2**np.arange(7), 2**np.arange(7))\n\n# Plot a the Holospectrum\nplt.axes([.75, .1, .225, .5])\nplt.pcolormesh(bins2, bins, sholo.T, cmap='ocean_r', shading='nearest')\nplt.yscale('log')\nplt.xscale('log')\nplt.plot((bins2[0], bins2[-1]), (5, 5), 'grey', linewidth=.5)\nplt.plot((bins2[0], bins2[-1]), (37, 37), 'grey', linewidth=.5)\nplt.plot((.5, .5), (bins[0], bins[-1]), 'grey', linewidth=.5)\nplt.plot((5, 5), (bins[0], bins[-1]), 'grey', linewidth=.5)\nplt.title('Holospectrum')\nplt.xlabel('AM Frequency (Hz)')\nplt.yticks(2**np.arange(7), 2**np.arange(7))\nplt.xticks([.1, .5, 1, 2, 4, 8, 16], [.1, .5, 1, 2, 4, 8, 16])"
      ]
    },
    {
      "cell_type": "markdown",
      "metadata": {},
      "source": [
        "The four panels of the figure show:\n- top-center shows a segment of our original signal\n- bottom-leftshows the 1D Hilbert-Huang power spectrum\n- bottom-center shows a segment of the 2D Hilbert-Huang transform\n- bottom-right shows the Holospectrum summed over the time dimension\n\nWe can see prominent peaks at 5Hz and at 37Hz in the 1D Hilbert-Huang\nspectrum. The 2D Hilbert-Huang spectrum extends this over time showing\nfluctuations in both of these oscillations. Finall, the Holospectrum reveals\nthat these fluctuations in power are themselves oscillating. The 5Hz rhythm\nhas ampltude modulations of 0.5Hz and the 37Hz rhythm has ampltiude\nmodulations of 5Hz.\n\n"
      ]
    },
    {
      "cell_type": "markdown",
      "metadata": {},
      "source": [
        "Finally we can quantify the phase-amplitude coupling in our signal. We do\nthis by splitting the phase of the 5Hz signal into bins and computing the\naverage of the 2D Hilbert-Huang spectrum for each bin. This is implemented in\nthe ``emd.cycles.bin_by_phase`` function.\n\n"
      ]
    },
    {
      "cell_type": "code",
      "execution_count": null,
      "metadata": {
        "collapsed": false
      },
      "outputs": [],
      "source": [
        "hht_by_phase, _, _ = emd.cycles.bin_by_phase(IP[:, 3], hht.T)\n\nplt.figure(figsize=(8, 8))\nplt.subplot(121)\nplt.pcolormesh(bins2, bins, sholo.T, cmap='ocean_r', shading='nearest')\nplt.yscale('log')\nplt.xscale('log')\nplt.title('Holospectrum')\nplt.xlabel('AM Frequency (Hz)')\nplt.ylabel('Frequency (Hz)')\nplt.yticks(2**np.arange(7), 2**np.arange(7))\nplt.xticks([.1, .5, 1, 2, 4, 8, 16], [.1, .5, 1, 2, 4, 8, 16])\n\nplt.subplot(122)\nplt.pcolormesh(np.linspace(-np.pi, np.pi, 24), edges, hht_by_phase.T, cmap='ocean_r', shading='auto')\nplt.yscale('log')\nplt.yticks(2**np.arange(7), 2**np.arange(7))\nplt.xticks(np.linspace(-np.pi, np.pi, 5), ['Asc', 'Peak', 'Desc', 'Trough', 'Asc'])\nplt.xlabel('Theta Phase')\nplt.colorbar()\nplt.title('HHT by 5Hz Phase')"
      ]
    },
    {
      "cell_type": "markdown",
      "metadata": {},
      "source": [
        "The summary figure shows the Holospectrum alongside the power in the HHT\nacross phase bins with carrier frequency in the y-axis and phase in the\nx-axis. This plot is sometime known as a comodulogram. We see that power in\nthe 37Hz oscillation peaks around the peak of the 5Hz cycle confirming the\npresence of phase-ampltiude coupling between these two signals.\n\nThe 5Hz power is visible as a flat line across all phase. This indicates that\nneither the power or the frequency of this signal is changing within the\ncycle.\n\n"
      ]
    }
  ],
  "metadata": {
    "kernelspec": {
      "display_name": "Python 3",
      "language": "python",
      "name": "python3"
    },
    "language_info": {
      "codemirror_mode": {
        "name": "ipython",
        "version": 3
      },
      "file_extension": ".py",
      "mimetype": "text/x-python",
      "name": "python",
      "nbconvert_exporter": "python",
      "pygments_lexer": "ipython3",
      "version": "3.7.6"
    }
  },
  "nbformat": 4,
  "nbformat_minor": 0
}