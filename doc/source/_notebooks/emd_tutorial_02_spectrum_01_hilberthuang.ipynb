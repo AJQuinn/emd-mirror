{
  "cells": [
    {
      "cell_type": "code",
      "execution_count": null,
      "metadata": {
        "collapsed": false
      },
      "outputs": [],
      "source": [
        "%matplotlib inline"
      ]
    },
    {
      "cell_type": "markdown",
      "metadata": {},
      "source": [
        "\n# The Hilbert-Huang Transform\nThe Hilbert-Huang transform provides a description of how the energy or power\nwithin a signal is distributed across frequency. The distributions are based on\nthe instantaneous frequency and amplitude of a signal.\n"
      ]
    },
    {
      "cell_type": "markdown",
      "metadata": {},
      "source": [
        "To get started, lets simulate a noisy signal with a 12Hz oscillation.\n\n"
      ]
    },
    {
      "cell_type": "code",
      "execution_count": null,
      "metadata": {
        "collapsed": false
      },
      "outputs": [],
      "source": [
        "import emd\nimport numpy as np\nfrom scipy import ndimage\n\nimport matplotlib.pyplot as plt\nimport matplotlib.patches as patches\n\n# Define and simulate a simple signal\npeak_freq = 12\nsample_rate = 512\nseconds = 10\nnoise_std = .5\nx = emd.utils.ar_simulate(peak_freq, sample_rate, seconds, noise_std=noise_std, random_seed=42, r=.99)[:, 0]\nx = x*1e-4\nt = np.linspace(0, seconds, seconds*sample_rate)\n\n# sphinx_gallery_thumbnail_number = 6\n\n\n# Plot the first 5 seconds of data\nplt.figure(figsize=(10, 2))\nplt.plot(t[:sample_rate*3], x[:sample_rate*3], 'k')"
      ]
    },
    {
      "cell_type": "markdown",
      "metadata": {},
      "source": [
        "We then extract the IMFs using a mask sift with the default options\n\n"
      ]
    },
    {
      "cell_type": "code",
      "execution_count": null,
      "metadata": {
        "collapsed": false
      },
      "outputs": [],
      "source": [
        "# Run a mask sift\nimf = emd.sift.mask_sift(x, max_imfs=5)\n\nemd.plotting.plot_imfs(imf[:2000, :], cmap=True, scale_y=True)"
      ]
    },
    {
      "cell_type": "markdown",
      "metadata": {},
      "source": [
        "## 1d frequency transform\n\n"
      ]
    },
    {
      "cell_type": "markdown",
      "metadata": {},
      "source": [
        "Next we use ``emd.spectra.frequency_transform`` to compute the frequency content\nof the IMFs.  This function returns the instantaneous phase, frequency and\namplitude of each IMF. It takes a set of intrinsic mode functions, the sample\nrate and a mode as input arguments. The mode determines the algorithm which\nis used to compute the frequency transform, several are available but in this\ncase we use ``nht`` which specifies the Normalised-Hilbert Transform. This is\na good general purpose choice which should work well in most circumstances.\n\n"
      ]
    },
    {
      "cell_type": "code",
      "execution_count": null,
      "metadata": {
        "collapsed": false
      },
      "outputs": [],
      "source": [
        "# Compute frequency statistics\nIP, IF, IA = emd.spectra.frequency_transform(imf, sample_rate, 'nht')"
      ]
    },
    {
      "cell_type": "markdown",
      "metadata": {},
      "source": [
        "The Hilbert-Huang transform can be thought of as an amplitude-weighted\nhistogram of the instantaneous-frequency values from an IMF. The next\nsections break this down into parts.\n\nTo get started, we can plot a simple histogram of IF values using matplotlibs\nbuilt-in ``hist`` function. We do this twice, once as a standard count and\nonce by weighting the observations by their amplitude.\n\nWe will concentrate on IMF-3 from now as it contains our 12Hz oscillation.\n\n"
      ]
    },
    {
      "cell_type": "code",
      "execution_count": null,
      "metadata": {
        "collapsed": false
      },
      "outputs": [],
      "source": [
        "plt.figure(figsize=(8, 4))\n\nplt.subplot(121)\n# Plot a simple histogram using frequency bins from 0-20Hz\nplt.hist(IF[:, 2], np.linspace(0, 20))\nplt.grid(True)\nplt.title('IF Histogram')\nplt.xticks(np.arange(0, 20, 2))\nplt.xlabel('Frequency (Hz)')\n\nplt.subplot(122)\n# Plot an amplitude-weighted histogram using frequency bins from 0-20Hz\nplt.hist(IF[:, 2], np.linspace(0, 20), weights=IA[:, 2])\nplt.grid(True)\nplt.title('IF Histogram\\nweighted by IA')\nplt.xticks(np.arange(0, 20, 2))\nplt.xlabel('Frequency (Hz)')"
      ]
    },
    {
      "cell_type": "markdown",
      "metadata": {},
      "source": [
        "In this case our two distributions are pretty similar. Both are centred\naround 12Hz (as we would expect) and both have tails stretching between about\n6-18Hz. These tails are smaller in the amplitude-weighted histogram on the\nright, suggesting that these outlying frequency values tend to occur at time\npoints with very low amplitude.\n\nThe EMD toolbox provides a few functions to compute a few variants of the\nHilbert-Huang transform. The first step is to define the frequency bins to\nuse in the histogram with ``emd.spectra.define_hist_bins``. This takes a\nminimum frequency, maximum frequency and number of frequency steps as the\nmain arguments and returns arrays containing the edges and centres of the\ndefined bins.\n\nLets take a look at a couple of examples, first we define 4 bins between 1\nand 5Hz\n\n"
      ]
    },
    {
      "cell_type": "code",
      "execution_count": null,
      "metadata": {
        "collapsed": false
      },
      "outputs": [],
      "source": [
        "freq_edges, freq_centres = emd.spectra.define_hist_bins(1, 5, 4)\nprint('Bin Edges:   {0}'.format(freq_edges))\nprint('Bin Centres: {0}'.format(freq_centres))"
      ]
    },
    {
      "cell_type": "markdown",
      "metadata": {},
      "source": [
        "This returns 5 bin edges and 4 bin centres which we can use to create and\nplot our Hilbert-Huang transform. This choice of frequency bin size defines\nthe resolution of transform and is free to be tuned to the application at\nhand.\n\nSeveral other options are available. For instance, we can specify a log bin\nspacing between 1 and 50Hz (the default option is a uniform linear spacing).\n\n"
      ]
    },
    {
      "cell_type": "code",
      "execution_count": null,
      "metadata": {
        "collapsed": false
      },
      "outputs": [],
      "source": [
        "freq_edges, freq_centres = emd.spectra.define_hist_bins(1, 50, 8, 'log')\n\n# We round the values to 3dp for easier visualisation\nprint('Bin Edges:   {0}'.format(np.round(freq_edges, 3)))\nprint('Bin Centres: {0}'.format(np.round(freq_centres, 3)))"
      ]
    },
    {
      "cell_type": "markdown",
      "metadata": {},
      "source": [
        "Once we have our frequency bins defined, we can compute the Hilbert-Huang\ntransform. The simplest HHT is computed by ``emd.spectra.hilberthuang_1d``.\nThis returns a vector containing the weighted histograms for each IMF within\nthe bins specified by ``edges``\n\nHere, we defined a set of linear bins between 0 and 100Hz and compute both a\nweighted and unweighed HHT.\n\n"
      ]
    },
    {
      "cell_type": "code",
      "execution_count": null,
      "metadata": {
        "collapsed": false
      },
      "outputs": [],
      "source": [
        "freq_edges, freq_centres = emd.spectra.define_hist_bins(0, 100, 128, 'linear')\n\n# Amplitude weighted HHT\nspec_weighted = emd.spectra.hilberthuang_1d(IF, IA, freq_edges)\n\n# Unweighted HHT - we replace the instantaneous amplitude values with ones\nspec_unweighted = emd.spectra.hilberthuang_1d(IF, np.ones_like(IA), freq_edges)"
      ]
    },
    {
      "cell_type": "markdown",
      "metadata": {},
      "source": [
        "We can visualise these distributions by plotting the HHT across frequencies.\nNote that though we use the freq_edges to define the histogram, we visualise\nit by plotting the value for each bin at its centre frequency.\n\n"
      ]
    },
    {
      "cell_type": "code",
      "execution_count": null,
      "metadata": {
        "collapsed": false
      },
      "outputs": [],
      "source": [
        "plt.figure(figsize=(8, 4))\nplt.subplot(121)\nplt.plot(freq_centres, spec_unweighted)\nplt.xticks(np.arange(8)*12)\nplt.xlim(0, 100)\nplt.ylim(0, 2500)\nplt.xlabel('Frequency (Hz)')\nplt.title('unweighted\\nHilbert-Huang Transform')\n\nplt.subplot(122)\nplt.plot(freq_centres, spec_weighted)\nplt.xticks(np.arange(8)*12)\nplt.xlim(0, 100)\nplt.ylim(0, 2500)\nplt.xlabel('Frequency (Hz)')\nplt.title('IA-weighted\\nHilbert-Huang Transform')\nplt.legend(['IMF-1', 'IMF-2', 'IMF-3', 'IMF-4', 'IMF-5'])"
      ]
    },
    {
      "cell_type": "markdown",
      "metadata": {},
      "source": [
        "The frequency content of all IMFs are visible in the unweighted HHT. We can\nsee that each IMF contains successively slower dynamics and that the high\nfrequency IMFs tend to have wider frequency distributions.\n\nAll but IMF-3 are greatly reduced in the weighted HHT. This tells us that the\nfrequency content in the other IMFs occurred at relatively low power - as we\nwould expect from our simulated 12Hz signal.\n\n"
      ]
    },
    {
      "cell_type": "markdown",
      "metadata": {},
      "source": [
        "## 2d time-frequency transform\n\n"
      ]
    },
    {
      "cell_type": "markdown",
      "metadata": {},
      "source": [
        "The Hilbert-Huang transform can also be computed across time to explore any\ndynamics in instantaneous frequency. This is conceptually very similar to the\n1d HHT, we compute a weighted histogram of instantaneous frequency values\nexcept now we compute a separate histogram for each time-point.\n\nAs before, we start by defining the frequency bins. The time bins are taken\nat the sample rate of the data. The 2d frequency transform is computed by\n``emd.spectra.hilberthuang``\n\n"
      ]
    },
    {
      "cell_type": "code",
      "execution_count": null,
      "metadata": {
        "collapsed": false
      },
      "outputs": [],
      "source": [
        "# Carrier frequency histogram definition\nfreq_edges, freq_centres = emd.spectra.define_hist_bins(1, 25, 24, 'linear')\n\nhht = emd.spectra.hilberthuang(IF[:, 2, None], IA[:, 2, None], freq_edges, mode='amplitude')\ntime_centres = np.arange(201)-.5"
      ]
    },
    {
      "cell_type": "markdown",
      "metadata": {},
      "source": [
        "We can visualise what the Hilbert-Huang transform is doing in 2d by plotting\nthe HHT and IF on the same plot. Here we zoom into a short segment of the\nsimulation and plot the IMF-3 time course and instantaneous amplitude values\nin the top panel.\n\nThe bottom panel shows a grid cast across a set of time-frequency axes. The\ntime steps are defined by the sample rate of the data and the frequency steps\nare defined by our histogram bins above. We plot both the HHT and the IF on\nthese axes.\n\n"
      ]
    },
    {
      "cell_type": "code",
      "execution_count": null,
      "metadata": {
        "collapsed": false
      },
      "outputs": [],
      "source": [
        "plt.figure(figsize=(10, 8))\n# Add signal and IA\nplt.axes([.1, .6, .64, .3])\nplt.plot(imf[:, 2], 'k')\nplt.plot(IA[:, 2], 'r')\nplt.legend(['IMF', 'IF'])\nplt.xlim(50, 150)\n\n# Add IF axis and legend\nplt.axes([.1, .1, .8, .45])\nplt.plot(IF[:, 2], 'g', linewidth=3)\nplt.legend(['IF'])\n\n# Plot HHT\nplt.pcolormesh(time_centres, freq_edges, hht[:, :200], cmap='hot_r', vmin=0)\n\n# Set colourbar\ncb = plt.colorbar()\ncb.set_label('Amplitude', rotation=90)\n\n# Add some grid lines\nfor ii in range(len(freq_edges)):\n    plt.plot((0, 200), (freq_edges[ii], freq_edges[ii]), 'k', linewidth=.5)\nfor ii in range(200):\n    plt.plot((ii, ii), (0, 20), 'k', linewidth=.5)\n\n# Overlay the IF again for better visualisation\nplt.plot(IF[:, 2], 'g', linewidth=3)\n\n# Set lims and labels\nplt.xlim(50, 150)\nplt.ylim(8, 16)\nplt.xlabel('Time (samples)')\nplt.ylabel('Frequency (Hz)')"
      ]
    },
    {
      "cell_type": "markdown",
      "metadata": {},
      "source": [
        "The green line in the bottom panel is the instantaneous frequency of IMF-3.\nAt each point in time, we determine which frequency bin the instantaneous\nfrequency is within and place the corresponding instantaneous amplitude into\nthat cell of the HHT.\n\nThis is effectively quatising (or digitising) the instantaneous frequency\nvalues within our defined frequnecy bins. We can only see frequency dynamics\nin the HHT when the IF crosses between the edges of the frequency bins.\nThough this reduces our frequency resolution a little, it means that we can\neasly visualise the amplitude and frequency information together in the same\nplot.\n\nIf we want a higher frequency resolution, we can simply increase the number\nof frequency bins when defining the histogram parameters in\n``emd.spectra.define_hist_bins``. Here, we repeat our plot using three times\nmore bins.\n\n"
      ]
    },
    {
      "cell_type": "code",
      "execution_count": null,
      "metadata": {
        "collapsed": false
      },
      "outputs": [],
      "source": [
        "# Carrier frequency histogram definition\nfreq_edges, freq_centres = emd.spectra.define_hist_bins(1, 25, 24*3, 'linear')\n\nhht = emd.spectra.hilberthuang(IF[:, 2], IA[:, 2], freq_edges, mode='amplitude')\ntime_centres = np.arange(201)-.5\n\n# Create summary figure\n\nplt.figure(figsize=(10, 6))\nplt.plot(IF[:, 2], 'g', linewidth=3)\nplt.legend(['IF'])\n\n# Plot HHT\nplt.pcolormesh(time_centres, freq_edges, hht[:, :200], cmap='hot_r', vmin=0)\n\n# Set colourbar\ncb = plt.colorbar()\ncb.set_label('Amplitude', rotation=90)\n\n# Add some grid lines\nfor ii in range(len(freq_edges)):\n    plt.plot((0, 200), (freq_edges[ii], freq_edges[ii]), 'k', linewidth=.5)\nfor ii in range(200):\n    plt.plot((ii, ii), (0, 20), 'k', linewidth=.5)\n\n# Overlay the IF again for better visualisation\nplt.plot(IF[:, 2], 'g', linewidth=3)\n\n# Set lims and labels\nplt.xlim(50, 150)\nplt.ylim(8, 16)\nplt.xlabel('Time (samples)')\nplt.ylabel('Frequency (Hz)')"
      ]
    },
    {
      "cell_type": "markdown",
      "metadata": {},
      "source": [
        "This greatly increases the frequency-resolution in the y-axis. This can be\ntuned to meet your needs depending on the analysis in-hand and computational\ndemands. A Hilbert-Huang Transform of a long time-series with very high\nfrequency resolution can create a very large matrix....\n\nSimilarly, we could specify a log-frequency scale by changing the definition\nin ``emd.spectra.define_hist_bins``\n\n"
      ]
    },
    {
      "cell_type": "code",
      "execution_count": null,
      "metadata": {
        "collapsed": false
      },
      "outputs": [],
      "source": [
        "# Carrier frequency histogram definition\nfreq_edges, freq_centres = emd.spectra.define_hist_bins(1, 25, 24, 'log')\n\nhht = emd.spectra.hilberthuang(IF[:, 2], IA[:, 2], freq_edges, mode='amplitude')\ntime_centres = np.arange(201)-.5\n\nplt.figure(figsize=(10, 6))\nplt.plot(IF[:, 2], 'g', linewidth=3)\nplt.legend(['IF'])\n\n# Plot HHT\nplt.pcolormesh(time_centres, freq_edges, hht[:, :200], cmap='hot_r', vmin=0)\n\n# Set colourbar\ncb = plt.colorbar()\ncb.set_label('Amplitude', rotation=90)\n\n# Add some grid lines\nfor ii in range(len(freq_edges)):\n    plt.plot((0, 200), (freq_edges[ii], freq_edges[ii]), 'k', linewidth=.5)\nfor ii in range(200):\n    plt.plot((ii, ii), (0, 20), 'k', linewidth=.5)\n\n# Overlay the IF again for better visualisation\nplt.plot(IF[:, 2], 'g', linewidth=3)\n\n# Set lims and labels\nplt.xlim(50, 150)\nplt.ylim(1, 20)\nplt.xlabel('Time (samples)')\nplt.ylabel('Frequency (Hz)')"
      ]
    },
    {
      "cell_type": "markdown",
      "metadata": {},
      "source": [
        "Let us zoom back out to a longer section of our simulated time series. Here\nwe plot the IMF, IA and HHT across around 4 seconds of data. We use a\nrelatively high resolution set of frequency bins with a linear spacing.\n\n"
      ]
    },
    {
      "cell_type": "code",
      "execution_count": null,
      "metadata": {
        "collapsed": false
      },
      "outputs": [],
      "source": [
        "# Carrier frequency histogram definition\nfreq_edges, freq_centres = emd.spectra.define_hist_bins(1, 25, 24*3, 'linear')\n\nhht = emd.spectra.hilberthuang(IF[:, 2], IA[:, 2], freq_edges, mode='amplitude')\ntime_centres = np.arange(2051)-.5\n\nplt.figure(figsize=(10, 8))\n# Add signal and IA\nplt.axes([.1, .6, .64, .3])\nplt.plot(imf[:, 2], 'k')\nplt.plot(IA[:, 2], 'r')\nplt.legend(['IMF', 'IF'])\nplt.xlim(0, 2050)\n\n# Add IF axis and legend\nplt.axes([.1, .1, .8, .45])\n\n# Plot HHT\nplt.pcolormesh(time_centres, freq_edges, hht[:, :2050], cmap='hot_r', vmin=0)\n\n# Set colourbar\ncb = plt.colorbar()\ncb.set_label('Amplitude', rotation=90)\n\n# Set lims and labels\nplt.xlim(0, 2050)\nplt.ylim(2, 22)\nplt.xlabel('Time (samples)')\nplt.ylabel('Frequency (Hz)')\n\nrect = patches.Rectangle((50, 8), 100, 8, edgecolor='k', facecolor='none')\nplt.gca().add_patch(rect)"
      ]
    },
    {
      "cell_type": "markdown",
      "metadata": {},
      "source": [
        "Note that the colour map in the bottom panel carefully tracks the\ninstantaneous amplitude (top-panel in red) of the IMF at the full sample rate\nof the data. When there is a high amplitude, we can see rapid changes in\ninstantaneous frequency - even within single cycles of the 12Hz oscillation.\n\nThe black rectangle in the lower panel shows the part of the signal that we\nwere visualising above.\n\nSometimes the binning in the Hilbert-Huang Transform can make the signal\nappear discontinuous. To reduce this effect we can apply a small amount of\nsmoothing to the HHT image. Here we repeat the figure above to plot a\nsmoothed HHT. We use a gaussian image filter from the ``scipy.ndimage``\ntoolbox for the smoothing.\n\n"
      ]
    },
    {
      "cell_type": "code",
      "execution_count": null,
      "metadata": {
        "collapsed": false
      },
      "outputs": [],
      "source": [
        "# Carrier frequency histogram definition\nfreq_edges, freq_centres = emd.spectra.define_hist_bins(1, 25, 24*3, 'linear')\n\nhht = emd.spectra.hilberthuang(IF[:, 2], IA[:, 2], freq_edges, mode='amplitude')\ntime_centres = np.arange(2051)-.5\n\n# Apply smoothing\nhht = ndimage.gaussian_filter(hht, .7)\n\nplt.figure(figsize=(10, 8))\n# Add signal and IA\nplt.axes([.1, .6, .64, .3])\nplt.plot(imf[:, 2], 'k')\nplt.plot(IA[:, 2], 'r')\nplt.legend(['IMF', 'IF'])\nplt.xlim(0, 2050)\n\n# Add IF axis and legend\nplt.axes([.1, .1, .8, .45])\n\n# Plot HHT\nplt.pcolormesh(time_centres, freq_edges, hht[:, :2050], cmap='hot_r', vmin=0)\n\n# Set colourbar\ncb = plt.colorbar()\ncb.set_label('Amplitude', rotation=90)\n\n# Set lims and labels\nplt.xlim(0, 2050)\nplt.ylim(2, 22)\nplt.xlabel('Time (samples)')\nplt.ylabel('Frequency (Hz)')\n\nrect = patches.Rectangle((50, 8), 100, 8, edgecolor='k', facecolor='none')\nplt.gca().add_patch(rect)"
      ]
    },
    {
      "cell_type": "markdown",
      "metadata": {},
      "source": [
        "This smoothing step often makes the HHT image easier to read and interpret.\n\n\n"
      ]
    },
    {
      "cell_type": "markdown",
      "metadata": {},
      "source": [
        "## Making Hilbert-Huang Transform Plots\n\n"
      ]
    },
    {
      "cell_type": "markdown",
      "metadata": {},
      "source": [
        "Finally, we include a helper function for plotting Hilbert-Huang transforms -\n``emd.plotting.plot_hilberthuang``. This takes a HHT matrix, and\ncorresponding time and frequency vector as inputs and procudes a configurable\nplot. For example:\n\n"
      ]
    },
    {
      "cell_type": "code",
      "execution_count": null,
      "metadata": {
        "collapsed": false
      },
      "outputs": [],
      "source": [
        "emd.plotting.plot_hilberthuang(hht, time_centres, freq_centres)"
      ]
    },
    {
      "cell_type": "markdown",
      "metadata": {},
      "source": [
        "This function is highly configurable - a full list of options can be found in\nthe function docstring. Here we change the colourmap, set the y-axis to a\nlog scale and zoom into a specified time-range.\n\n"
      ]
    },
    {
      "cell_type": "code",
      "execution_count": null,
      "metadata": {
        "collapsed": false
      },
      "outputs": [],
      "source": [
        "emd.plotting.plot_hilberthuang(hht, time_centres, freq_centres,\n                               cmap='viridis', time_lims=(750, 1500),  log_y=True)"
      ]
    }
  ],
  "metadata": {
    "kernelspec": {
      "display_name": "Python 3",
      "language": "python",
      "name": "python3"
    },
    "language_info": {
      "codemirror_mode": {
        "name": "ipython",
        "version": 3
      },
      "file_extension": ".py",
      "mimetype": "text/x-python",
      "name": "python",
      "nbconvert_exporter": "python",
      "pygments_lexer": "ipython3",
      "version": "3.7.6"
    }
  },
  "nbformat": 4,
  "nbformat_minor": 0
}