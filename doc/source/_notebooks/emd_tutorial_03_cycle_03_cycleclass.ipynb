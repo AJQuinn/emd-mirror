{
  "cells": [
    {
      "cell_type": "code",
      "execution_count": null,
      "metadata": {
        "collapsed": false
      },
      "outputs": [],
      "source": [
        "%matplotlib inline"
      ]
    },
    {
      "cell_type": "markdown",
      "metadata": {},
      "source": [
        "\n# The 'Cycles' class\nEMD provides a Cycles class to help with more complex cycle comparisons. This\nclass is based on the `emd.cycles.get_cycle_inds` and\n`eemd.cycles.get_cycle_stat` functions we used in the previous tutorial, but it\ndoes some additional hard work for you. For example, the Cycles class is a good\nway to compute and store many different stats from the same cycles and for\ndynamically working with different subsets of cycles based on user specified\nconditions. Lets take a closer look...\n"
      ]
    },
    {
      "cell_type": "markdown",
      "metadata": {},
      "source": [
        "## Simulating a noisy signal\nFirstly we will import emd and simulate a signal.\n\n"
      ]
    },
    {
      "cell_type": "code",
      "execution_count": null,
      "metadata": {
        "collapsed": false
      },
      "outputs": [],
      "source": [
        "import emd\nimport numpy as np\nimport matplotlib.pyplot as plt\n\n# Define and simulate a simple signal\npeak_freq = 12\nsample_rate = 512\nseconds = 60\nnoise_std = .5\nx = emd.utils.ar_simulate(peak_freq, sample_rate, seconds, noise_std=noise_std, random_seed=42, r=.99) * 1e-4\nt = np.linspace(0, seconds, seconds*sample_rate)\n\n# Plot the first 5 seconds of data\nplt.figure(figsize=(10, 2))\nplt.plot(t[:sample_rate*4], x[:sample_rate*4], 'k')\n\n# sphinx_gallery_thumbnail_number = 5"
      ]
    },
    {
      "cell_type": "markdown",
      "metadata": {},
      "source": [
        "We next run a mask sift with the default parameters to isolate the 12Hz\noscillation. There is only one clear oscillatory signal in this simulation.\nThis is extracted in IMF-2 whilst the remaining IMFs contain low-amplitude\nnoise.\n\n"
      ]
    },
    {
      "cell_type": "code",
      "execution_count": null,
      "metadata": {
        "collapsed": false
      },
      "outputs": [],
      "source": [
        "# Run a mask sift\nimf = emd.sift.mask_sift(x)\n\n# Computee frequenecy transforms\nIP, IF, IA = emd.spectra.frequency_transform(imf, sample_rate, 'hilbert')"
      ]
    },
    {
      "cell_type": "markdown",
      "metadata": {},
      "source": [
        "The Cycles class\n\n"
      ]
    },
    {
      "cell_type": "markdown",
      "metadata": {},
      "source": [
        "We next initialise the 'Cycles' class with the instantaneous phase of the second IMF.\n\n"
      ]
    },
    {
      "cell_type": "code",
      "execution_count": null,
      "metadata": {
        "collapsed": false
      },
      "outputs": [],
      "source": [
        "C = emd.cycles.Cycles(IP[:, 2])"
      ]
    },
    {
      "cell_type": "markdown",
      "metadata": {},
      "source": [
        "This calls `emd.cycles.get_cycle_inds` on the phase time course to identify\nindividual cycles. The cycle vector is stored in the class instance as\n`_all_cycles`. Here we plot the cycle vector for the first four seconds of\nour signal.\n\n"
      ]
    },
    {
      "cell_type": "code",
      "execution_count": null,
      "metadata": {
        "collapsed": false
      },
      "outputs": [],
      "source": [
        "plt.figure(figsize=(10, 6))\nplt.plot(t[:sample_rate*8], C._all_cycles[:sample_rate*8], 'k')"
      ]
    },
    {
      "cell_type": "markdown",
      "metadata": {},
      "source": [
        "Note that `_all_cycles` does not exclude any cycles from the analysis. During\nthe `emd.cycles.Cycles` class initialisation, `emd.cycles.get_cycle_inds`\ndoes not perform the good_cycle detection. Instead, the Cycles class contains\na dictionary which can store different stats and metrics associated with our\ncycles.\n\nThe results of the good cycle detection are stored in this dictionary under\nthe key `is_good`. This is a vector containing a ones for cycles which pass\nthe good cycle detection and zeros for the rest.\n\n"
      ]
    },
    {
      "cell_type": "code",
      "execution_count": null,
      "metadata": {
        "collapsed": false
      },
      "outputs": [],
      "source": [
        "print(C._metrics)"
      ]
    },
    {
      "cell_type": "markdown",
      "metadata": {},
      "source": [
        "We can extract a cycle vector for only the good cycles using the\n`get_cycle_vector` method attached to the `Cycles` class. If called with no\noptions, this method will return the cycle vector for all cycles, but we can\nspecify some optional conditions if we only want to look at a subset of\ncycles. These conditions specify the name of a cycle metric, a standard\ncomparator (such as ==, > or <) and a comparison value - `get_cycle_vector`\nwill only return cycles for which the comparison is true.\n\nHere, we will get a cycle vector and specify that we only want to return the\ncycles which have ones in the `is_good` metric.\n\n"
      ]
    },
    {
      "cell_type": "code",
      "execution_count": null,
      "metadata": {
        "collapsed": false
      },
      "outputs": [],
      "source": [
        "good_cycles = C.get_cycle_vector('is_good==1')\n\nplt.figure(figsize=(10, 6))\nplt.plot(t[:sample_rate*8], good_cycles[:sample_rate*8], 'k')"
      ]
    },
    {
      "cell_type": "markdown",
      "metadata": {},
      "source": [
        "Now we see that several cycles have been excluded in the `good_cycles`\nvector. We can now use this to run other analyses on our subset of good\ncycles. For instance, here we compute the cycle control points on the good\ncycles,\n\n"
      ]
    },
    {
      "cell_type": "code",
      "execution_count": null,
      "metadata": {
        "collapsed": false
      },
      "outputs": [],
      "source": [
        "ctrl = emd.cycles.get_control_points(imf[:, 2], good_cycles)"
      ]
    },
    {
      "cell_type": "markdown",
      "metadata": {},
      "source": [
        "This is convenient, but not so different from the standard analyses in the\nprevious tutorial. The real utility of the `Cycles` class in is computing\nlots of custom metrics and selecting subsets using complex combinations of\ncomparitors.\n\n"
      ]
    },
    {
      "cell_type": "markdown",
      "metadata": {},
      "source": [
        "## Adding custom metrics\n\n"
      ]
    },
    {
      "cell_type": "markdown",
      "metadata": {},
      "source": [
        "We can add the metrics stored in a `Cycles` class instance using the\n`add_cycle_stat` function. This is a wrapper around\n`emd.cycles.get_cycle_stat` function which computes a stat for each cycle and\nstores the result in the metrics dictionary. `add_cycle_stat` takes a name\nfor the metric, the time-series to compute the metric from and the function\nto evaluate for each cycle. This is always computed for every cycle in the\ndataset, we can include or exclude cycles based on different conditions\nlater.\n\nHere we compute the maximum amplitude for each cycle and the length of each\ncycle in samples.\n\n"
      ]
    },
    {
      "cell_type": "code",
      "execution_count": null,
      "metadata": {
        "collapsed": false
      },
      "outputs": [],
      "source": [
        "# Compute the maximum instantaneous amplitude per cycle\nC.add_cycle_stat('max_amp', IA[:, 2], np.max)\n\n# Compute the length of each cycle\nC.add_cycle_stat('duration', IA[:, 2], len)"
      ]
    },
    {
      "cell_type": "markdown",
      "metadata": {},
      "source": [
        "These values are now stored in the `_metrics` dictionary along with the good cycle values.\n\n"
      ]
    },
    {
      "cell_type": "code",
      "execution_count": null,
      "metadata": {
        "collapsed": false
      },
      "outputs": [],
      "source": [
        "print(C._metrics.keys())\n\nprint(C._metrics['is_good'])\nprint(C._metrics['max_amp'])\nprint(C._metrics['duration'])"
      ]
    },
    {
      "cell_type": "markdown",
      "metadata": {},
      "source": [
        "We can also store arbitrary cycle stats in the dictionary - as long as there\nis one value for every cycle. This might include external values or more\ncomplex stats that are beyond the scope of `emd.cycles.get_cycle_stat`. These\ncan be stored using the `Cycles.add_cycle_metric` method.\n\nLet's compute and store the time of the peak and trough in each cycle in milliseconds.\n\n"
      ]
    },
    {
      "cell_type": "code",
      "execution_count": null,
      "metadata": {
        "collapsed": false
      },
      "outputs": [],
      "source": [
        "ctrl = emd.cycles.get_control_points(imf[:, 2], C.get_cycle_vector())\n\npeak_time_ms = ctrl[:, 1]/sample_rate * 1000\ntrough_time_ms = ctrl[:, 3]/sample_rate * 1000\n\nC.add_cycle_metric('peak_time_ms', peak_time_ms)\nC.add_cycle_metric('trough_time_ms', trough_time_ms)"
      ]
    },
    {
      "cell_type": "markdown",
      "metadata": {},
      "source": [
        "Once we have this many cycle metrics, the dictionary storage can be tricky to\nvisualise (though it works well in the internal code). If you have\npython-pandas installed, you can export the metrics into a DataFrame which is\neasier to summarise and visualise.\n\n"
      ]
    },
    {
      "cell_type": "code",
      "execution_count": null,
      "metadata": {
        "collapsed": false
      },
      "outputs": [],
      "source": [
        "d = C.get_metric_dataframe()\nprint(d)"
      ]
    },
    {
      "cell_type": "markdown",
      "metadata": {},
      "source": [
        "The summary table for the DataFrame gives a convenient summary description of\nthe cycle metrics.\n\n"
      ]
    },
    {
      "cell_type": "code",
      "execution_count": null,
      "metadata": {
        "collapsed": false
      },
      "outputs": [],
      "source": [
        "print(d.describe())"
      ]
    },
    {
      "cell_type": "markdown",
      "metadata": {},
      "source": [
        "## Extracting subsets of cycles\n\n"
      ]
    },
    {
      "cell_type": "markdown",
      "metadata": {},
      "source": [
        "At the start of this tutorial, we extracted the cycle vector for the good\ncycles using `get_cycle_vector` with a simple comparator. We can use this\nfunction to specify a range of comparators to select subsets of cycles based\non the computed metrics.\n\nFor example, lets get the cycle vector for cycles whose duration is longer than 40 samples.\n\n"
      ]
    },
    {
      "cell_type": "code",
      "execution_count": null,
      "metadata": {
        "collapsed": false
      },
      "outputs": [],
      "source": [
        "long_cycles = C.get_cycle_vector('duration>40')\n\nplt.figure(figsize=(10, 6))\nplt.plot(t[:sample_rate*8], long_cycles[:sample_rate*8], 'k')"
      ]
    },
    {
      "cell_type": "markdown",
      "metadata": {},
      "source": [
        "If we want to use more than one camparator, these can be passed as a list.\n\n"
      ]
    },
    {
      "cell_type": "code",
      "execution_count": null,
      "metadata": {
        "collapsed": false
      },
      "outputs": [],
      "source": [
        "# Now, we find only long cycles which also pass the good cycle detection\nlong_good_cycles = C.get_cycle_vector(['duration>40', 'is_good==1'])\n\n# Finally, find long-good cycles which also have amplitudes above 1.25\nbig_long_good_cycles = C.get_cycle_vector(['max_amp>1.25', 'duration>40', 'is_good==1'])\n\nplt.figure(figsize=(10, 6))\nplt.plot(t[:sample_rate*8], big_long_good_cycles[:sample_rate*8], 'k')"
      ]
    },
    {
      "cell_type": "markdown",
      "metadata": {},
      "source": [
        "The cycle subset extraction can also be applied to the pandas dataframes\n\n"
      ]
    },
    {
      "cell_type": "code",
      "execution_count": null,
      "metadata": {
        "collapsed": false
      },
      "outputs": [],
      "source": [
        "big_long_good_cycle_metrics = C.get_metric_dataframe(['max_amp>1.25', 'duration>40', 'is_good==1'])\nprint(big_long_good_cycle_metrics)"
      ]
    },
    {
      "cell_type": "markdown",
      "metadata": {},
      "source": [
        "Or both and cycle vector and summary data frame can be extracted togther\nusing `Cycles.get_subset`.\n\n"
      ]
    },
    {
      "cell_type": "code",
      "execution_count": null,
      "metadata": {
        "collapsed": false
      },
      "outputs": [],
      "source": [
        "cycle_vect, cycle_df = C.get_subset(['max_amp>1.25', 'duration>40', 'is_good==1'])"
      ]
    },
    {
      "cell_type": "markdown",
      "metadata": {},
      "source": [
        "## Cycle chain analysis\n\n"
      ]
    },
    {
      "cell_type": "markdown",
      "metadata": {},
      "source": [
        "Finally, we can use the `emd.cycles.Cycles` class to help with cycle chain\nanalyses. This illustrates one of the most complex use-cases for the `Cycles`\nobject! Computing metrics from groups of cycles and mapping these back to\ncycle-level metrics can involve some difficult indexing.\n\nLets extract the big-long-good cycles and compute the continuous\nchains of cycles within this subset.\n\n"
      ]
    },
    {
      "cell_type": "code",
      "execution_count": null,
      "metadata": {
        "collapsed": false
      },
      "outputs": [],
      "source": [
        "cycle_vect, cycle_df = C.get_subset(['max_amp>1', 'duration>30', 'is_good==1'])\n\ncycle_chains = emd.cycles.get_cycle_chain(cycle_vect)"
      ]
    },
    {
      "cell_type": "markdown",
      "metadata": {},
      "source": [
        "Next we compute the maxumum amplitude and duration of each chain.\n\n"
      ]
    },
    {
      "cell_type": "code",
      "execution_count": null,
      "metadata": {
        "collapsed": false
      },
      "outputs": [],
      "source": [
        "chain_amp = emd.cycles.get_chain_stat(cycle_chains, cycle_df['max_amp'], np.max)\nchain_len = emd.cycles.get_chain_stat(cycle_chains, cycle_df['max_amp'], len)"
      ]
    },
    {
      "cell_type": "markdown",
      "metadata": {},
      "source": [
        "We next map these cycle-chain values back to a vector in which each sample\ncontains the chain stat corresponding to the\n\n"
      ]
    },
    {
      "cell_type": "code",
      "execution_count": null,
      "metadata": {
        "collapsed": false
      },
      "outputs": [],
      "source": [
        "cycle_amp_vect = emd.cycles._map_cycles_to_samples(cycle_df['max_amp'], cycle_vect)\n\nchain_amp_vect = emd.cycles._map_chains_to_samples(chain_amp, cycle_chains, cycle_vect)\nchain_len_vect = emd.cycles._map_chains_to_samples(chain_len, cycle_chains, cycle_vect)\n\n# Plot the first 5 seconds of data\nplt.figure(figsize=(10, 6))\nplt.plot(t[:sample_rate*5], imf[:sample_rate*5, 2], 'k')\nplt.plot(t[:sample_rate*5], IA[:sample_rate*5, 2], 'b')\nplt.plot(t[:sample_rate*5], cycle_amp_vect[:sample_rate*5], 'g')\nplt.plot(t[:sample_rate*5], chain_amp_vect[:sample_rate*5], 'r')\nplt.legend(['IMF', 'InstAmp', 'CycleMaxAmp', 'ChainMaxAmp'])"
      ]
    },
    {
      "cell_type": "markdown",
      "metadata": {},
      "source": [
        "Finally, we use these chain metric vectors as inputs to\n`Cycles.add_cycle_stat` to get a measure of the amplitude or duration of the\ncycle-chain that each cycle belongs to  (and values of -1 for cycles which\ndon't belong to any chain).\n\n"
      ]
    },
    {
      "cell_type": "code",
      "execution_count": null,
      "metadata": {
        "collapsed": false
      },
      "outputs": [],
      "source": [
        "C.add_cycle_stat('chain_amp', chain_amp_vect, np.mean)\nC.add_cycle_stat('chain_len', chain_len_vect, np.mean)"
      ]
    },
    {
      "cell_type": "markdown",
      "metadata": {},
      "source": [
        "The pandas dataframe can now summarise these new metrics\n\n"
      ]
    },
    {
      "cell_type": "code",
      "execution_count": null,
      "metadata": {
        "collapsed": false
      },
      "outputs": [],
      "source": [
        "full_df = C.get_metric_dataframe()\nprint(d)\nprint(d.describe())"
      ]
    }
  ],
  "metadata": {
    "kernelspec": {
      "display_name": "Python 3",
      "language": "python",
      "name": "python3"
    },
    "language_info": {
      "codemirror_mode": {
        "name": "ipython",
        "version": 3
      },
      "file_extension": ".py",
      "mimetype": "text/x-python",
      "name": "python",
      "nbconvert_exporter": "python",
      "pygments_lexer": "ipython3",
      "version": "3.7.6"
    }
  },
  "nbformat": 4,
  "nbformat_minor": 0
}