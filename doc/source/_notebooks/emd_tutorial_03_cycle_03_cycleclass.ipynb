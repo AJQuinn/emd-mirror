{
  "cells": [
    {
      "cell_type": "code",
      "execution_count": null,
      "metadata": {
        "collapsed": false
      },
      "outputs": [],
      "source": [
        "%matplotlib inline"
      ]
    },
    {
      "cell_type": "markdown",
      "metadata": {},
      "source": [
        "\n# The 'Cycles' class\nEMD provides a Cycles class to help with more complex cycle comparisons. This\nclass is based on the `emd.cycles.get_cycle_vector` and\n`emd.cycles.get_cycle_stat` functions we used in the previous tutorial, but it\ndoes some additional work for you. For example, the Cycles class is a good way\nto compute and store many different stats from the same cycles and for\ndynamically working with different subsets of cycles based on user specified\nconditions. Lets take a closer look...\n"
      ]
    },
    {
      "cell_type": "markdown",
      "metadata": {},
      "source": [
        "## Getting started\nFirstly we will import emd and simulate a signal.\n\n"
      ]
    },
    {
      "cell_type": "code",
      "execution_count": null,
      "metadata": {
        "collapsed": false
      },
      "outputs": [],
      "source": [
        "import emd\nimport numpy as np\nimport matplotlib.pyplot as plt\n\n# Define and simulate a simple signal\npeak_freq = 12\nsample_rate = 512\nseconds = 60\nnoise_std = .5\nx = emd.utils.ar_simulate(peak_freq, sample_rate, seconds, noise_std=noise_std, random_seed=42, r=.99) * 1e-4\nt = np.linspace(0, seconds, seconds*sample_rate)\n\n# Plot the first 5 seconds of data\nplt.figure(figsize=(10, 2))\nplt.plot(t[:sample_rate*4], x[:sample_rate*4], 'k')\n\n# sphinx_gallery_thumbnail_number = 4"
      ]
    },
    {
      "cell_type": "markdown",
      "metadata": {},
      "source": [
        "We next run a mask sift with the default parameters to isolate the 12Hz\noscillation. There is only one clear oscillatory signal in this simulation.\nThis is extracted in IMF-2 whilst the remaining IMFs contain low-amplitude\nnoise.\n\n"
      ]
    },
    {
      "cell_type": "code",
      "execution_count": null,
      "metadata": {
        "collapsed": false
      },
      "outputs": [],
      "source": [
        "# Run a mask sift\nimf = emd.sift.mask_sift(x)\n\n# Computee frequenecy transforms\nIP, IF, IA = emd.spectra.frequency_transform(imf, sample_rate, 'hilbert')"
      ]
    },
    {
      "cell_type": "markdown",
      "metadata": {},
      "source": [
        "## The Cycles class\n\n"
      ]
    },
    {
      "cell_type": "markdown",
      "metadata": {},
      "source": [
        "We next initialise the 'Cycles' class with the instantaneous phase of the second IMF.\n\n"
      ]
    },
    {
      "cell_type": "code",
      "execution_count": null,
      "metadata": {
        "collapsed": false
      },
      "outputs": [],
      "source": [
        "C = emd.cycles.Cycles(IP[:, 2])"
      ]
    },
    {
      "cell_type": "markdown",
      "metadata": {},
      "source": [
        "This calls `emd.cycles.get_cycle_vect` on the phase time course to identify\nindividual cycles and then stores a load of relevant information which we can\nuse later. The cycle vector is stored in the class instance as `cycle_vect`.\nHere we plot the cycle vector for the first four seconds of our signal.\n\n"
      ]
    },
    {
      "cell_type": "code",
      "execution_count": null,
      "metadata": {
        "collapsed": false
      },
      "outputs": [],
      "source": [
        "plt.figure(figsize=(10, 6))\nplt.plot(t[:sample_rate*8], C.cycle_vect[:sample_rate*8], 'k')"
      ]
    },
    {
      "cell_type": "markdown",
      "metadata": {},
      "source": [
        "The Cycles class has an attached function to help identify when specific\ncycles occurred in a dataset. The ``C.get_inds_of_cycle`` function finds and\nreturns the samples in which the Nth cycle occurred. Here, we run this find\nand plot three cycles from our simulation. The cycle in the original\ntime-series is plotted in grey and the cycle from the second IMF is in\ncolour.\n\n"
      ]
    },
    {
      "cell_type": "code",
      "execution_count": null,
      "metadata": {
        "collapsed": false
      },
      "outputs": [],
      "source": [
        "cycles_to_plot = [5, 23, 42]\nplt.figure()\nfor ii in range(len(cycles_to_plot)):\n    inds = C.get_inds_of_cycle(cycles_to_plot[ii])\n    xinds = np.arange(len(inds)) + 55*ii\n    plt.plot(xinds, x[inds], color=[0.8, 0.8, 0.8])\n    plt.plot(xinds, imf[inds, 2])"
      ]
    },
    {
      "cell_type": "markdown",
      "metadata": {},
      "source": [
        "These cycles contain one complete period of an oscillation and form the basis\nfor a lot of the computations in this tutorial. However there are a couple of\nshortcomings with this standard cycle. For example, we may want to separately\nanalyse the ascending and descending edges of the oscillation, whilst the\ndescending edge is continuous - the cycles above contain two halves of two\nseparate ascending edges at the start and end of the cycle.\n\nWe could adjust the phase to make our cycle identification start at the peak\nto ensure the ascending edge is continuous, but this will just split another\npart of the cycle... One way around this is to consider an 'augmented' cycle\nwhich contains a whole standard cycle plus the last quadrant of the\nproceeding cycle. These five quarters of a cycle mean that all sections of\nthe cycle are continuously represented, though it does meaen that some parts\nof the data may be present in more than one cycle.\n\nWe can work with augmented cycles by specifying ``mode='augmented'`` when\nfinding our cycle indices.\n\n"
      ]
    },
    {
      "cell_type": "code",
      "execution_count": null,
      "metadata": {
        "collapsed": false
      },
      "outputs": [],
      "source": [
        "cycles_to_plot = [5, 23, 42]\nplt.figure()\nfor ii in range(len(cycles_to_plot)):\n    inds = C.get_inds_of_cycle(cycles_to_plot[ii], mode='augmented')\n    xinds = np.arange(len(inds)) + 60*ii\n    plt.plot(xinds, x[inds], color=[0.8, 0.8, 0.8])\n    plt.plot(xinds, imf[inds, 2])"
      ]
    },
    {
      "cell_type": "markdown",
      "metadata": {},
      "source": [
        "The cycles class can be used as an input to several other ``emd.cycles``\nfunctions to specify which cycles a particular computation should run across.\n\nFor example, here we compute the control points across from IMF-3 for each of\nour cycles.\n\n"
      ]
    },
    {
      "cell_type": "code",
      "execution_count": null,
      "metadata": {
        "collapsed": false
      },
      "outputs": [],
      "source": [
        "ctrl = emd.cycles.get_control_points(imf[:, 2], C)"
      ]
    },
    {
      "cell_type": "markdown",
      "metadata": {},
      "source": [
        "...and here we run phase-alignment.\n\n"
      ]
    },
    {
      "cell_type": "code",
      "execution_count": null,
      "metadata": {
        "collapsed": false
      },
      "outputs": [],
      "source": [
        "pa = emd.cycles.phase_align(IP[:, 2], IF[:, 2], C)"
      ]
    },
    {
      "cell_type": "markdown",
      "metadata": {},
      "source": [
        "## Computing cycle metrics\n\n"
      ]
    },
    {
      "cell_type": "markdown",
      "metadata": {},
      "source": [
        "We can loop through our cycles using the ``C.get_inds_of_cycle`` function to\nidentify a each cycle in turn. Here we run a loop to compute the maximum\namplitude of each cycle.\n\n"
      ]
    },
    {
      "cell_type": "code",
      "execution_count": null,
      "metadata": {
        "collapsed": false
      },
      "outputs": [],
      "source": [
        "amps = np.zeros((C.ncycles,))\nfor ii in range(C.ncycles):\n    inds = C.get_inds_of_cycle(ii)\n    amps[ii] = np.max(IA[inds, 2])\n\nprint(amps)"
      ]
    },
    {
      "cell_type": "markdown",
      "metadata": {},
      "source": [
        "The Cycles class has a handy method to help automate this process. Simply\nspecify a metric name, some values to compute a per-cycle metric on and a\nfunction and ``C.compute_cycle_metric`` will loop across all cycles and store\nthe result for you.\n\n"
      ]
    },
    {
      "cell_type": "code",
      "execution_count": null,
      "metadata": {
        "collapsed": false
      },
      "outputs": [],
      "source": [
        "C.compute_cycle_metric('max_amp', IA[:, 2], func=np.max)"
      ]
    },
    {
      "cell_type": "markdown",
      "metadata": {},
      "source": [
        "This is always computed for every cycle in the dataset, we can include or\nexclude cycles based on different conditions later.\n\nFor another example we compute the length of each cycle in samples.\n\n"
      ]
    },
    {
      "cell_type": "code",
      "execution_count": null,
      "metadata": {
        "collapsed": false
      },
      "outputs": [],
      "source": [
        "# Compute the length of each cycle\nC.compute_cycle_metric('duration', IA[:, 2], len)"
      ]
    },
    {
      "cell_type": "markdown",
      "metadata": {},
      "source": [
        "Cycle metrics can also be computed on the augmented cycles. Lets compute the\nstandard deviation of amplitude values for each augmented cycle.\n\n"
      ]
    },
    {
      "cell_type": "code",
      "execution_count": null,
      "metadata": {
        "collapsed": false
      },
      "outputs": [],
      "source": [
        "C.compute_cycle_metric('ampSD', IA[:, 2], np.std, mode='augmented')"
      ]
    },
    {
      "cell_type": "markdown",
      "metadata": {},
      "source": [
        "We have now computed four different metrics across our cycles.\n\n"
      ]
    },
    {
      "cell_type": "code",
      "execution_count": null,
      "metadata": {
        "collapsed": false
      },
      "outputs": [],
      "source": [
        "print(C)"
      ]
    },
    {
      "cell_type": "markdown",
      "metadata": {},
      "source": [
        "These values are now stored in the `metrics` dictionary along with the good cycle values.\n\n"
      ]
    },
    {
      "cell_type": "code",
      "execution_count": null,
      "metadata": {
        "collapsed": false
      },
      "outputs": [],
      "source": [
        "print(C.metrics.keys())\n\nprint(C.metrics['is_good'])\nprint(C.metrics['max_amp'])\nprint(C.metrics['duration'])"
      ]
    },
    {
      "cell_type": "markdown",
      "metadata": {},
      "source": [
        "These values can be accessed and used for further analyses as needed. The\nmetrics can be copied into a pandas dataframe for further analysis if\nconvenient.\n\n"
      ]
    },
    {
      "cell_type": "code",
      "execution_count": null,
      "metadata": {
        "collapsed": false
      },
      "outputs": [],
      "source": [
        "df = C.get_metric_dataframe()\nprint(df)"
      ]
    },
    {
      "cell_type": "markdown",
      "metadata": {},
      "source": [
        "We can extract a cycle vector for only the good cycles using the\n`get_matching_cycles` method attached to the `Cycles` class. This function\ntakes a list of one or more conditions and returns a booleaen vector\nindicating which cycles match the conditions.  These conditions specify the\nname of a cycle metric, a standard comparator (such as ==, > or <) and a\ncomparison value.\n\nHere, we will identify which cycles are passing our good cycle checks.\n\n"
      ]
    },
    {
      "cell_type": "code",
      "execution_count": null,
      "metadata": {
        "collapsed": false
      },
      "outputs": [],
      "source": [
        "good_cycles = C.get_matching_cycles(['is_good==1'])\nprint(good_cycles)"
      ]
    },
    {
      "cell_type": "markdown",
      "metadata": {},
      "source": [
        "This returns a boolean array indicating which cycles meet the specified conditions.\n\n"
      ]
    },
    {
      "cell_type": "code",
      "execution_count": null,
      "metadata": {
        "collapsed": false
      },
      "outputs": [],
      "source": [
        "print('{0} matching cycles found'.format(np.sum(good_cycles)))"
      ]
    },
    {
      "cell_type": "markdown",
      "metadata": {},
      "source": [
        "and which cycles are failing...\n\n"
      ]
    },
    {
      "cell_type": "code",
      "execution_count": null,
      "metadata": {
        "collapsed": false
      },
      "outputs": [],
      "source": [
        "bad_cycles = C.get_matching_cycles(['is_good==0'])\nprint('{0} matching cycles found'.format(np.sum(bad_cycles)))\nprint(bad_cycles)"
      ]
    },
    {
      "cell_type": "markdown",
      "metadata": {},
      "source": [
        "Several conditions can be specified in a list\n\n"
      ]
    },
    {
      "cell_type": "code",
      "execution_count": null,
      "metadata": {
        "collapsed": false
      },
      "outputs": [],
      "source": [
        "good_cycles = C.get_matching_cycles(['is_good==1', 'duration>40', 'max_amp>1'])\nprint('{0} matching cycles found'.format(np.sum(good_cycles)))\nprint(good_cycles)"
      ]
    },
    {
      "cell_type": "markdown",
      "metadata": {},
      "source": [
        "The conditions can also be used to specify  which cycles to include in a\npandas dataframe.\n\n"
      ]
    },
    {
      "cell_type": "code",
      "execution_count": null,
      "metadata": {
        "collapsed": false
      },
      "outputs": [],
      "source": [
        "df = C.get_metric_dataframe(conditions=['is_good==1', 'duration>40', 'max_amp>1'])\nprint(df)"
      ]
    },
    {
      "cell_type": "markdown",
      "metadata": {},
      "source": [
        "## Adding custom metrics\n\n"
      ]
    },
    {
      "cell_type": "markdown",
      "metadata": {},
      "source": [
        "Any function that takes a vector input and returns a single value can be used\nto compute cycle metrics. Here we make a complex user-defined function which\ncomputes the degree-of-nonlinearity of each cycle.\n\n"
      ]
    },
    {
      "cell_type": "code",
      "execution_count": null,
      "metadata": {
        "collapsed": false
      },
      "outputs": [],
      "source": [
        "def degree_nonlinearity(x):\n    \"\"\"Compute degree of nonlinearity. Eqn 3 in\n    https://journals.plos.org/plosone/article?id=10.1371/journal.pone.0168108\"\"\"\n    y = np.sum(((x-x.mean()) / x.mean())**2)\n    return np.sqrt(y / len(x))\n\n\nC.compute_cycle_metric('DoN', IF[:, 2], degree_nonlinearity)"
      ]
    },
    {
      "cell_type": "markdown",
      "metadata": {},
      "source": [
        "Custom metrics which take multiple time-series arguments can also be defined.\nIn these cases a tuple of vectors is passed into `compute_cycle_metric` and\nthe samples for each cycle are indexed out of each vector and passed to the\nfunction. For example, here we compute the correlation between the IMF-3 and\nthe raw time-course for each cycle.\n\n"
      ]
    },
    {
      "cell_type": "code",
      "execution_count": null,
      "metadata": {
        "collapsed": false
      },
      "outputs": [],
      "source": [
        "def my_corr(x, y):\n    return np.corrcoef(x, y)[0, 1]\n\n\nC.compute_cycle_metric('raw_corr', (imf[:, 2], x[:, 0]), my_corr)"
      ]
    },
    {
      "cell_type": "markdown",
      "metadata": {},
      "source": [
        "We can also store arbitrary cycle stats in the dictionary - as long as there\nis one value for every cycle. This might include external values or more\ncomplex stats that are beyond the scope of `emd.cycles.get_cycle_stat`. These\ncan be stored using the `Cycles.add_cycle_metric` method.\n\nLet's compute and store the time of the peak and trough in each cycle in milliseconds.\n\n"
      ]
    },
    {
      "cell_type": "code",
      "execution_count": null,
      "metadata": {
        "collapsed": false
      },
      "outputs": [],
      "source": [
        "ctrl = emd.cycles.get_control_points(imf[:, 2], C)\n\npeak_time_ms = ctrl[:, 1]/sample_rate * 1000\ntrough_time_ms = ctrl[:, 3]/sample_rate * 1000\n\nC.add_cycle_metric('peak_time_ms', peak_time_ms)\nC.add_cycle_metric('trough_time_ms', trough_time_ms)"
      ]
    },
    {
      "cell_type": "markdown",
      "metadata": {},
      "source": [
        "Once we have this many cycle metrics, the dictionary storage can be tricky to\nvisualise (though it works well in the internal code). If you have\npython-pandas installed, you can export the metrics into a DataFrame which is\neasier to summarise and visualise.\n\n"
      ]
    },
    {
      "cell_type": "code",
      "execution_count": null,
      "metadata": {
        "collapsed": false
      },
      "outputs": [],
      "source": [
        "df = C.get_metric_dataframe()\nprint(df)"
      ]
    },
    {
      "cell_type": "markdown",
      "metadata": {},
      "source": [
        "The summary table for the DataFrame gives a convenient summary description of\nthe cycle metrics.\n\n"
      ]
    },
    {
      "cell_type": "code",
      "execution_count": null,
      "metadata": {
        "collapsed": false
      },
      "outputs": [],
      "source": [
        "print(df.describe())"
      ]
    },
    {
      "cell_type": "markdown",
      "metadata": {},
      "source": [
        "## Cycle chain analysis\n\n"
      ]
    },
    {
      "cell_type": "markdown",
      "metadata": {},
      "source": [
        "Finally, we can use the `emd.cycles.Cycles` class to help with cycle chain\nanalyses. This illustrates one of the most complex use-cases for the `Cycles`\nobject! Computing metrics from groups of cycles and mapping these back to\ncycle-level metrics can involve some difficult indexing.\n\nLets extract the big-long-good cycles and compute the continuous\nchains of cycles within this subset.\n\n"
      ]
    },
    {
      "cell_type": "code",
      "execution_count": null,
      "metadata": {
        "collapsed": false
      },
      "outputs": [],
      "source": [
        "C.pick_cycle_subset(['max_amp>1', 'duration>30', 'is_good==1'])"
      ]
    },
    {
      "cell_type": "markdown",
      "metadata": {},
      "source": [
        "This computes two additional variables. Firstly, a ``subset_vect`` which maps\ncycles into 'good' cycles matching our conditions with -1 indicating a cycle\nwhich was removed.\n\n"
      ]
    },
    {
      "cell_type": "code",
      "execution_count": null,
      "metadata": {
        "collapsed": false
      },
      "outputs": [],
      "source": [
        "print(C.subset_vect)"
      ]
    },
    {
      "cell_type": "markdown",
      "metadata": {},
      "source": [
        "Secondly, a ``chain_vect`` defines which groups of cycles in the subset form\ncontinuous chains.\n\n"
      ]
    },
    {
      "cell_type": "code",
      "execution_count": null,
      "metadata": {
        "collapsed": false
      },
      "outputs": [],
      "source": [
        "print(C.chain_vect)"
      ]
    },
    {
      "cell_type": "markdown",
      "metadata": {},
      "source": [
        "There is a helper function in the Cycles object which computes a set of\nsimple chain timing metrics. These are 'chain_ind', `chain_start`,\n`chain_end`, `chain_len_samples`, `chain_len_cycles` and `chain_position`.\nEach metric is computed and a value saved out for each cycle.\n\n"
      ]
    },
    {
      "cell_type": "code",
      "execution_count": null,
      "metadata": {
        "collapsed": false
      },
      "outputs": [],
      "source": [
        "C.compute_chain_timings()\n\ndf = C.get_metric_dataframe(subset=True)\nprint(df)"
      ]
    },
    {
      "cell_type": "markdown",
      "metadata": {},
      "source": [
        "We can also compute chain specific metrics similar to how we compute cycle\nmetrics. Each chain metric is saved out for each cycle within the chain. Here\nwe compute the maximum amplitude for each chain and plot its relationship\nwith chain length.\n\n"
      ]
    },
    {
      "cell_type": "code",
      "execution_count": null,
      "metadata": {
        "collapsed": false
      },
      "outputs": [],
      "source": [
        "C.compute_chain_metric('chain_max_amp', IA[:, 2], np.max)\ndf = C.get_metric_dataframe(subset=True)\n\nplt.figure()\nplt.plot(df['chain_len_samples'], df['chain_max_amp'], '.')\nplt.xlabel('Chain Length (samples)')\nplt.ylabel('Chain Max-Amplitude')"
      ]
    },
    {
      "cell_type": "markdown",
      "metadata": {},
      "source": [
        "We can then select the cycle metrics from the cycles in a single chain by\nspecifying the chain index as a condition.\n\n"
      ]
    },
    {
      "cell_type": "code",
      "execution_count": null,
      "metadata": {
        "collapsed": false
      },
      "outputs": [],
      "source": [
        "df = C.get_metric_dataframe(conditions='chain_ind==42')\nprint(df)"
      ]
    }
  ],
  "metadata": {
    "kernelspec": {
      "display_name": "Python 3",
      "language": "python",
      "name": "python3"
    },
    "language_info": {
      "codemirror_mode": {
        "name": "ipython",
        "version": 3
      },
      "file_extension": ".py",
      "mimetype": "text/x-python",
      "name": "python",
      "nbconvert_exporter": "python",
      "pygments_lexer": "ipython3",
      "version": "3.7.6"
    }
  },
  "nbformat": 4,
  "nbformat_minor": 0
}