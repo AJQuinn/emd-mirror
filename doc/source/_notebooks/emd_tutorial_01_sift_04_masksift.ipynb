{
  "cells": [
    {
      "cell_type": "code",
      "execution_count": null,
      "metadata": {
        "collapsed": false
      },
      "outputs": [],
      "source": [
        "%matplotlib inline"
      ]
    },
    {
      "cell_type": "markdown",
      "metadata": {},
      "source": [
        "\n# Masked sifting\nThis tutorial introduces some of the issues that standard EMD algorithms can\nhave with intermitent signals and shows how the Masked sift can resolve them.\n"
      ]
    },
    {
      "cell_type": "markdown",
      "metadata": {},
      "source": [
        "Lets make a simulated signal to get started.\n\n"
      ]
    },
    {
      "cell_type": "code",
      "execution_count": null,
      "metadata": {
        "collapsed": false
      },
      "outputs": [],
      "source": [
        "import emd\nimport numpy as np\nimport matplotlib.pyplot as plt\n\nseconds = 5\nsample_rate = 1024\ntime_vect = np.linspace(0, seconds, seconds*sample_rate)\n\n# Create an amplitude modulation\nam = np.sin(2*np.pi*time_vect)\nam[am < 0] = 0\n\n# Create a 25Hz signal and introduce the amplitude modulation\nxx = am*np.sin(2*np.pi*25*time_vect)\n\n# Create a non-modulated 6Hz signal\nyy = .5*np.sin(2*np.pi*6*time_vect)\n\n# Sum the 25Hz and 6Hz components together\nxy = xx+yy\n\n# Make a quick summary plot\nplt.figure()\nplt.subplot(311)\nplt.plot(xy)\nplt.subplot(312)\nplt.plot(xx)\nplt.subplot(313)\nplt.plot(yy)\n\n# sphinx_gallery_thumbnail_number = 2"
      ]
    },
    {
      "cell_type": "markdown",
      "metadata": {},
      "source": [
        "This signal doesn't contain any noise and only has two frequency components\nso should be straightforward to sift. Unfortunately, as the 25Hz signal\ncomponent disappears completely for parts of the signal the EMD doesn't quite\ndo what we'd want it to.\n\nHere we run a default sift and plot the IMFs.\n\n"
      ]
    },
    {
      "cell_type": "code",
      "execution_count": null,
      "metadata": {
        "collapsed": false
      },
      "outputs": [],
      "source": [
        "imf = emd.sift.sift(xy, max_imfs=3)\nemd.plotting.plot_imfs(imf, cmap=True, scale_y=True)"
      ]
    },
    {
      "cell_type": "markdown",
      "metadata": {},
      "source": [
        "The signals are well separated when both oscillations are present. However in\n time periods where the fast 25Hz signal disappears the slower signal jumps up\n to become part of the fast component. We'd prefer the separation into narrow\n band components as seen in the simulations above...\n\n This happens as EMD is a locally adaptive algorithm - the peaks and troughs\n in the signal define the time-scales that are analysed for a given part of\n the signal. So, the first IMF will always find the fastest peaks for every\n part of the signal even if the definition of 'fast' might be different in\n different segments.\n\n The Masked sift is a potential solution to this problem. This is a simple\n trick which effectively puts a lower bound on the frequency content that can\n enter a particular IMF. We will add a known masking signal to our time-series\n before running ``emd.sift.get_next_imf``. Any signals which are lower in\n frequency than this mask should then be ignored by the sift in favour of this\n known signal. Finally, we can remove the known mask to recover our IMF.\n\n\u00a0Here we make a 30Hz mask and plot it next to a segment of our time-series.\n\n"
      ]
    },
    {
      "cell_type": "code",
      "execution_count": null,
      "metadata": {
        "collapsed": false
      },
      "outputs": [],
      "source": [
        "mask = 0.1*np.sin(2*np.pi*30*time_vect)\n\nplt.figure()\nplt.plot(xy)\nplt.plot(mask)\nplt.xlim(0, 1000)"
      ]
    },
    {
      "cell_type": "markdown",
      "metadata": {},
      "source": [
        "We see that the masking signal is close in frequency to the fast burst but\nmuch faster than the 6Hz signal.\n\nNext we identify our next IMF on the raw signal with and without the mask\n\n"
      ]
    },
    {
      "cell_type": "code",
      "execution_count": null,
      "metadata": {
        "collapsed": false
      },
      "outputs": [],
      "source": [
        "imf_raw, _ = emd.sift.get_next_imf(xy)\nimf_mask, _ = emd.sift.get_next_imf(xy+mask)"
      ]
    },
    {
      "cell_type": "markdown",
      "metadata": {},
      "source": [
        "The normal IMF in the top panel has the problem we saw earlier, the slow\nsignal is leaking into the fast IMF. The masked IMF successfully suppresses\nthis slow signal, replacing it with the mask frequency. Finally, subtracting\nthe mask removes everything but the 25Hz oscillation which now correctly\ndisappears between bursts.\n\n"
      ]
    },
    {
      "cell_type": "code",
      "execution_count": null,
      "metadata": {
        "collapsed": false
      },
      "outputs": [],
      "source": [
        "plt.figure()\nplt.subplots_adjust(hspace=0.3)\nplt.subplot(311)\nplt.plot(imf_raw)\nplt.xlim(0, 1000)\nplt.title('Normal IMF')\nplt.gca().set_xticklabels([])\nplt.subplot(312)\nplt.plot(imf_mask)\nplt.xlim(0, 1000)\nplt.title('Masked IMF')\nplt.gca().set_xticklabels([])\nplt.subplot(313)\nplt.plot(imf_mask - mask[:, np.newaxis])\nplt.xlim(0, 1000)\nplt.title('Masked IMF with Mask removed')"
      ]
    },
    {
      "cell_type": "markdown",
      "metadata": {},
      "source": [
        "This effect is more obvious if we look at the whole time-courses without zooming in\n\n"
      ]
    },
    {
      "cell_type": "code",
      "execution_count": null,
      "metadata": {
        "collapsed": false
      },
      "outputs": [],
      "source": [
        "plt.figure()\nplt.subplots_adjust(hspace=0.3)\nplt.subplot(311)\nplt.plot(imf_raw)\nplt.title('Normal IMF')\nplt.gca().set_xticklabels([])\nplt.subplot(312)\nplt.plot(imf_mask)\nplt.title('Masked IMF')\nplt.gca().set_xticklabels([])\nplt.subplot(313)\nplt.plot(imf_mask - mask[:, np.newaxis])\nplt.title('Masked IMF with Mask removed')"
      ]
    },
    {
      "cell_type": "markdown",
      "metadata": {},
      "source": [
        "This masking process is implemented in ``emd.sift.get_next_imf_mask`` which\nworks much like ``emd.sift.get_next_imf`` with a couple of extra options for\nadding masks. We can specify the frequency and amplitude of the mask to be\napplied whilst isolating our IMF.\n\nIt is important that the mask frequency is approximately equal to the signal\ncomponent we want to isolate. If we use a mask of too high or too low\nfrequency then the procedure will not work.\n\nNext we use a mask with an very high frequency which suppresses both signal components.\n\n"
      ]
    },
    {
      "cell_type": "code",
      "execution_count": null,
      "metadata": {
        "collapsed": false
      },
      "outputs": [],
      "source": [
        "# Masks should be specified in normalised frequencies between 0 and .5 where 0.5 is half the sampling rate\nhigh_mask_freq = 150/sample_rate\nimf_high_mask, _ = emd.sift.get_next_imf_mask(xy, high_mask_freq, 2)\n\nplt.figure()\nplt.plot(imf_high_mask)"
      ]
    },
    {
      "cell_type": "markdown",
      "metadata": {},
      "source": [
        "Finally a very low frequency mask which allows both components back through...\n\n"
      ]
    },
    {
      "cell_type": "code",
      "execution_count": null,
      "metadata": {
        "collapsed": false
      },
      "outputs": [],
      "source": [
        "low_mask_freq = 2/sample_rate\nimf_low_mask, _ = emd.sift.get_next_imf_mask(xy, low_mask_freq, 2)\n\n\nplt.figure()\nplt.plot(imf_low_mask)"
      ]
    },
    {
      "cell_type": "markdown",
      "metadata": {},
      "source": [
        "``emd.sift.mask_sift`` uses ``emd.sift.get_next_imf_mask`` internally to run\na whole set of sifts using the masking method. Each IMF is isolated with a\nseparate mask which decreases in frequency for each successive IMF.\n\nHere we run a ``mask_sift`` using mask frequencies starting at 30Hz. This\nwill reduce by one half for each successive IMF - the second mask will be\n15Hz, the third is 7.5Hz and so on.\n\n"
      ]
    },
    {
      "cell_type": "code",
      "execution_count": null,
      "metadata": {
        "collapsed": false
      },
      "outputs": [],
      "source": [
        "imf, mask_freqs = emd.sift.mask_sift(xy, mask_freqs=30/sample_rate, ret_mask_freq=True, max_imfs=4)\n\nprint(mask_freqs * sample_rate)"
      ]
    },
    {
      "cell_type": "markdown",
      "metadata": {},
      "source": [
        "We can see that this sift nicely separates the two components. The first IMF\ncontains the 25Hz bursting signal which returns to a flat line between\nevents. The second IMF contains very low amplitude noise. This is as the mask\nfrequency of 15Hz for the second mask is still too high to isolate the\noscillation of 6Hz - so IMF 2 is essentially flat. The third IMF with a mask\nfrequency of 7.5Hz is about right to isolate the 6Hz signal.\n\n"
      ]
    },
    {
      "cell_type": "code",
      "execution_count": null,
      "metadata": {
        "collapsed": false
      },
      "outputs": [],
      "source": [
        "emd.plotting.plot_imfs(imf, cmap=True, scale_y=True)"
      ]
    }
  ],
  "metadata": {
    "kernelspec": {
      "display_name": "Python 3",
      "language": "python",
      "name": "python3"
    },
    "language_info": {
      "codemirror_mode": {
        "name": "ipython",
        "version": 3
      },
      "file_extension": ".py",
      "mimetype": "text/x-python",
      "name": "python",
      "nbconvert_exporter": "python",
      "pygments_lexer": "ipython3",
      "version": "3.7.6"
    }
  },
  "nbformat": 4,
  "nbformat_minor": 0
}