{
  "cells": [
    {
      "cell_type": "code",
      "execution_count": null,
      "metadata": {
        "collapsed": false
      },
      "outputs": [],
      "source": [
        "%matplotlib inline"
      ]
    },
    {
      "cell_type": "markdown",
      "metadata": {},
      "source": [
        "\n# Intro to the sift\nThis tutorial is a general introduction to the sift algorithm. We introduce the\nsift in steps and some of the options that can be tuned.\n"
      ]
    },
    {
      "cell_type": "markdown",
      "metadata": {},
      "source": [
        "Lets make a simulated signal to get started. This is a fairly complicated\nsignal with a non-linear 12Hz oscillation, a very slow fluctuation and some\nhigh frequency noise.\n\n"
      ]
    },
    {
      "cell_type": "code",
      "execution_count": null,
      "metadata": {
        "collapsed": false
      },
      "outputs": [],
      "source": [
        "import emd\nimport numpy as np\nfrom scipy import signal\nimport matplotlib.pyplot as plt\n\nsample_rate = 1000\nseconds = 1\nnum_samples = sample_rate*seconds\ntime_vect = np.linspace(0, seconds, num_samples)\nfreq = 15\n\n# Change extent of deformation from sinusoidal shape [-1 to 1]\nnonlinearity_deg = .25\n\n# Change left-right skew of deformation [-pi to pi]\nnonlinearity_phi = -np.pi/4\n\n# Create a non-linear oscillation\nx = emd.utils.abreu2010(freq, nonlinearity_deg, nonlinearity_phi, sample_rate, seconds)\n\nx -= np.sin(2 * np.pi * 0.22 * time_vect)   # Add part of a very slow cycle as a trend\n\n# Add a little noise - with low frequencies removed to make this example a\n# little cleaner...\nnp.random.seed(42)\nn = np.random.randn(1000,) * .2\nnf = signal.savgol_filter(n, 3, 1)\nn = n - nf\n\nx = x + n\n\nplt.figure()\nplt.plot(x, 'k')\n\n# sphinx_gallery_thumbnail_number = 8"
      ]
    },
    {
      "cell_type": "markdown",
      "metadata": {},
      "source": [
        "The sift works by iteratively extracting oscillatory components from a\nsignal. Starting from the fastest and through to the very slowest until only\na non-oscillatory trend is left. Each component is then known as an\n'Intrinsic Mode Function' or IMF.\n\nThe extraction of these IMFs is a difficult problem without a clear analytic\nor symbolic solutoin. Therefore, the sift looks to iteratively approximate\nthe best set of IMFs using a set of heuristic rules (this sort of analysis is\na type of numerical algorithm).\n\nThe first thing the sift does is identify the very fastest dynamics in a\nsignal. We do this by identifying all the peaks and troughs in the signal.\nHere, we do this with ``emd.sift.get_padded_extrema`` and plot the extrema on\na segment of the signal.\n\n"
      ]
    },
    {
      "cell_type": "code",
      "execution_count": null,
      "metadata": {
        "collapsed": false
      },
      "outputs": [],
      "source": [
        "peak_locs, peak_mags = emd.sift.get_padded_extrema(x, pad_width=0, mode='peaks')\ntrough_locs, trough_mags = emd.sift.get_padded_extrema(x, pad_width=0, mode='troughs')\n\nplt.figure()\nplt.plot(x, 'k')\nplt.plot(peak_locs, peak_mags, 'o')\nplt.plot(trough_locs, trough_mags, 'o')\nplt.xlim(0, 150)"
      ]
    },
    {
      "cell_type": "markdown",
      "metadata": {},
      "source": [
        "We want to extract the fastest dynamics from this signal - but what do we\nmean by fastest? We define the fastest dynamics to be the oscillations\noccurring between adjacent peaks and troughs in our signal - anything slower\nshould be removed for now.\n\nTo isolate these fast dynamics, we identify an upper and lower amplitude\nenvelope from the peaks and troughs and compute their average. Here we do\nthis with ``emd.utils.interp_envelope`` (note: this uses\n``emd.sift.get_padded_extrema`` internally to find the same extrema we\nplotted above) and then plot an example.\n\n"
      ]
    },
    {
      "cell_type": "code",
      "execution_count": null,
      "metadata": {
        "collapsed": false
      },
      "outputs": [],
      "source": [
        "proto_imf = x.copy()\n# Compute upper and lower envelopes\nupper_env = emd.utils.interp_envelope(proto_imf, mode='upper')\nlower_env = emd.utils.interp_envelope(proto_imf, mode='lower')\n\n# Compute average envelope\navg_env = (upper_env+lower_env) / 2\n\nplt.figure()\nplt.plot(x, 'k')\nplt.plot(upper_env)\nplt.plot(lower_env)\nplt.plot(avg_env)\nplt.xlim(0, 150)\nplt.legend(['Signal', 'Upper Env', 'Lower Env', 'Avg Env'])"
      ]
    },
    {
      "cell_type": "markdown",
      "metadata": {},
      "source": [
        "In this segment, we can see that the fastest dynamics occur in the rapid\noscillations of the black line between its upper a lower envelope. These\noscillations are happening alongside dynamics on other time-scales which are\nall summed together to make the original signal. We approximate these slower\ndynamics through the average of the uppers and lower envelope - the green\nline in the plot above). The average envelope drifts more slowly than the\nfastest oscillations visible in the raw signal and tends to capture trends in\nthe mean across several cycles of the fastest dynamics.\n\nWe can remove these slower components by simply subtracting this average\nenvelope. Here we do this subtraction and make a quick plot\n\n"
      ]
    },
    {
      "cell_type": "code",
      "execution_count": null,
      "metadata": {
        "collapsed": false
      },
      "outputs": [],
      "source": [
        "# Subtract slow dynamics from previous cell\nproto_imf = x - avg_env\n\n# Compute upper and lower envelopes\nupper_env = emd.utils.interp_envelope(proto_imf, mode='upper')\nlower_env = emd.utils.interp_envelope(proto_imf, mode='lower')\n\n# Compute average envelope\navg_env = (upper_env+lower_env) / 2\n\nplt.figure()\nplt.subplot(211)\nplt.plot(x, 'k')\nplt.xlim(0, 150)\nplt.legend(['Original Signal'])\n\nplt.subplot(212)\nplt.plot(proto_imf, 'k')\nplt.plot(upper_env)\nplt.plot(lower_env)\nplt.plot(avg_env)\nplt.xlim(0, 150)\nplt.legend(['Proto IMF', 'Upper Env', 'Lower Env', 'Avg Env'])"
      ]
    },
    {
      "cell_type": "markdown",
      "metadata": {},
      "source": [
        "The top panel shows the original signal and average envelope, and the bottom\npanel shows the signal with the average envelope removed and the envelopes of\nthis new signal.\n\nThe fastest oscillations are now much clearer with the slow trends removed.\nThe sift algorithm now just repeats these steps until certain stopping\nconditions are met. In general, we want to stop sifting an IMF once the\naverage of the upper and lower envelopes are sufficiently close to zero.\nWhen this condition is met, it guarantees that the signal will behave well\nduring analysis of instantaneous frequency (a story for another tutorial...).\n\nHere we run another iteration of the sift on the residual of our previous one.\n\n"
      ]
    },
    {
      "cell_type": "code",
      "execution_count": null,
      "metadata": {
        "collapsed": false
      },
      "outputs": [],
      "source": [
        "# Subtract slow dynamics from previous cell\nproto_imf = proto_imf - avg_env\n\n# Compute upper and lower envelopes\nupper_env = emd.utils.interp_envelope(proto_imf, mode='upper')\nlower_env = emd.utils.interp_envelope(proto_imf, mode='lower')\n\n# Compute average envelope\navg_env = (upper_env+lower_env) / 2\n\nplt.figure()\nplt.subplot(211)\nplt.plot(proto_imf, 'k')\nplt.xlim(0, 150)\nplt.legend(['proto IMF - iteration 1'])\n\nplt.subplot(212)\nplt.plot(proto_imf, 'k')\nplt.plot(upper_env)\nplt.plot(lower_env)\nplt.plot(avg_env)\nplt.xlim(0, 150)\nplt.legend(['Proto IMF', 'Upper Env', 'Lower Env', 'Avg Env'])"
      ]
    },
    {
      "cell_type": "markdown",
      "metadata": {},
      "source": [
        "After two iterations the average envelope is now very closer to zero though\nthere are still some deviations. The full sift would continue iterating until\nwe pass a defined threshold and accept the result as our IMF.\n\n\n"
      ]
    },
    {
      "cell_type": "markdown",
      "metadata": {},
      "source": [
        "## Running sift iterations\n\n"
      ]
    },
    {
      "cell_type": "markdown",
      "metadata": {},
      "source": [
        "We don't want to run these iterations by hand, so lets define a function to\ndo the work for us. Here, we make ``my_get_next_imf`` which will repeat the\nsteps above until the average envelopes are sufficiently close to zero as\ndefined by the ``sd_thresh``. We will plot the sift ierations as we go and\ninclude an option to zoom in in part of the signal.\n\n"
      ]
    },
    {
      "cell_type": "code",
      "execution_count": null,
      "metadata": {
        "collapsed": false
      },
      "outputs": [],
      "source": [
        "def my_get_next_imf(x, zoom=None, sd_thresh=0.1):\n\n    proto_imf = x.copy()  # Take a copy of the input so we don't overwrite anything\n    continue_sift = True  # Define a flag indicating whether we should continue sifting\n    niters = 0            # An iteration counter\n\n    if zoom is None:\n        zoom = (0, x.shape[0])\n\n    # Main loop - we don't know how many iterations we'll need so we use a ``while`` loop\n    while continue_sift:\n        niters += 1  # Increment the counter\n\n        # Compute upper and lower envelopes\n        upper_env = emd.utils.interp_envelope(proto_imf, mode='upper')\n        lower_env = emd.utils.interp_envelope(proto_imf, mode='lower')\n\n        # Compute average envelope\n        avg_env = (upper_env+lower_env) / 2\n\n        # Add a summary subplot\n        plt.subplot(5, 1, niters)\n        plt.plot(proto_imf[zoom[0]:zoom[1]], 'k')\n        plt.plot(upper_env[zoom[0]:zoom[1]])\n        plt.plot(lower_env[zoom[0]:zoom[1]])\n        plt.plot(avg_env[zoom[0]:zoom[1]])\n\n        # Should we stop sifting?\n        stop, val = emd.sift.sd_stop(proto_imf-avg_env, proto_imf, sd=sd_thresh)\n\n        # Remove envelope from proto IMF\n        proto_imf = proto_imf - avg_env\n\n        # and finally, stop if we're stopping\n        if stop:\n            continue_sift = False\n\n    # Return extracted IMF\n    return proto_imf"
      ]
    },
    {
      "cell_type": "markdown",
      "metadata": {},
      "source": [
        "The core parts of this function should be familiar from earlier parts of the\ntutorial. We can now call this function to find the fastest IMF from our\nsignal.\n\nLet's extract our IMF, plotting the iterations and zooming in to a 100 sample\nperiod so we can see the details.\n\n"
      ]
    },
    {
      "cell_type": "code",
      "execution_count": null,
      "metadata": {
        "collapsed": false
      },
      "outputs": [],
      "source": [
        "imf1 = my_get_next_imf(x, zoom=(100, 200))"
      ]
    },
    {
      "cell_type": "markdown",
      "metadata": {},
      "source": [
        "The top panel shows the original signal and each lower panel shows successive\niteraitons. The first iteration removes the majority of the slow oscillation\nwhilst the second does some fine-tuning.\n\nHere we plot the original signal, the first IMF and the residual after\nsubtracting the first IMF from the signal.\n\n"
      ]
    },
    {
      "cell_type": "code",
      "execution_count": null,
      "metadata": {
        "collapsed": false
      },
      "outputs": [],
      "source": [
        "plt.figure()\nplt.subplots_adjust(hspace=0.3)\n\nplt.subplot(311)\nplt.plot(x)\nplt.title('Signal')\nplt.xticks([])\n\nplt.subplot(312)\nplt.plot(imf1)\nplt.title('IMF 1')\nplt.xticks([])\n\nplt.subplot(313)\nplt.plot(x - imf1)\nplt.title('Signal - IMF 1')\nplt.xticks([])"
      ]
    },
    {
      "cell_type": "markdown",
      "metadata": {},
      "source": [
        "There are some edge effects visible in our IMF. This is due to uncertainty in\nthe envelope interpolation at the edges of the signal. The residual of the\nsignal minus the IMF now has a lot of high frequency content removed.\n\nWe can repeat the process on this residual to identify our next IMF. The\nprocess of peak detection, envelope interpolation and subtraction is\nidentical for this second IMF. Critically, as we've removed the first IMF -\nthe peaks will be further apart in this iteration and we will extract slower\ndynamics. Therefore we zoom into a slightly longer 200 sample window.\n\n"
      ]
    },
    {
      "cell_type": "code",
      "execution_count": null,
      "metadata": {
        "collapsed": false
      },
      "outputs": [],
      "source": [
        "imf2 = my_get_next_imf(x - imf1, zoom=(100, 300))"
      ]
    },
    {
      "cell_type": "markdown",
      "metadata": {},
      "source": [
        "This IMF is tiny! The first couple of iterations remove the big slow\noscillations and after four iterations we have a very small amplitude\ncomponent containing a clean oscillation with zero mean.\n\nAfter subtracting both IMFs the larger 12 Hz oscillation now looks very\nsmooth.\n\n"
      ]
    },
    {
      "cell_type": "code",
      "execution_count": null,
      "metadata": {
        "collapsed": false
      },
      "outputs": [],
      "source": [
        "plt.figure()\nplt.subplots_adjust(hspace=0.3)\n\nplt.subplot(311)\nplt.plot(x - imf1)\nplt.title('Signal - IMF1')\nplt.xticks([])\n\nplt.subplot(312)\nplt.plot(imf2)\nplt.title('IMF 2')\nplt.xticks([])\n\nplt.subplot(313)\nplt.plot(x - imf1 - imf2)\nplt.title('Signal - IMF1 & IMF2')\nplt.xticks([])"
      ]
    },
    {
      "cell_type": "markdown",
      "metadata": {},
      "source": [
        "The next IMF extraction is very simple. It only takes a single iteration to\nremove the slow drift from the 12Hz oscillation\n\n"
      ]
    },
    {
      "cell_type": "code",
      "execution_count": null,
      "metadata": {
        "collapsed": false
      },
      "outputs": [],
      "source": [
        "imf3 = my_get_next_imf(x - imf1 - imf2, zoom=(100, 800))"
      ]
    },
    {
      "cell_type": "markdown",
      "metadata": {},
      "source": [
        "The residual of the signal with the first 3 IMFs is now close to a trend.\n\n"
      ]
    },
    {
      "cell_type": "code",
      "execution_count": null,
      "metadata": {
        "collapsed": false
      },
      "outputs": [],
      "source": [
        "plt.figure()\nplt.subplots_adjust(hspace=0.3)\n\nplt.subplot(311)\nplt.plot(x - imf1 - imf2)\nplt.title('Signal - IMF1 & IMF2')\nplt.xticks([])\n\nplt.subplot(312)\nplt.plot(imf3)\nplt.title('IMF3')\nplt.xticks([])\n\nplt.subplot(313)\nplt.plot(x - imf1 - imf2 - imf3)\nplt.title('Signal - IMF1 & IMF2 & IMF3')\nplt.xticks([])"
      ]
    },
    {
      "cell_type": "markdown",
      "metadata": {},
      "source": [
        "## The top-level sift function\n\n"
      ]
    },
    {
      "cell_type": "markdown",
      "metadata": {},
      "source": [
        "This whole process is implemented in ``emd.sift.sift``. Here we run the sift\nusing the top level function and recover the same components as we generated\nduring this tutorial.\n\n"
      ]
    },
    {
      "cell_type": "code",
      "execution_count": null,
      "metadata": {
        "collapsed": false
      },
      "outputs": [],
      "source": [
        "imf = emd.sift.sift(x, imf_opts={'sd_thresh': 0.1})\nemd.plotting.plot_imfs(imf, cmap=True, scale_y=True)"
      ]
    },
    {
      "cell_type": "markdown",
      "metadata": {},
      "source": [
        "``emd.sift.sift`` is highly customisable with a load of options to tune the\npeak detection, envelope interpolation and sift thresholds.\n\n"
      ]
    }
  ],
  "metadata": {
    "kernelspec": {
      "display_name": "Python 3",
      "language": "python",
      "name": "python3"
    },
    "language_info": {
      "codemirror_mode": {
        "name": "ipython",
        "version": 3
      },
      "file_extension": ".py",
      "mimetype": "text/x-python",
      "name": "python",
      "nbconvert_exporter": "python",
      "pygments_lexer": "ipython3",
      "version": "3.7.6"
    }
  },
  "nbformat": 4,
  "nbformat_minor": 0
}