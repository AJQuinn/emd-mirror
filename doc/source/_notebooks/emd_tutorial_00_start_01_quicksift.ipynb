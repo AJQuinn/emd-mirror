{
  "cells": [
    {
      "cell_type": "code",
      "execution_count": null,
      "metadata": {
        "collapsed": false
      },
      "outputs": [],
      "source": [
        "%matplotlib inline"
      ]
    },
    {
      "cell_type": "markdown",
      "metadata": {},
      "source": [
        "\n# Quick-Start: Running a simple EMD\nThis getting started tutorial shows how to use EMD to analyse a synthetic signal.\n"
      ]
    },
    {
      "cell_type": "markdown",
      "metadata": {},
      "source": [
        "## Running an EMD and frequency transform\nFirst of all, we import both the numpy and EMD modules:\n\n"
      ]
    },
    {
      "cell_type": "code",
      "execution_count": null,
      "metadata": {
        "collapsed": false
      },
      "outputs": [],
      "source": [
        "# sphinx_gallery_thumbnail_number = 2\n\nimport matplotlib.pyplot as plt\nimport numpy as np\nimport emd"
      ]
    },
    {
      "cell_type": "markdown",
      "metadata": {},
      "source": [
        "We then define a simulated waveform containing a non-linear wave at 5Hz and a sinusoid at 1Hz:\n\n"
      ]
    },
    {
      "cell_type": "code",
      "execution_count": null,
      "metadata": {
        "collapsed": false
      },
      "outputs": [],
      "source": [
        "sample_rate = 1000\nseconds = 10\nnum_samples = sample_rate*seconds\n\ntime_vect = np.linspace(0, seconds, num_samples)\n\nfreq = 5\n\n# Change extent of deformation from sinusoidal shape [-1 to 1]\nnonlinearity_deg = 0.25\n\n# Change left-right skew of deformation [-pi to pi]\nnonlinearity_phi = -np.pi/4\n\n# Compute the signal\n\n# Create a non-linear oscillation\nx = emd.utils.abreu2010(freq, nonlinearity_deg, nonlinearity_phi, sample_rate, seconds)\n\nx += np.cos(2 * np.pi * 1 * time_vect)        # Add a simple 1Hz sinusoid\nx -= np.sin(2 * np.pi * 2.2e-1 * time_vect)   # Add part of a very slow cycle as a trend\n\n# Visualise the time-series for analysis\nplt.figure(figsize=(12, 4))\nplt.plot(x)"
      ]
    },
    {
      "cell_type": "markdown",
      "metadata": {},
      "source": [
        "Try changing the values of ``nonlinearity_deg`` and ``nonlinearity_phi`` to\ncreate different non-sinusoidal waveform shapes.\n\nNext, we can then estimate the IMFs for the signal:\n\n"
      ]
    },
    {
      "cell_type": "code",
      "execution_count": null,
      "metadata": {
        "collapsed": false
      },
      "outputs": [],
      "source": [
        "imf = emd.sift.sift(x)\nprint(imf.shape)"
      ]
    },
    {
      "cell_type": "markdown",
      "metadata": {},
      "source": [
        "and, from the IMFs, compute the instantaneous frequency, phase and amplitude\nusing the Normalised Hilbert Transform Method:\n\n"
      ]
    },
    {
      "cell_type": "code",
      "execution_count": null,
      "metadata": {
        "collapsed": false
      },
      "outputs": [],
      "source": [
        "IP, IF, IA = emd.spectra.frequency_transform(imf, sample_rate, 'hilbert')"
      ]
    },
    {
      "cell_type": "markdown",
      "metadata": {},
      "source": [
        "From the instantaneous frequency and amplitude, we can compute the Hilbert-Huang spectrum:\n\n"
      ]
    },
    {
      "cell_type": "code",
      "execution_count": null,
      "metadata": {
        "collapsed": false
      },
      "outputs": [],
      "source": [
        "freq_edges, freq_bins = emd.spectra.define_hist_bins(0.1, 10, 80, 'log')\nhht = emd.spectra.hilberthuang(IF, IA, freq_edges)"
      ]
    },
    {
      "cell_type": "markdown",
      "metadata": {},
      "source": [
        "## Visualising the results\n\nwe can now plot some summary information, first the IMFs:\n\n"
      ]
    },
    {
      "cell_type": "code",
      "execution_count": null,
      "metadata": {
        "collapsed": false
      },
      "outputs": [],
      "source": [
        "emd.plotting.plot_imfs(imf, scale_y=True, cmap=True)"
      ]
    },
    {
      "cell_type": "markdown",
      "metadata": {},
      "source": [
        "and now the Hilbert-Huang transform of this decomposition\n\n"
      ]
    },
    {
      "cell_type": "code",
      "execution_count": null,
      "metadata": {
        "collapsed": false
      },
      "outputs": [],
      "source": [
        "fig = plt.figure(figsize=(10, 6))\nemd.plotting.plot_hilberthuang(hht, time_vect, freq_bins,\n                               time_lims=(2, 4), freq_lims=(0.1, 15),\n                               fig=fig, log_y=True)"
      ]
    }
  ],
  "metadata": {
    "kernelspec": {
      "display_name": "Python 3",
      "language": "python",
      "name": "python3"
    },
    "language_info": {
      "codemirror_mode": {
        "name": "ipython",
        "version": 3
      },
      "file_extension": ".py",
      "mimetype": "text/x-python",
      "name": "python",
      "nbconvert_exporter": "python",
      "pygments_lexer": "ipython3",
      "version": "3.7.6"
    }
  },
  "nbformat": 4,
  "nbformat_minor": 0
}