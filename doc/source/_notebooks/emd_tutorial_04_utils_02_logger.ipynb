{
  "cells": [
    {
      "cell_type": "code",
      "execution_count": null,
      "metadata": {
        "collapsed": false
      },
      "outputs": [],
      "source": [
        "%matplotlib inline"
      ]
    },
    {
      "cell_type": "markdown",
      "metadata": {},
      "source": [
        "\n# Using the logger\nEMD has a built in logger which can be tuned to print out the progress of an\nanalysis to the console, to a file or both.\n"
      ]
    },
    {
      "cell_type": "markdown",
      "metadata": {},
      "source": [
        "## Logger Basics\n\n"
      ]
    },
    {
      "cell_type": "markdown",
      "metadata": {},
      "source": [
        "The logger must be initialised by calling ``emd.logger.set_up``. All\nsubsequent calls to functions in the EMD library will then print output\nmessages according to the logger specification.\n\n"
      ]
    },
    {
      "cell_type": "code",
      "execution_count": null,
      "metadata": {
        "collapsed": false
      },
      "outputs": [],
      "source": [
        "# sphinx_gallery_thumbnail_path = '_static/emd_logger_thumb.png'\n\n# Import numpy for later\nimport numpy as np\n\n# Import EMD and initialise the logger\nimport emd\nemd.logger.set_up()"
      ]
    },
    {
      "cell_type": "markdown",
      "metadata": {},
      "source": [
        "The detail of logger output can be tuned by changing the logger level. The\navailable levels are ``CRITICAL`` (only print output when the program is about to\ncrash), ``WARNING`` (only print output when something unusual is happening or an\nanalysis is potentially wrong), ``INFO`` (print general statements about which\nprocesses are running) and ``DEBUG`` (print loads of info including details of\ncomputations).\n\n\nThe default level is ``INFO``, so if we  re-initialise the logger on\n``DEBUG`` we get more detailed outputs\n\n"
      ]
    },
    {
      "cell_type": "code",
      "execution_count": null,
      "metadata": {
        "collapsed": false
      },
      "outputs": [],
      "source": [
        "emd.logger.set_up(level='DEBUG')"
      ]
    },
    {
      "cell_type": "markdown",
      "metadata": {},
      "source": [
        "Lets explore the logger by running some a few sifts. Here we create a simple\nsimulated oscillation and run a standard sift with default options.\n\n"
      ]
    },
    {
      "cell_type": "code",
      "execution_count": null,
      "metadata": {
        "collapsed": false
      },
      "outputs": [],
      "source": [
        "# Initialise the logger with default settings (level=INFO)\nemd.logger.set_up()\n\n# Generate a simulation\npeak_freq = 12\nsample_rate = 512\nseconds = 10\nnoise_std = .5\nx = emd.utils.ar_simulate(peak_freq, sample_rate, seconds, noise_std=noise_std, random_seed=42, r=.99)\n\n#\u00a0Run a standard sift\nimf = emd.sift.sift(x)"
      ]
    },
    {
      "cell_type": "markdown",
      "metadata": {},
      "source": [
        "With the level on ``INFO`` the logger tells us that the sift is running but\nnot much else. If we change the logger level to ``DEBUG`` we get more output\nabout how the sift is performing.\n\nThe level of an initialised logger can be changed using ``emd.logger.set_level``.\n\n"
      ]
    },
    {
      "cell_type": "code",
      "execution_count": null,
      "metadata": {
        "collapsed": false
      },
      "outputs": [],
      "source": [
        "emd.logger.set_level('DEBUG')\n\n#\u00a0Run a standard sift\nimf = emd.sift.sift(x)"
      ]
    },
    {
      "cell_type": "markdown",
      "metadata": {},
      "source": [
        "If we don't want to change the logger level for our whole script, some\nfunctions allow us to override the logger level for a single call to the\nfunction.\n\nAny functions with the ``verbose`` option in 'Other Parameters' can override\nthe logger level. Here we run a sift on ``WARNING`` and should see no outputs.\n\n"
      ]
    },
    {
      "cell_type": "code",
      "execution_count": null,
      "metadata": {
        "collapsed": false
      },
      "outputs": [],
      "source": [
        "imf = emd.sift.sift(x, verbose='WARNING')"
      ]
    },
    {
      "cell_type": "markdown",
      "metadata": {},
      "source": [
        "We can also disable the logger altogether for a section of code using\n``emd.logger.disable`` and then restart it using ``emd.logger.enable``.\n\nHere we disable logging for a sift call and renable it afterwards.\n\n"
      ]
    },
    {
      "cell_type": "code",
      "execution_count": null,
      "metadata": {
        "collapsed": false
      },
      "outputs": [],
      "source": [
        "emd.logger.disable()\nimf = emd.sift.sift(x)\nemd.logger.enable()"
      ]
    },
    {
      "cell_type": "markdown",
      "metadata": {},
      "source": [
        "## Advanced Logging\n\n"
      ]
    },
    {
      "cell_type": "markdown",
      "metadata": {},
      "source": [
        "This section contains some logger optionality for more advanced use cases.\n\nFirstly, we can supplement the EMD logger output from a script by loading the\nEMD logger into a script and adding our own logger calls. In this example, we\nload the logger and add some custom updates. To print some output at the\n``INFO`` level through the logger, we call ``logger.info``.\n\n"
      ]
    },
    {
      "cell_type": "code",
      "execution_count": null,
      "metadata": {
        "collapsed": false
      },
      "outputs": [],
      "source": [
        "# Initialised EMD logger\nemd.logger.set_up(level='DEBUG')\n\n# Load logger into this script\nimport logging\nlogger = logging.getLogger('emd')\n\n# Check the time\nimport time\ntic = time.perf_counter()\n\n# Run a sift\nlogger.info('Now starting my new analysis')\nimf = emd.sift.sift(x)\n\n# Check time again\ntoc = time.perf_counter()\n\n# Print sift run-time\nelapsed = toc - tic\nlogger.info('My new analysis finished in {0:4f} seconds'.format(elapsed))"
      ]
    },
    {
      "cell_type": "markdown",
      "metadata": {},
      "source": [
        "This output respects the overall logger level, so info statements will be\nprinted at levels ``INFO`` and ``DEBUG`` but suppressed if the overall logger\nlevel is at ``WARNING`` or ``CRITICAL``.\n\nTry changing the logger level in the example above to see the effect on the\nfollowing output.\n\n"
      ]
    },
    {
      "cell_type": "markdown",
      "metadata": {},
      "source": [
        "Next, we define an analysis function which runs a sift followed by a\nfrequency transform and simple cycle analysis. We'll run this example a few\ntimes in the next sections.\n\nNote that we've included some custom logger calls and a temporary logger\noverride on the ``mask_sift``\n\n"
      ]
    },
    {
      "cell_type": "code",
      "execution_count": null,
      "metadata": {
        "collapsed": false
      },
      "outputs": [],
      "source": [
        "def my_analysis(x):\n\n    # Check time, and load the logger into the session\n    tic = time.perf_counter()\n    import logging\n    logger = logging.getLogger('emd')\n\n    # Print start-up message\n    logger.info('Starting my example analysis')\n    logger.info('----------------------------')\n\n    # Run a mask-sift with detailed logging\n    imf = emd.sift.mask_sift(x, verbose='DEBUG')\n\n    # Compute frequency stats\n    IP, IF, IA = emd.spectra.frequency_transform(imf, sample_rate, 'nht')\n    logger.info('Avg frequency of IMF-2 is {0:2f}Hz'.format(np.average(IF[:, 2], weights=IA[:, 2])))\n\n    # Find cycles in IMF-2\n    mask = IA[:, 2] > .05\n    cycles = emd.cycles.get_cycle_inds(IP, return_good=True, mask=mask)\n\n    # Compute cycle stats\n    cycle_freq = emd.cycles.get_cycle_stat(cycles[:, 2], IF[:, 2], func=np.mean)[1:]\n    cycle_amp = emd.cycles.get_cycle_stat(cycles[:, 2], IA[:, 2], func=np.mean)[1:]\n\n    #\u00a0Print some cycle correlations\n    logger.info('Freq-Amp correlation: r={0:2f}'.format(np.corrcoef(cycle_freq, cycle_amp)[0, 1]))\n\n    # Print the elapsed time of the analysis\n    toc = time.perf_counter()\n    elapsed = toc - tic\n    logger.info('My new analysis finished in {0:4f} seconds'.format(elapsed))\n\n    return cycle_freq, cycle_amp"
      ]
    },
    {
      "cell_type": "markdown",
      "metadata": {},
      "source": [
        "We can run this function as normal and inspect the logger outputs as they\nappear in the console.\n\n"
      ]
    },
    {
      "cell_type": "code",
      "execution_count": null,
      "metadata": {
        "collapsed": false
      },
      "outputs": [],
      "source": [
        "# Run the analysis\nfreq, amp = my_analysis(x)"
      ]
    },
    {
      "cell_type": "markdown",
      "metadata": {},
      "source": [
        "We can see a lot of information about which processes were running as the\nlogger is set to ``INFO``. If we configure the logger to run on ``WARNING``\nlevel, we should only see output about potential errors. This can be useful\nwhen running familiar code where you only need output when something\npotentially strange is going on.\n\nSo in this case, after changing to ``WARNING`` we should only see output from\nthe ``mask_sift`` call (as this has a logger override to ``DEBUG``). All\nother output is suppressed.\n\n"
      ]
    },
    {
      "cell_type": "code",
      "execution_count": null,
      "metadata": {
        "collapsed": false
      },
      "outputs": [],
      "source": [
        "# Change logger level\nemd.logger.set_level('WARNING')\n\n# Run the analysis\nfreq, amp = my_analysis(x)"
      ]
    },
    {
      "cell_type": "markdown",
      "metadata": {},
      "source": [
        "If we're dealing with logger output from multiple sources or perhaps from\nmultiple analyses running in parallel, then we can add a prefix to the logger\nto help distinguish the output coming from each. This can be specified when\ninitialising the logger.\n\nFor example, here we reun the analysis function with a logger prefix\nindicating that we're processing Subject 001.\n\n"
      ]
    },
    {
      "cell_type": "code",
      "execution_count": null,
      "metadata": {
        "collapsed": false
      },
      "outputs": [],
      "source": [
        "# Initialise logger with a prefix\nemd.logger.set_up(level='DEBUG', prefix='Subj001')\n\n# Run the analysis\nfreq, amp = my_analysis(x)"
      ]
    },
    {
      "cell_type": "markdown",
      "metadata": {},
      "source": [
        "Finally, we can direct the logger output into a text file as well as the console.\n\n"
      ]
    },
    {
      "cell_type": "code",
      "execution_count": null,
      "metadata": {
        "collapsed": false
      },
      "outputs": [],
      "source": [
        "# Define a temporary file\nimport tempfile\nlog_file = tempfile.NamedTemporaryFile(prefix=\"ExampleEMDLog\", suffix='.log').name\n# OR uncomment this line and define your own filepath\n# log_file = /path/to/my/log_file.log\n\n# Initialise the logger with a prefix and a text file\nemd.logger.set_up(level='INFO', prefix='Subj001', log_file=log_file)\n\n# Run the analysis\nfreq, amp = my_analysis(x)"
      ]
    },
    {
      "cell_type": "markdown",
      "metadata": {},
      "source": [
        "The log file is a simple text file containing very detailed outputs of which\nfunctions were executed and when. Here we read the log file and print its\ncontents to the console.\n\nNote that the log file contains a much more detailed output that the console!\n\n"
      ]
    },
    {
      "cell_type": "code",
      "execution_count": null,
      "metadata": {
        "collapsed": false
      },
      "outputs": [],
      "source": [
        "# Open the text file and print its contents\nwith open(log_file, 'r') as f:\n    txt = f.read()\nprint(txt)"
      ]
    },
    {
      "cell_type": "markdown",
      "metadata": {},
      "source": [
        "If we want this extra detailed output in the console as well, we can specify\nthe ``console_format`` when setting up the logger.\n\n"
      ]
    },
    {
      "cell_type": "code",
      "execution_count": null,
      "metadata": {
        "collapsed": false
      },
      "outputs": [],
      "source": [
        "# Initialise logger with a verbose console format\nemd.logger.set_up(level='DEBUG', prefix='Subj001', console_format='verbose')\n\n# Run the analysis\nfreq, amp = my_analysis(x)"
      ]
    }
  ],
  "metadata": {
    "kernelspec": {
      "display_name": "Python 3",
      "language": "python",
      "name": "python3"
    },
    "language_info": {
      "codemirror_mode": {
        "name": "ipython",
        "version": 3
      },
      "file_extension": ".py",
      "mimetype": "text/x-python",
      "name": "python",
      "nbconvert_exporter": "python",
      "pygments_lexer": "ipython3",
      "version": "3.7.6"
    }
  },
  "nbformat": 4,
  "nbformat_minor": 0
}