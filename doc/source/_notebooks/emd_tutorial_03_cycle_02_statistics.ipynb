{
  "cells": [
    {
      "cell_type": "code",
      "execution_count": null,
      "metadata": {
        "collapsed": false
      },
      "outputs": [],
      "source": [
        "%matplotlib inline"
      ]
    },
    {
      "cell_type": "markdown",
      "metadata": {},
      "source": [
        "\n# Cycle statistics and comparisons\nHere we will use the 'cycle' submodule of EMD to identify and analyse individual cycles of an oscillatory signal\n"
      ]
    },
    {
      "cell_type": "markdown",
      "metadata": {},
      "source": [
        "## Simulating a noisy signal\nFirstly we will import emd and simulate a signal\n\n"
      ]
    },
    {
      "cell_type": "code",
      "execution_count": null,
      "metadata": {
        "collapsed": false
      },
      "outputs": [],
      "source": [
        "import emd\nimport numpy as np\nimport matplotlib.pyplot as plt\nfrom scipy import ndimage\n\n# Define and simulate a simple signal\npeak_freq = 12\nsample_rate = 512\nseconds = 10\nnoise_std = .5\nx = emd.utils.ar_simulate(peak_freq, sample_rate, seconds, noise_std=noise_std, random_seed=42, r=.99) * 1e-4\nt = np.linspace(0, seconds, seconds*sample_rate)\n\n# Plot the first 5 seconds of data\nplt.figure(figsize=(10, 2))\nplt.plot(t[:sample_rate*4], x[:sample_rate*4], 'k')\n\n# sphinx_gallery_thumbnail_number = 5"
      ]
    },
    {
      "cell_type": "markdown",
      "metadata": {},
      "source": [
        "## Extract IMFs & find cycles\nWe next run a mask sift with the default parameters to isolate the 12Hz\noscillation. There is only one clear oscillatory signal in this simulation.\nThis is extracted in IMF-3 whilst the remaining IMFs contain low-amplitude\nnoise.\n\n"
      ]
    },
    {
      "cell_type": "code",
      "execution_count": null,
      "metadata": {
        "collapsed": false
      },
      "outputs": [],
      "source": [
        "# Run a mask sift\nimf = emd.sift.mask_sift(x)\n\n# Visualise the IMFs\nemd.plotting.plot_imfs(imf[:sample_rate*4, :], cmap=True, scale_y=True)"
      ]
    },
    {
      "cell_type": "markdown",
      "metadata": {},
      "source": [
        "Next we locate the cycle indices from the instantaneous phase of our IMFs. We\ndo this twice, once to identify all cycles and a second time to identify only\n'good' cycles based on the cycle validation check from the previous tutorial.\n\n"
      ]
    },
    {
      "cell_type": "code",
      "execution_count": null,
      "metadata": {
        "collapsed": false
      },
      "outputs": [],
      "source": [
        "# Extract frequency information\nIP, IF, IA = emd.spectra.frequency_transform(imf, sample_rate, 'nht')\n\n# Extract cycle locations\nall_cycles = emd.cycles.get_cycle_inds(IP, return_good=False)\ngood_cycles = emd.cycles.get_cycle_inds(IP, return_good=True)"
      ]
    },
    {
      "cell_type": "markdown",
      "metadata": {},
      "source": [
        "We can customise the parts of the signal in which we look for cycles by\ndefining a mask. This is a binary vector indicating which samples in a\ntime-series should be included in the cycle detection. This could be useful\nfor several reasons, we can mask our sections of signal with artefacts, limit\ncycle detection to a specific period during a task or limit cycle detection\nto periods where there is a high amplitude oscillation.\n\nHere we will apply a low amplitude threshold to identify good cycles which\nhave amplitude values strictly above the 33th percentile of amplitude values\nin the dataset - excluding the lowest amplitude cycles.\n\nNote that the whole cycle must be in the valid part of the mask to be\nincluded, a cycle will be excluded if a single sample within it is masked\nout.\n\n"
      ]
    },
    {
      "cell_type": "code",
      "execution_count": null,
      "metadata": {
        "collapsed": false
      },
      "outputs": [],
      "source": [
        "thresh = np.percentile(IA[:, 2], 33)\nmask = IA[:, 2] > thresh\n\nmask_cycles = emd.cycles.get_cycle_inds(IP, return_good=True, mask=mask)"
      ]
    },
    {
      "cell_type": "markdown",
      "metadata": {},
      "source": [
        "We can compute a variety of metric from our cycles using the\n``emd.cycles.get_cycle_stat`` function. This is a simple helper function\nwhich takes in a set of cycle timings (the output from\n``emd.cycles.get_cycle_inds``) and any time-series of interest (such as\ninstaneous amplitude or frequency). The function then computes a metric from\nthe time-series within each cycle.\n\nThe computed metric is defined by the ``func`` argument, this can be any\nfunction which takes a vector input and returns a single-number. Often we will\nuse se the numpy built-in functions to compute simple metrics (such as\n``np.max`` or ``np.mean``) but we can use a custom user-defined function as\nwell.\n\nFinally we can define whether to return the result in ``full`` or\n``compressed`` format. The full form returns a vector of the same length as the\ninput vector in which the indices for each cycle contains the its cycle-stat\nwhilst, the compressed form returns a vector containing single values\nfor each cycle in turn.\n\nFor instance, the following example computes the maximum instantaneous\namplitude for all detected cycles in IMF-3 and returns the result in the\nfull-vector format.\n\n"
      ]
    },
    {
      "cell_type": "code",
      "execution_count": null,
      "metadata": {
        "collapsed": false
      },
      "outputs": [],
      "source": [
        "cycle_amp = emd.cycles.get_cycle_stat(all_cycles[:, 2], IA[:, 2], out='samples', func=np.max)\n\n# Make a summary figure\nplt.figure(figsize=(10, 4))\nplt.plot(t[:sample_rate*4], imf[:sample_rate*4, 2], 'k')\nplt.plot(t[:sample_rate*4], IA[:sample_rate*4, 2], 'b')\nplt.plot(t[:sample_rate*4], cycle_amp[:sample_rate*4], 'r')\nplt.legend(['IMF-3', 'Instantaneous Amplitude', 'Cycle-max Amplitude'])"
      ]
    },
    {
      "cell_type": "markdown",
      "metadata": {},
      "source": [
        "We can see that the original IMF in black and its instantaneous amplitude in\nblue. The red line is then the full-format output containing the cycle\nmaximum amplitude. This nicely corresponds to the peak amplitude for each\ncycle as seen in blue.\n\nThe next section computes the average instantaneous frequency within each\ncycle, again returning the result in full format.\n\n"
      ]
    },
    {
      "cell_type": "code",
      "execution_count": null,
      "metadata": {
        "collapsed": false
      },
      "outputs": [],
      "source": [
        "cycle_freq = emd.cycles.get_cycle_stat(all_cycles[:, 2], IF[:, 2], out='samples', func=np.mean)\n\n# Make a summary figure\nplt.figure(figsize=(10, 4))\nplt.plot(t[:sample_rate*4], IF[:sample_rate*4, 2], 'b')\nplt.plot(t[:sample_rate*4], cycle_freq[:sample_rate*4], 'r')\nplt.legend(['Instantaneous Frequency', 'Cycle-mean frequency'])"
      ]
    },
    {
      "cell_type": "markdown",
      "metadata": {},
      "source": [
        "We can get a nice visualisation of cycle-average frequency by overlaying the\nfull stat vector onto the Hilbert-Huang transform. This is similar to the\nplot above but now we can see the signal amplitude values in the colour-scale\nof the HHT (hotter colours show higher amplitudes). Here we plot the\ncycle-average frequency for cycles above our amplitude thresholdover the HHT\n\n"
      ]
    },
    {
      "cell_type": "code",
      "execution_count": null,
      "metadata": {
        "collapsed": false
      },
      "outputs": [],
      "source": [
        "# Compute cycle freq using amplitude masked-cycle indices\ncycle_freq = emd.cycles.get_cycle_stat(mask_cycles[:, 2], IF[:, 2], out='samples', func=np.mean)\n\n# Carrier frequency histogram definition\nedges, bins = emd.spectra.define_hist_bins(3, 25, 64, 'linear')\n\n# Compute the 2d Hilbert-Huang transform (power over time x carrier frequency)\nhht = emd.spectra.hilberthuang(IF, IA, edges, mode='amplitude')\n\n# Add a little smoothing to help visualisation\nshht = ndimage.gaussian_filter(hht, 1)\n\n# Make a summary plot\nplt.figure(figsize=(10, 7))\nplt.subplots_adjust(hspace=.3)\nplt.subplot(211)\nplt.plot(t[:sample_rate*4], imf[:sample_rate*4, 2], 'k')\nplt.plot((0, 4), (thresh, thresh), 'k:')\nplt.xlim(0, 4)\nplt.title('IMF')\nplt.subplot(212)\nplt.pcolormesh(t[:sample_rate*4], edges, shht[:, :sample_rate*4], cmap='hot_r', vmin=0)\nplt.plot(t[:sample_rate*4], cycle_freq[:sample_rate*4], 'k')\nplt.title('Hilbert-Huang Transform')\nplt.xlabel('Time (seconds)')\nplt.ylabel('Frequency (Hz)')"
      ]
    },
    {
      "cell_type": "markdown",
      "metadata": {},
      "source": [
        "## Compressed cycle stats\nThe full-format output is useful for visualisation and validation, but often\nwe only want to deal with a single number summarising each cycle. The\ncompressed format provides this simplified output. Note that the first value\nof the compressed format contains the average for missing cycles in the\nanalysis (where the value in the cycles vector equals zero)  we will discard\nthis for the following analyses as we are focusing on the properties of well\nformed oscillatory cycles.\n\nFor a first example, we compute the average frequency and amplitude of all\ncycles. We then make a scatter plot to explore any relationship between\namplitude and frequency.\n\n"
      ]
    },
    {
      "cell_type": "code",
      "execution_count": null,
      "metadata": {
        "collapsed": false
      },
      "outputs": [],
      "source": [
        "# Compute cycle average frequency for all cycles and masked cycles\nall_cycle_freq = emd.cycles.get_cycle_stat(all_cycles[:, 2], IF[:, 2], func=np.mean)\nmask_cycle_freq = emd.cycles.get_cycle_stat(mask_cycles[:, 2], IF[:, 2], func=np.mean)\n\n# Compute cycle frequency range for all cycles and for masked cycles\nall_cycle_amp = emd.cycles.get_cycle_stat(all_cycles[:, 2], IA[:, 2], func=np.mean)\nmask_cycle_amp = emd.cycles.get_cycle_stat(mask_cycles[:, 2], IA[:, 2], func=np.mean)\n\n# Make a summary figures\nplt.figure()\nplt.plot(all_cycle_freq, all_cycle_amp, 'o')\nplt.plot(mask_cycle_freq, mask_cycle_amp, 'o')\nplt.xlabel('Cycle average frequency (Hz)')\nplt.ylabel('Cycle average amplitude')\nplt.plot((9, 22), (thresh, thresh), 'k:')\nplt.legend(['All-cycles', 'Masked-cycles', 'Amp thresh'])"
      ]
    },
    {
      "cell_type": "markdown",
      "metadata": {},
      "source": [
        "We see that high amplitude cycles are closely clustered around 12Hz - the\npeak frequency of our simulated oscillation. Lower amplitude cycles are\nnoisier and have a wider frequency distribution. The rejected bad-cycles tend\nto have low amplitudes and come from a wide frequency distribution.\n\nA small number of cycles pass the amplitude threshold but are rejected by the\ncycle quality checks. These cycles may have phase distortions or other\nartefacts which have lead to ``emd.cycles.get_cycle_inds`` to remove them\nfrom the set of `good` cycles.\n\nWe can include more complex user-defined functions to generate cycle stats.\nHere we compute a range of cycle stats in compressed format (discarding the\nfirst value in the output). We compute the cycle average frequency and\ncycle-max amplitude for all cycles and again for only the good cycles. We can\nthen make a scatter plot to explore any relationship between amplitude and\nfrequency.\n\n"
      ]
    },
    {
      "cell_type": "markdown",
      "metadata": {},
      "source": [
        "We can include more complicated metrics in user-specified functions. Here we\ncompute the Degree of Non-linearity (DoN;\nhttps://doi.org/10.1371/journal.pone.0168108) of each cycle as\nan indication of the extent to which a cycle contains non-sinudoisal content.\n\nNote that the original DoN uses the zero-crossing frequency rather than\nmean frequency as a normalising factor. These factors are highly\ncorrelated so, for simplicity, we use the mean here.\n\nHere we compute the degree of non-linearity for all cycles and good cycles\nseparately and plot the results as a function of cycle average frequency\n\n"
      ]
    },
    {
      "cell_type": "code",
      "execution_count": null,
      "metadata": {
        "collapsed": false
      },
      "outputs": [],
      "source": [
        "# Compute cycle average frequency for all cycles and masked cycles\nall_cycle_freq = emd.cycles.get_cycle_stat(all_cycles[:, 2], IF[:, 2], func=np.mean)\nmask_cycle_freq = emd.cycles.get_cycle_stat(mask_cycles[:, 2], IF[:, 2], func=np.mean)\n\n\n# Define a simple function to compute the range of a set of values\ndef degree_nonlinearity(x):\n    return np.std((x - x.mean()) / x.mean())\n\n\n# Compute cycle freuquency range for all cycles and for masked cycles\nall_cycle_freq_don = emd.cycles.get_cycle_stat(all_cycles[:, 2], IF[:, 2],\n                                               func=degree_nonlinearity)\ncycle_freq_don = emd.cycles.get_cycle_stat(mask_cycles[:, 2], IF[:, 2],\n                                           func=degree_nonlinearity)\n\n# Make a summary figures\nplt.figure()\nplt.plot(all_cycle_freq, all_cycle_freq_don, 'o')\nplt.plot(mask_cycle_freq, cycle_freq_don, 'o')\nplt.xlabel('Cycle average frequency (Hz)')\nplt.ylabel('Cycle IF don (Hz)')\nplt.legend(['All-cycles', 'Masked-cycles'])"
      ]
    },
    {
      "cell_type": "markdown",
      "metadata": {},
      "source": [
        "The majority of cycles with very high degree of non-linearity in this\nsimulation have been rejected by either the amplitude threshold or the cycle\nquality checks. The surviving cycles (in orange) are tightly clustered around\n12Hz peak frequency with a relatively low degree of non-linearity. We have\nnot defined any non-linearity in this simulation.\n\n"
      ]
    }
  ],
  "metadata": {
    "kernelspec": {
      "display_name": "Python 3",
      "language": "python",
      "name": "python3"
    },
    "language_info": {
      "codemirror_mode": {
        "name": "ipython",
        "version": 3
      },
      "file_extension": ".py",
      "mimetype": "text/x-python",
      "name": "python",
      "nbconvert_exporter": "python",
      "pygments_lexer": "ipython3",
      "version": "3.7.6"
    }
  },
  "nbformat": 4,
  "nbformat_minor": 0
}