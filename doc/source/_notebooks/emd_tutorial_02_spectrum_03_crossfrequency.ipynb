{
  "cells": [
    {
      "cell_type": "code",
      "execution_count": null,
      "metadata": {
        "collapsed": false
      },
      "outputs": [],
      "source": [
        "%matplotlib inline"
      ]
    },
    {
      "cell_type": "markdown",
      "metadata": {},
      "source": [
        "\n# Cross-Frequency Coupling\nThe spectrum tools in EMD can be used to explore cross-frequency interactions\nin oscillatory signals. The simplest approach is to look at how the phase,\nfrequency or amplitude of a high-frequency signal interacts with the phase of a\nlow frequency signal. This can be extended into 2 or 3 dimensions by exploring\nthe relationship between low-frequency phase and the Hilbert-Huang Transform\nand Holospectrum. This tutorial shows some examples of these analyses with\nthree signals with varying phase-amplitude coupling profiles.\n"
      ]
    },
    {
      "cell_type": "markdown",
      "metadata": {},
      "source": [
        "## Simulating a signal with amplitude modulations\nFirst of all, we import EMD alongside numpy and matplotlib. We will also use\nscipy's ndimage module to smooth our results for visualisation later.\n\n"
      ]
    },
    {
      "cell_type": "code",
      "execution_count": null,
      "metadata": {
        "collapsed": false
      },
      "outputs": [],
      "source": [
        "# sphinx_gallery_thumbnail_number = 8\n\nimport matplotlib.pyplot as plt\nimport numpy as np\nimport emd"
      ]
    },
    {
      "cell_type": "markdown",
      "metadata": {},
      "source": [
        "Next, we create three simulated signal to analyse. Each signal will be\ncomposed of two oscillations - a low-frequency signal at 5Hz and a\nhigh-frequency signal at 37Hz. The three variants of this signal differ in\nhow the amplitude of the high frequency signal varies with the phase of the\nlow frequency signal. We vary the width of the high-frequency burst across\nthe three signals.\n\n"
      ]
    },
    {
      "cell_type": "code",
      "execution_count": null,
      "metadata": {
        "collapsed": false
      },
      "outputs": [],
      "source": [
        "seconds = 60\nsample_rate = 200\nt = np.linspace(0, seconds, seconds*sample_rate)\n\n# First we create a slow 5Hz oscillation and a fast 37Hz oscillation\nslow = np.sin(2*np.pi*5*t)\nfast = np.cos(2*np.pi*37*t)\n\n# Next we create three different amplitude modulation signals for the fast\n# oscillation. One sinusoidal, one wide modulation and one narrow modulation.\n# These cases differ by the duration of the high frequency burst.\n\nfast_am = 0.5*slow + 0.5\nfast_am_narrow = fast_am**3\nfast_am_wide = 1 - (0.5*-slow + 0.5)**3\n\n# We create our signal by summing the oscillation and adding some noise\nx = slow + fast * fast_am + np.random.randn(*t.shape) * .05\nx_wide = slow + fast * fast_am_wide + np.random.randn(*t.shape) * .05\nx_narrow = slow + fast * fast_am_narrow + np.random.randn(*t.shape) * .05"
      ]
    },
    {
      "cell_type": "markdown",
      "metadata": {},
      "source": [
        "Let's take a look at the three signals.\n\n"
      ]
    },
    {
      "cell_type": "code",
      "execution_count": null,
      "metadata": {
        "collapsed": false
      },
      "outputs": [],
      "source": [
        "plt.figure()\nplt.subplot(311)\nplt.plot(t[:seconds*3], x_narrow[:seconds*3])\nplt.subplot(312)\nplt.plot(t[:seconds*3], x[:seconds*3])\nplt.subplot(313)\nplt.plot(t[:seconds*3], x_wide[:seconds*3])"
      ]
    },
    {
      "cell_type": "markdown",
      "metadata": {},
      "source": [
        "The narrow amplitude modulated signal is plotted on the top, the sinusoidally\nmodulated case in the middle and the wide amplitude modulation on the bottom.\nAll three high-frequency signals peak at the same point in the low-frequency\ncycle.\n\n"
      ]
    },
    {
      "cell_type": "markdown",
      "metadata": {},
      "source": [
        "Next we run a mask sift on these signals to create IMFs for each case before\nrunning the frequency transforms to get the instantaneous phase, frequency\nand phase.\n\n"
      ]
    },
    {
      "cell_type": "code",
      "execution_count": null,
      "metadata": {
        "collapsed": false
      },
      "outputs": [],
      "source": [
        "# Define a mask sift config\nconfig = emd.sift.get_config('mask_sift')\nconfig['max_imfs'] = 7\nconfig['mask_freqs'] = 50/sample_rate\nconfig['mask_amp_mode'] = 'ratio_sig'\nconfig['imf_opts/sd_thresh'] = 0.05\n\nimf = emd.sift.mask_sift(x, **config)\nIP, IF, IA = emd.spectra.frequency_transform(imf, sample_rate, 'hilbert')\n\nimf_wide = emd.sift.mask_sift(x_wide, **config)\nIP_wide, IF_wide, IA_wide = emd.spectra.frequency_transform(imf_wide, sample_rate, 'hilbert')\n\nimf_narrow = emd.sift.mask_sift(x_narrow, **config)\nIP_narrow, IF_narrow, IA_narrow = emd.spectra.frequency_transform(imf_narrow, sample_rate, 'hilbert')"
      ]
    },
    {
      "cell_type": "markdown",
      "metadata": {},
      "source": [
        "We plot up the IMFs for the sinusoidally modulated case and see that the fast\nsignal is isolated into the first IMF and the low-frequency signal is in the\nfourth. The rest of the IMFs largely contain noise\n\n"
      ]
    },
    {
      "cell_type": "code",
      "execution_count": null,
      "metadata": {
        "collapsed": false
      },
      "outputs": [],
      "source": [
        "emd.plotting.plot_imfs(imf[:sample_rate*2, :], cmap=True, scale_y=True)"
      ]
    },
    {
      "cell_type": "markdown",
      "metadata": {},
      "source": [
        "## 1D Phase-amplitude coupling with instantaneous amplitude\n\n"
      ]
    },
    {
      "cell_type": "markdown",
      "metadata": {},
      "source": [
        "Let's zoom in on the fast signals containing the simulated amplitude\nmodulations. Here, we plot the first IMF for each of the three signals\nwith different modulation widths.\n\n"
      ]
    },
    {
      "cell_type": "code",
      "execution_count": null,
      "metadata": {
        "collapsed": false
      },
      "outputs": [],
      "source": [
        "plt.figure()\nplt.subplot(411)\nplt.plot(t[:seconds*3], imf_narrow[:seconds*3, 0])\nplt.plot(t[:seconds*3], IA_narrow[:seconds*3, 0])\nplt.subplot(412)\nplt.plot(t[:seconds*3], imf[:seconds*3, 0])\nplt.plot(t[:seconds*3], IA[:seconds*3, 0])\nplt.subplot(413)\nplt.plot(t[:seconds*3], imf_wide[:seconds*3, 0])\nplt.plot(t[:seconds*3], IA_wide[:seconds*3, 0])\nplt.subplot(414)\nplt.plot(t[:seconds*3], IA_narrow[:seconds*3, 0])\nplt.plot(t[:seconds*3], IA[:seconds*3, 0])\nplt.plot(t[:seconds*3], IA_wide[:seconds*3, 0])\nplt.legend(['Narrow AM', 'Sinusoidal AM', 'Wide AM'])"
      ]
    },
    {
      "cell_type": "markdown",
      "metadata": {},
      "source": [
        "The narrow modulation is on top-row, the sinusoidal modulation in the second\nand the wide modulation is in the third. All three amplitude modulations on\ntop of each other in the bottom row. By eye, the different modulation widths\nare clear but it is perhaps less obvious how we can quantify this effect.\n\n"
      ]
    },
    {
      "cell_type": "markdown",
      "metadata": {},
      "source": [
        "One simple approach is to explore how the instantaneous amplitude of each\ncase varies with the phase of the low-frequency signal component. We can\ncompute this with ``emd.cycles.bin_by_phase``. The inputs take a phase signal\nwhich is segmented into a set of time-bins in which the second input is\naveraged. (A very similar alternative analysis could be run using\n``emd.cycles.phase_align``).\n\nWe compute the average high-frequency IA as a function of low-frequency\nphase for each of our three examples and plot the result:\n\n"
      ]
    },
    {
      "cell_type": "code",
      "execution_count": null,
      "metadata": {
        "collapsed": false
      },
      "outputs": [],
      "source": [
        "ia_by_phase, ia_by_phase_var, phase_bins = emd.cycles.bin_by_phase(IP[:, 4], IA[:, 0], nbins=24)\nia_by_phase_wide, ia_by_phase_wide_var, _ = emd.cycles.bin_by_phase(IP[:, 4], IA_wide[:, 0], nbins=24)\nia_by_phase_narrow, ia_by_phase_narrow_var, _ = emd.cycles.bin_by_phase(IP[:, 4], IA_narrow[:, 0], nbins=24)\n\nplt.figure()\nplt.errorbar(phase_bins, ia_by_phase, yerr=ia_by_phase_var)\nplt.errorbar(phase_bins, ia_by_phase_wide, yerr=ia_by_phase_wide_var)\nplt.errorbar(phase_bins, ia_by_phase_narrow, yerr=ia_by_phase_narrow_var)\nplt.legend(['Fast Amp', 'Fast Amp Wide', ' Fast Amp Narrow'])\nplt.xlabel('Slow Phase')\nplt.ylabel('IMF-1 IA')"
      ]
    },
    {
      "cell_type": "markdown",
      "metadata": {},
      "source": [
        "Now, we see the three amplitude modulation profiles directly linked to theta\nphase - there is a clear peak in high-frequency amplitude at one point in\ntheta phase confirming the presence of phase-amplitude coupling in this\nsignal. We can also see the different in modulation width in the three\nsignals.\n\n"
      ]
    },
    {
      "cell_type": "markdown",
      "metadata": {},
      "source": [
        "## 2D Phase-amplitude coupling with the HHT\n\n"
      ]
    },
    {
      "cell_type": "markdown",
      "metadata": {},
      "source": [
        "We can run a two-dimensional equivalent to the above analysis by exploring\nhow a whole Hilbert-Huang transform varies across low-frequency phase. This\ngives us a bit more information than our first analysis. Specifically we can\nalso see which frequency the amplitude modulated signal is peaking at.\n\nThe first step is to compute the Hilbert-Huang Transform (HHT) for our three signals.\n\n"
      ]
    },
    {
      "cell_type": "code",
      "execution_count": null,
      "metadata": {
        "collapsed": false
      },
      "outputs": [],
      "source": [
        "freq_edges, freq_centres = emd.spectra.define_hist_bins(10, 75, 75, 'log')\n\nhht = emd.spectra.hilberthuang(IF, IA, freq_edges, mode='amplitude')\nhht_wide = emd.spectra.hilberthuang(IF_wide, IA_wide, freq_edges, mode='amplitude')\nhht_narrow = emd.spectra.hilberthuang(IF_narrow, IA_narrow, freq_edges, mode='amplitude')"
      ]
    },
    {
      "cell_type": "markdown",
      "metadata": {},
      "source": [
        "A quick summary figure shows us the HHT representation of our amplitude\nmodulated signals. The recurring high-frequency bursts are visible in all\nthree cases with the duration of each burst differing between the narrow,\nsinusoidal and widde cases.\n\n"
      ]
    },
    {
      "cell_type": "code",
      "execution_count": null,
      "metadata": {
        "collapsed": false
      },
      "outputs": [],
      "source": [
        "plt.figure()\nplt.subplot(411)\nplt.plot(t[:seconds*3], x[:seconds*3])\nplt.subplot(412)\nplt.pcolormesh(t[:seconds*3], freq_centres, hht_narrow[:, :seconds*3], cmap='hot_r', shading='auto')\nplt.subplot(413)\nplt.pcolormesh(t[:seconds*3], freq_centres, hht[:, :seconds*3], cmap='hot_r', shading='auto')\nplt.subplot(414)\nplt.pcolormesh(t[:seconds*3], freq_centres, hht_wide[:, :seconds*3], cmap='hot_r', shading='auto')"
      ]
    },
    {
      "cell_type": "markdown",
      "metadata": {},
      "source": [
        "We can use ``emd.cycles.bin_by_phase`` to explore how high dimensional\nsignals vary with a phase time-course - as long as the first dimension of the\nsignal to be averaged matches the length of the phase signal. Here, we bin\nthe HHT by low-frequency phase for each of our three signals.\n\n"
      ]
    },
    {
      "cell_type": "code",
      "execution_count": null,
      "metadata": {
        "collapsed": false
      },
      "outputs": [],
      "source": [
        "hht_by_phase, _, phase_centres = emd.cycles.bin_by_phase(IP[:, 4], hht.T)\nhht_by_phase_wide, _, _ = emd.cycles.bin_by_phase(IP[:, 4], hht_wide.T)\nhht_by_phase_narrow, _, _ = emd.cycles.bin_by_phase(IP[:, 4], hht_narrow.T)"
      ]
    },
    {
      "cell_type": "markdown",
      "metadata": {},
      "source": [
        "Let's make a quick summary figure of the phase-resolved HHTs.\n\n"
      ]
    },
    {
      "cell_type": "code",
      "execution_count": null,
      "metadata": {
        "collapsed": false
      },
      "outputs": [],
      "source": [
        "plt.figure()\nplt.subplot(131)\nplt.pcolormesh(phase_centres, freq_centres, hht_by_phase_narrow.T, vmax=0.25, cmap='hot_r', shading='auto')\nplt.xlabel('Phase (rads')\nplt.ylabel('Frequency (Hz)')\nplt.title('Narrow AM')\nplt.subplot(132)\nplt.pcolormesh(phase_centres, freq_centres, hht_by_phase.T, vmax=0.25, cmap='hot_r', shading='auto')\nplt.xlabel('Phase (rads')\nplt.title('Sinusoidal AM')\nplt.subplot(133)\nplt.pcolormesh(phase_centres, freq_centres, hht_by_phase_wide.T, vmax=0.25, cmap='hot_r', shading='auto')\nplt.xlabel('Phase (rads')\nplt.title('Wide AM')"
      ]
    },
    {
      "cell_type": "markdown",
      "metadata": {},
      "source": [
        "We can see that all three cases peak around the same point in phase (around\npi/2) at at the same frequency (37Hz) but clearly differ in their modulation\nwidth. Though this is visible here, we still don't directly quantify this\nfeature with the Hilbert-Huang Transform.\n\nWe can quantify this difference by looking at the frequency content of the\nhigh-frequency signal amplitude envelopes. It appears like the signal with\nwide modulation has a lower frequency amplitude modulation How can we measure\nthis?\n\n"
      ]
    },
    {
      "cell_type": "markdown",
      "metadata": {},
      "source": [
        "## Quantifying the frequency of amplitude modulations\n\n"
      ]
    },
    {
      "cell_type": "markdown",
      "metadata": {},
      "source": [
        "The Holospectrum provides a method for direct quantification of the frequency\nand timing of amplitude modulations in oscillatory signal. The concept and\nmethod for Holospectrum estimation are covered in detail in the previous\ntutorial - here we will only cover its application in cross-frequency\ncoupling.\n\nFirst, we compute the second-layer sift of our amplitude modulated signals.\nWe apply a mask-sift at the second level to the instantaneous amplitude of\nour high frequency signals. The frequency transform of the resulting\nsecond-layer IMFs is then computed using the Hilbert transform.\n\n"
      ]
    },
    {
      "cell_type": "code",
      "execution_count": null,
      "metadata": {
        "collapsed": false
      },
      "outputs": [],
      "source": [
        "# Reduce the mask frequencies for the second layer sift - otherwise we use the\n# same config as the first layer.\nconfig['mask_freqs'] = [10/sample_rate/ii for ii in range(1, 10)]\n\n\nimf2 = emd.sift.mask_sift_second_layer(IA[:, 0], config['mask_freqs'], sift_args=config)\nIP2, IF2, IA2 = emd.spectra.frequency_transform(imf2, sample_rate, 'hilbert')\n\nimf2_wide = emd.sift.mask_sift_second_layer(IA_wide[:, 0], config['mask_freqs'], sift_args=config)\nIP2_wide, IF2_wide, IA2_wide = emd.spectra.frequency_transform(imf2_wide, sample_rate, 'hilbert')\n\nimf2_narrow = emd.sift.mask_sift_second_layer(IA_narrow[:, 0], config['mask_freqs'], sift_args=config)\nIP2_narrow, IF2_narrow, IA2_narrow = emd.spectra.frequency_transform(imf2_narrow, sample_rate, 'hilbert')"
      ]
    },
    {
      "cell_type": "markdown",
      "metadata": {},
      "source": [
        "Next we compute the Holospectrum itself. We define a two sets of frequency\nbins for the first layer oscillations and second layer amplitude modulations\nbefore computing the Holospectrum using ``emd.spectra.holospectrum``.\n\n"
      ]
    },
    {
      "cell_type": "code",
      "execution_count": null,
      "metadata": {
        "collapsed": false
      },
      "outputs": [],
      "source": [
        "freq_edges, freq_centres = emd.spectra.define_hist_bins(1, 75, 75, 'log')\nfreq_edges_low, freq_centres_low = emd.spectra.define_hist_bins(2, 10, 20, 'linear')\n\nholo = emd.spectra.holospectrum(IF[:, 0, None], IF2, IA2, freq_edges, freq_edges_low)\nholo_narrow = emd.spectra.holospectrum(IF_narrow[:, 0, None], IF2_narrow, IA2_narrow, freq_edges, freq_edges_low)\nholo_wide = emd.spectra.holospectrum(IF_wide[:, 0, None], IF2_wide, IA2_wide, freq_edges, freq_edges_low)\n\n# Holo is [second-layer frequencies x first-layer frequencies]\nprint(holo.shape)"
      ]
    },
    {
      "cell_type": "markdown",
      "metadata": {},
      "source": [
        "The output holospectrum is a 2d matrix of first-layer frequencies by\nsecond-layer frequencies (we sum across time dimension by default). We next\nmake a summary plot with this 2d Holospectrum for each case in the top row\nand the average holospectrum across first-layer frequencies (ie expressing\nthe energy in signals with given amplitude modulation frequencies across all\nfirst-layer frequencies.)\n\n"
      ]
    },
    {
      "cell_type": "code",
      "execution_count": null,
      "metadata": {
        "collapsed": false
      },
      "outputs": [],
      "source": [
        "plt.figure()\nplt.subplot(231)\nplt.pcolormesh(freq_centres_low, freq_centres, holo_narrow.T, cmap='hot_r', shading='auto')\nplt.ylabel('Frequency (Hz)')\nplt.xticks(np.arange(3, 10, 2))\nplt.title('Narrow AM')\nplt.subplot(234)\nplt.plot(freq_centres_low, holo_narrow[:, 62])\nplt.xlabel('AM Frequency (Hz)')\nplt.xticks(np.arange(3, 10, 2))\nplt.ylabel('Amplitude')\n\nplt.subplot(232)\nplt.pcolormesh(freq_centres_low, freq_centres, holo.T, cmap='hot_r', shading='auto')\nplt.xticks(np.arange(3, 10, 2))\nplt.title('Sinusoidal AM')\nplt.subplot(235)\nplt.plot(freq_centres_low, holo[:, 62])\nplt.xticks(np.arange(3, 10, 2))\nplt.xlabel('AM Frequency (Hz)')\n\nplt.subplot(233)\nplt.pcolormesh(freq_centres_low, freq_centres, holo_wide.T, cmap='hot_r', shading='auto')\nplt.xticks(np.arange(3, 10, 2))\nplt.title('Wide AM')\nplt.subplot(236)\nplt.plot(freq_centres_low, holo_wide[:, 62])\nplt.xticks(np.arange(3, 10, 2))\nplt.xlabel('AM Frequency (Hz)')"
      ]
    },
    {
      "cell_type": "markdown",
      "metadata": {},
      "source": [
        "The holospectra on the top row show the distribution of energy across\nfrequency and amplitude modulation frequency  within each signal. The bottom\nrow sums the holospectra across the y-axis to summarise just the distribution\nof energy across apmlitude modulation frequencies.\n\nThe sinusoidal signal has a clear peak with a frequency of 37Hz with\namplitude modulations of 5Hz - exactly as we would expect from this\nsimulation. The other signals have a similar peak but slightly skewed to\nhigher or lower amplitude modulation frequencies. The signal with narrow\nmodulation has higher amplitude modulation frequencies - reflecting the\nfaster/sharper amplitude modulation profile of the signal. In contrast, the\nsignal with wide amplitude modulations skews towards slower amplitude\nmodulations - reflectings its slower, flatter amplitude modulation profile.\n\nThe holospectrum provides a convenient summary of the amplitude modulations\nin a signal, but doesn't explicitly link them to the phase of a lower\nfrequency signal. To complete a full cross-frequency coupling analysis with\nthe Holospectrum we need to show not only that our high frequency signal has\namplitude modulations but that those amplitude modulations are specifically\nlinked to a n observed low-frequency signal.\n\n"
      ]
    },
    {
      "cell_type": "markdown",
      "metadata": {},
      "source": [
        "## 3D phase-amplitude coupling with the Holospectrum\n\n"
      ]
    },
    {
      "cell_type": "markdown",
      "metadata": {},
      "source": [
        "We can link the Holospectrum to low frequency phase in exactly the same way\nas we analysed the instantaneous amplitude and Hilbert-Huang Transforms.\nFirst, we have to recompute the holospectra whilst preserving the time\ndimension in the output. By default, the holospectrum is summed over time\nbefore being returned - we can ask for the full 3D holospectrum to be\nreturned by setting ``squash_time=False`` in the ``emd.spectra.holospectrum``\ncall.\n\n"
      ]
    },
    {
      "cell_type": "code",
      "execution_count": null,
      "metadata": {
        "collapsed": false
      },
      "outputs": [],
      "source": [
        "# Define a new set of second-layer frequencies - slightly wider than the last one.\nfreq_edges_low, freq_centres_low = emd.spectra.define_hist_bins(.5, 15, 32, 'linear')\n\nholot = emd.spectra.holospectrum(IF[:, 0, None], IF2, IA2,\n                                 freq_edges, freq_edges_low, squash_time=False)\nholot_wide = emd.spectra.holospectrum(IF_wide[:, 0, None], IF2_wide, IA2_wide,\n                                      freq_edges, freq_edges_low, squash_time=False)\nholot_narrow = emd.spectra.holospectrum(IF_narrow[:, 0, None], IF2_narrow, IA2_narrow,\n                                        freq_edges, freq_edges_low, squash_time=False)\n\n\n# holot is [time samples x second-layer frequencies x first-layer frequencies]\nprint(holot.shape)"
      ]
    },
    {
      "cell_type": "markdown",
      "metadata": {},
      "source": [
        "Now that we have a time-varying holospectrum estimate - we can compute its\naverage in different low-frequency bins by using ``emd.cycles.bin_by_phase``\nas for our previous analyses.\n\n"
      ]
    },
    {
      "cell_type": "code",
      "execution_count": null,
      "metadata": {
        "collapsed": false
      },
      "outputs": [],
      "source": [
        "holo_by_phase, _, _ = emd.cycles.bin_by_phase(IP[:, 4], holot)\nholo_by_phase_wide, _, _ = emd.cycles.bin_by_phase(IP[:, 4], holot_wide)\nholo_by_phase_narrow, _, _ = emd.cycles.bin_by_phase(IP[:, 4], holot_narrow)\n\n# holo_by_phase is [phase bins x second-layer frequencies x first-layer frequencies]\nprint(holo_by_phase.shape)"
      ]
    },
    {
      "cell_type": "markdown",
      "metadata": {},
      "source": [
        "``holo_by_phase`` now contains a summary of the energy in each signal\nseparated by first-layer frequencies, second layer-frequencies and by the\nphase of our low frequency signal. If the amplitude modulations we observed\nin our signals are explicitly linked to the 5Hz phase - we should be able to\nsee it here.\n\nWe can summarise ``holo_by_phase`` a few ways. To start we we plot the\nhigh-frequency instantaneous amplitude on the top-row for reference. The\nsecond row contains the first-layer frequencies in the Holospectrum as a\nfunction of 5Hz phase, finally the third row contains the second-layer\namplitude modulation frequencies across 5Hz phase.\n\n"
      ]
    },
    {
      "cell_type": "code",
      "execution_count": null,
      "metadata": {
        "collapsed": false
      },
      "outputs": [],
      "source": [
        "plt.figure(figsize=(8, 8))\nplt.subplot(331)\nplt.errorbar(phase_bins, ia_by_phase_narrow, yerr=ia_by_phase_narrow_var)\nplt.ylim(0, 1)\nplt.ylabel('High-frequency\\ninstantaneous amplitudee')\nplt.title('Narrow AM')\nplt.subplot(332)\nplt.errorbar(phase_bins, ia_by_phase, yerr=ia_by_phase_var)\nplt.ylim(0, 1)\nplt.title('Sinusoidal AM')\nplt.subplot(333)\nplt.errorbar(phase_bins, ia_by_phase_wide, yerr=ia_by_phase_wide_var)\nplt.ylim(0, 1)\nplt.title('Wide AM')\n\nplt.subplot(334)\nplt.pcolormesh(phase_centres, freq_centres, holo_by_phase_narrow.sum(axis=1).T,  cmap='hot_r', shading='auto')\nplt.ylabel('Frequency (Hz)')\nplt.subplot(335)\nplt.pcolormesh(phase_centres, freq_centres, holo_by_phase.sum(axis=1).T, cmap='hot_r', shading='auto')\nplt.subplot(336)\nplt.pcolormesh(phase_centres, freq_centres, holo_by_phase_wide.sum(axis=1).T, cmap='hot_r', shading='auto')\n\nplt.subplot(337)\nplt.pcolormesh(phase_centres, freq_centres_low, holo_by_phase_narrow.sum(axis=2).T, cmap='hot_r', shading='auto')\nplt.ylabel('Amplitude Modulation\\nFrequency (Hz)')\nplt.xlabel('Slow phase')\nplt.subplot(338)\nplt.pcolormesh(phase_centres, freq_centres_low, holo_by_phase.sum(axis=2).T, cmap='hot_r', shading='auto')\nplt.xlabel('Slow phase')\nplt.subplot(339)\nplt.pcolormesh(phase_centres, freq_centres_low, holo_by_phase_wide.sum(axis=2).T, cmap='hot_r', shading='auto')\nplt.xlabel('Slow phase')"
      ]
    },
    {
      "cell_type": "markdown",
      "metadata": {},
      "source": [
        "The second row here is very similar to the HHT-by-phase plot in our previous\nsection and confirms that there is a peak in 37Hz power around pi/2 in the\nlow-frequency phase. Again, the width of the modulation is visible as\nstretching of the peak in the x-axis.\n\nThe third row gives us some new information about how amplitude modulation\nfrequency of the 37Hz frequency signal changes across the phase of the 5Hz\nsignal. This is a flat profile at 5Hz for the sinsoidal signal but changes\nfor the narrow and wide case. Critically the narrow amplitude modulation has\nan increase in amplitude modulation frequency around pi/2 - the point in the\nlow-frequency signal where the high-frequency signal peaks. In contrast, the\nwide modulation signal has a lower amplitude modulation frequency at the same\npoint. This reflects the fast-sharp peak in the narrow modualtion and the\nflat peak in the wide modulation.\n\nAll three signals are clearly linked to the low-frequency phase.\nInterestingly, the holospectrum is able to quantify the  non-linear\ndifferences in amplitude modulation frequency driven by the diferences in\nmodulation width.\n\n"
      ]
    }
  ],
  "metadata": {
    "kernelspec": {
      "display_name": "Python 3",
      "language": "python",
      "name": "python3"
    },
    "language_info": {
      "codemirror_mode": {
        "name": "ipython",
        "version": 3
      },
      "file_extension": ".py",
      "mimetype": "text/x-python",
      "name": "python",
      "nbconvert_exporter": "python",
      "pygments_lexer": "ipython3",
      "version": "3.7.6"
    }
  },
  "nbformat": 4,
  "nbformat_minor": 0
}