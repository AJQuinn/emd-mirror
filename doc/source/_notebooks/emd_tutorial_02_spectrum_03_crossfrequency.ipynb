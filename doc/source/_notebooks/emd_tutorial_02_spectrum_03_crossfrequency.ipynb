{
  "cells": [
    {
      "cell_type": "code",
      "execution_count": null,
      "metadata": {
        "collapsed": false
      },
      "outputs": [],
      "source": [
        "%matplotlib inline"
      ]
    },
    {
      "cell_type": "markdown",
      "metadata": {},
      "source": [
        "\n# Cross-Frequency Coupling\nThis tutorial shows how we can compute a holospectrum to characterise the\ndistribution of power in a signal as a function of both frequency of the\ncarrier wave and the frequency of any amplitude modulations\n"
      ]
    },
    {
      "cell_type": "markdown",
      "metadata": {},
      "source": [
        "## Simulating a signal with amplitude modulations\nFirst of all, we import EMD alongside numpy and matplotlib. We will also use\nscipy's ndimage module to smooth our results for visualisation later.\n\n"
      ]
    },
    {
      "cell_type": "code",
      "execution_count": null,
      "metadata": {
        "collapsed": false
      },
      "outputs": [],
      "source": [
        "# sphinx_gallery_thumbnail_number = 5\n\nimport matplotlib.pyplot as plt\nimport numpy as np\nimport emd"
      ]
    },
    {
      "cell_type": "markdown",
      "metadata": {},
      "source": [
        "First we create a simulated signal to analyse. This signal will be composed\nof a  linear trend and two oscillations, each with a different amplitude\nmodulation.\n\n"
      ]
    },
    {
      "cell_type": "code",
      "execution_count": null,
      "metadata": {
        "collapsed": false
      },
      "outputs": [],
      "source": [
        "seconds = 60\nsample_rate = 200\nt = np.linspace(0, seconds, seconds*sample_rate)\n\n# First we create a slow 5Hz oscillation and a fast 37Hz oscillation\nslow = np.sin(2*np.pi*5*t)\n\nfast = np.cos(2*np.pi*37*t)\n\n# Next we create three different amplitude modulation signals for the fast\n# oscillation. One sinusoidal, one wide modulation and one narrow modulation.\n# These cases differ by the duration of the high frequency burst.\n\nfast_am = 0.5*slow + 0.5\nfast_am_narrow = fast_am**4\nfast_am_wide = 1 - (0.5*-slow + 0.5)**4\n\n# We create our signal by summing the oscillation and adding some noise\nx = slow + fast * fast_am + np.random.randn(*t.shape) * .05\nx_wide = slow + fast * fast_am_wide + np.random.randn(*t.shape) * .05\nx_narrow = slow + fast * fast_am_narrow + np.random.randn(*t.shape) * .05\n\n\nplt.figure()\nplt.subplot(311)\nplt.plot(t[:seconds*3], x_narrow[:seconds*3])\nplt.subplot(312)\nplt.plot(t[:seconds*3], x[:seconds*3])\nplt.subplot(313)\nplt.plot(t[:seconds*3], x_wide[:seconds*3])"
      ]
    },
    {
      "cell_type": "code",
      "execution_count": null,
      "metadata": {
        "collapsed": false
      },
      "outputs": [],
      "source": [
        "config = emd.sift.get_config('mask_sift')\nconfig['max_imfs'] = 7\nconfig['mask_freqs'] = 50/sample_rate\nconfig['mask_amp_mode'] = 'ratio_sig'\nconfig['imf_opts/sd_thresh'] = 0.05\n\nimf = emd.sift.mask_sift(x, **config)\nIP, IF, IA = emd.spectra.frequency_transform(imf, sample_rate, 'hilbert')\n\nimf_wide = emd.sift.mask_sift(x_wide, **config)\nIP_wide, IF_wide, IA_wide = emd.spectra.frequency_transform(imf_wide, sample_rate, 'hilbert')\n\nimf_narrow = emd.sift.mask_sift(x_narrow, **config)\nIP_narrow, IF_narrow, IA_narrow = emd.spectra.frequency_transform(imf_narrow, sample_rate, 'hilbert')"
      ]
    },
    {
      "cell_type": "markdown",
      "metadata": {},
      "source": [
        "## 1D Phase-amplitude coupling with instantaneous amplitude\n\n"
      ]
    },
    {
      "cell_type": "code",
      "execution_count": null,
      "metadata": {
        "collapsed": false
      },
      "outputs": [],
      "source": [
        "cycles = emd.cycles.get_cycle_inds(IP[:, 4])\nphase = np.linspace(0, np.pi*2, 48)\npa = emd.cycles.phase_align(IP[:, 4], IA[:, 0], cycles=cycles)\npa_wide = emd.cycles.phase_align(IP[:, 4], IA_wide[:, 0], cycles=cycles)\npa_narrow = emd.cycles.phase_align(IP[:, 4], IA_narrow[:, 0], cycles=cycles)\n\nplt.figure()\nplt.plot(phase, pa.mean(axis=1))\nplt.plot(phase, pa_wide.mean(axis=1))\nplt.plot(phase, pa_narrow.mean(axis=1))\nplt.legend(['Fast Amp', 'Fast Amp Wide', ' Fast Amp Narrow'])\nplt.xlabel('Slow Phase')"
      ]
    },
    {
      "cell_type": "code",
      "execution_count": null,
      "metadata": {
        "collapsed": false
      },
      "outputs": [],
      "source": [
        "plt.figure()\nplt.subplot(311)\nplt.plot(t[:seconds*3], imf_narrow[:seconds*3, 0])\nplt.plot(t[:seconds*3], IA_narrow[:seconds*3, 0])\nplt.subplot(312)\nplt.plot(t[:seconds*3], imf[:seconds*3, 0])\nplt.plot(t[:seconds*3], IA[:seconds*3, 0])\nplt.subplot(313)\nplt.plot(t[:seconds*3], imf_wide[:seconds*3, 0])\nplt.plot(t[:seconds*3], IA_wide[:seconds*3, 0])"
      ]
    },
    {
      "cell_type": "markdown",
      "metadata": {},
      "source": [
        "## 2D Phase-amplitude coupling with the HHT\n\n"
      ]
    },
    {
      "cell_type": "code",
      "execution_count": null,
      "metadata": {
        "collapsed": false
      },
      "outputs": [],
      "source": [
        "freq_edges, freq_centres = emd.spectra.define_hist_bins(10, 75, 75, 'log')\n\nhht = emd.spectra.hilberthuang(IF, IA, freq_edges, mode='amplitude')\nhht_wide = emd.spectra.hilberthuang(IF_wide, IA_wide, freq_edges, mode='amplitude')\nhht_narrow = emd.spectra.hilberthuang(IF_narrow, IA_narrow, freq_edges, mode='amplitude')"
      ]
    },
    {
      "cell_type": "code",
      "execution_count": null,
      "metadata": {
        "collapsed": false
      },
      "outputs": [],
      "source": [
        "plt.figure()\nplt.subplot(411)\nplt.plot(t[:seconds*3], x[:seconds*3])\nplt.subplot(412)\nplt.pcolormesh(t[:seconds*3], freq_centres, hht_narrow[:, :seconds*3], cmap='ocean_r')\nplt.subplot(413)\nplt.pcolormesh(t[:seconds*3], freq_centres, hht[:, :seconds*3], cmap='ocean_r')\nplt.subplot(414)\nplt.pcolormesh(t[:seconds*3], freq_centres, hht_wide[:, :seconds*3], cmap='ocean_r')"
      ]
    },
    {
      "cell_type": "code",
      "execution_count": null,
      "metadata": {
        "collapsed": false
      },
      "outputs": [],
      "source": [
        "hht_by_phase, _, phase_centres = emd.cycles.bin_by_phase(IP[:, 4], hht.T)\nhht_by_phase_wide, _, _ = emd.cycles.bin_by_phase(IP[:, 4], hht_wide.T)\nhht_by_phase_narrow, _, _ = emd.cycles.bin_by_phase(IP[:, 4], hht_narrow.T)\n\n\nplt.figure()\nplt.subplot(131)\nplt.pcolormesh(phase_centres, freq_centres, hht_by_phase_narrow.T, vmax=0.25)\nplt.subplot(132)\nplt.pcolormesh(phase_centres, freq_centres, hht_by_phase.T, vmax=0.25)\nplt.subplot(133)\nplt.pcolormesh(phase_centres, freq_centres, hht_by_phase_wide.T, vmax=0.25)"
      ]
    },
    {
      "cell_type": "markdown",
      "metadata": {},
      "source": [
        "## Quantifying the frequency of amplitude modulations\n\n"
      ]
    },
    {
      "cell_type": "code",
      "execution_count": null,
      "metadata": {
        "collapsed": false
      },
      "outputs": [],
      "source": [
        "config['mask_freqs'] = [10/sample_rate/ii for ii in range(1, 10)]\nimf2 = emd.sift.mask_sift_second_layer(IA[:, 0], config['mask_freqs'], sift_args=config)\nIP2, IF2, IA2 = emd.spectra.frequency_transform(imf2, sample_rate, 'hilbert')\n\nimf2_wide = emd.sift.mask_sift_second_layer(IA_wide[:, 0], config['mask_freqs'], sift_args=config)\nIP2_wide, IF2_wide, IA2_wide = emd.spectra.frequency_transform(imf2_wide, sample_rate, 'hilbert')\n\nimf2_narrow = emd.sift.mask_sift_second_layer(IA_narrow[:, 0], config['mask_freqs'], sift_args=config)\nIP2_narrow, IF2_narrow, IA2_narrow = emd.spectra.frequency_transform(imf2_narrow, sample_rate, 'hilbert')"
      ]
    },
    {
      "cell_type": "code",
      "execution_count": null,
      "metadata": {
        "collapsed": false
      },
      "outputs": [],
      "source": [
        "freq_edges, freq_centres = emd.spectra.define_hist_bins(1, 75, 75, 'log')\nfreq_edges_low, freq_centres_low = emd.spectra.define_hist_bins(2, 10, 20, 'linear')\n\nholo = emd.spectra.holospectrum(IF[:, 0, None], IF2, IA2, freq_edges, freq_edges_low)\nholo_narrow = emd.spectra.holospectrum(IF_narrow[:, 0, None], IF2_narrow, IA2_narrow, freq_edges, freq_edges_low)\nholo_wide = emd.spectra.holospectrum(IF_wide[:, 0, None], IF2_wide, IA2_wide, freq_edges, freq_edges_low)"
      ]
    },
    {
      "cell_type": "code",
      "execution_count": null,
      "metadata": {
        "collapsed": false
      },
      "outputs": [],
      "source": [
        "plt.figure()\nplt.subplot(231)\nplt.pcolormesh(freq_centres_low, freq_centres, holo_narrow.T)\nplt.subplot(234)\nplt.plot(freq_centres_low, holo_narrow[:, 62])\n\nplt.subplot(232)\nplt.pcolormesh(freq_centres_low, freq_centres, holo.T)\nplt.subplot(235)\nplt.plot(freq_centres_low, holo[:, 62])\n\nplt.subplot(233)\nplt.pcolormesh(freq_centres_low, freq_centres, holo_wide.T)\nplt.subplot(236)\nplt.plot(freq_centres_low, holo_wide[:, 62])"
      ]
    },
    {
      "cell_type": "markdown",
      "metadata": {},
      "source": [
        "## 3D phase-amplitude coupling with the Holospectrum\n\n"
      ]
    },
    {
      "cell_type": "code",
      "execution_count": null,
      "metadata": {
        "collapsed": false
      },
      "outputs": [],
      "source": [
        "freq_edges_low, freq_centres_low = emd.spectra.define_hist_bins(.5, 15, 32, 'linear')\n\nholot = emd.spectra.holospectrum(IF[:, 0, None], IF2, IA2,\n                                 freq_edges, freq_edges_low, squash_time=False)\nholot_wide = emd.spectra.holospectrum(IF_wide[:, 0, None], IF2_wide, IA2_wide,\n                                      freq_edges, freq_edges_low, squash_time=False)\nholot_narrow = emd.spectra.holospectrum(IF_narrow[:, 0, None], IF2_narrow, IA2_narrow,\n                                        freq_edges, freq_edges_low, squash_time=False)\n\nholo_by_phase, _, _ = emd.cycles.bin_by_phase(IP[:, 4], holot)\nholo_by_phase_wide, _, _ = emd.cycles.bin_by_phase(IP[:, 4], holot_wide)\nholo_by_phase_narrow, _, _ = emd.cycles.bin_by_phase(IP[:, 4], holot_narrow)\n\nplt.figure(figsize=(8, 8))\nplt.subplot(331)\nplt.plot(phase, pa_narrow.mean(axis=1))\nplt.ylim(0, 1)\nplt.subplot(332)\nplt.plot(phase, pa.mean(axis=1))\nplt.ylim(0, 1)\nplt.subplot(333)\nplt.plot(phase, pa_wide.mean(axis=1))\nplt.ylim(0, 1)\n\nplt.subplot(334)\nplt.pcolormesh(phase_centres, freq_centres, holo_by_phase_narrow.sum(axis=1).T)\nplt.ylabel('Frequency (Hz)')\nplt.subplot(335)\nplt.pcolormesh(phase_centres, freq_centres, holo_by_phase.sum(axis=1).T)\nplt.subplot(336)\nplt.pcolormesh(phase_centres, freq_centres, holo_by_phase_wide.sum(axis=1).T)\n\nplt.subplot(337)\nplt.pcolormesh(phase_centres, freq_centres_low, holo_by_phase_narrow.sum(axis=2).T)\nplt.ylabel('Amplitude Modulation\\nFrequency (Hz)')\nplt.xlabel('Slow phase')\nplt.subplot(338)\nplt.pcolormesh(phase_centres, freq_centres_low, holo_by_phase.sum(axis=2).T)\nplt.subplot(339)\nplt.pcolormesh(phase_centres, freq_centres_low, holo_by_phase_wide.sum(axis=2).T)"
      ]
    }
  ],
  "metadata": {
    "kernelspec": {
      "display_name": "Python 3",
      "language": "python",
      "name": "python3"
    },
    "language_info": {
      "codemirror_mode": {
        "name": "ipython",
        "version": 3
      },
      "file_extension": ".py",
      "mimetype": "text/x-python",
      "name": "python",
      "nbconvert_exporter": "python",
      "pygments_lexer": "ipython3",
      "version": "3.7.6"
    }
  },
  "nbformat": 4,
  "nbformat_minor": 0
}