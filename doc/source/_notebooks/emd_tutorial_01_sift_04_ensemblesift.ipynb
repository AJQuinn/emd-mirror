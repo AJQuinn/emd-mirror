{
  "cells": [
    {
      "cell_type": "code",
      "execution_count": null,
      "metadata": {
        "collapsed": false
      },
      "outputs": [],
      "source": [
        "%matplotlib inline"
      ]
    },
    {
      "cell_type": "markdown",
      "metadata": {},
      "source": [
        "\n# Ensemble sifting\nThis tutorial is a general introduction to the sift algorithm. We introduce the\nsift in steps and some of the options that can be tuned.\n"
      ]
    },
    {
      "cell_type": "markdown",
      "metadata": {},
      "source": [
        "Lets make a simulated signal to get started. This is a fairly complicated\nsignal with a non-linear 12Hz oscillation, a very slow fluctuation and some\nhigh frequency noise.\n\n"
      ]
    },
    {
      "cell_type": "code",
      "execution_count": null,
      "metadata": {
        "collapsed": false
      },
      "outputs": [],
      "source": [
        "import emd\nimport numpy as np\nfrom scipy import signal\nimport matplotlib.pyplot as plt\n\nsample_rate = 1000\nseconds = 1\nnum_samples = sample_rate*seconds\ntime_vect = np.linspace(0, seconds, num_samples)\nfreq = 25\n\n# Change extent of deformation from sinusoidal shape [-1 to 1]\nnonlinearity_deg = 0\n\n# Change left-right skew of deformation [-pi to pi]\nnonlinearity_phi = -np.pi/4\n\n# Create a non-linear oscillation\nx = emd.utils.abreu2010(freq, nonlinearity_deg, nonlinearity_phi, sample_rate, seconds)\n\nx -= np.sin(2 * np.pi * 0.22 * time_vect)   # Add part of a very slow cycle as a trend\n\n# Add a little noise - with low frequencies removed to make this example a\n# little cleaner...\nnp.random.seed(42)\nn =  np.random.randn(1000,)*.5\n\nx = x + n\n\nplt.figure()\nplt.plot(x, 'k')"
      ]
    },
    {
      "cell_type": "code",
      "execution_count": null,
      "metadata": {
        "collapsed": false
      },
      "outputs": [],
      "source": [
        "imf = emd.sift.sift(x, imf_opts={'sd_thresh':0.1})\nemd.plotting.plot_imfs(imf,cmap=True, scale_y=True)"
      ]
    },
    {
      "cell_type": "code",
      "execution_count": null,
      "metadata": {
        "collapsed": false
      },
      "outputs": [],
      "source": [
        "imf2 = emd.sift.ensemble_sift(x, nensembles=24, ensemble_noise=0.25, imf_opts={'sd_thresh':0.1}, max_imfs=5)\nemd.plotting.plot_imfs(imf2,cmap=True, scale_y=True)"
      ]
    },
    {
      "cell_type": "code",
      "execution_count": null,
      "metadata": {
        "collapsed": false
      },
      "outputs": [],
      "source": [
        "imf2 = emd.sift.ensemble_sift(n, nensembles=24, ensemble_noise=0.25, imf_opts={'sd_thresh':0.1}, max_imfs=5)\nemd.plotting.plot_imfs(imf2,cmap=True, scale_y=True)"
      ]
    }
  ],
  "metadata": {
    "kernelspec": {
      "display_name": "Python 3",
      "language": "python",
      "name": "python3"
    },
    "language_info": {
      "codemirror_mode": {
        "name": "ipython",
        "version": 3
      },
      "file_extension": ".py",
      "mimetype": "text/x-python",
      "name": "python",
      "nbconvert_exporter": "python",
      "pygments_lexer": "ipython3",
      "version": "3.7.6"
    }
  },
  "nbformat": 4,
  "nbformat_minor": 0
}