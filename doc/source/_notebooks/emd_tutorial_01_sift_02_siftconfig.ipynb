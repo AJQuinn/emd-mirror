{
  "cells": [
    {
      "cell_type": "code",
      "execution_count": null,
      "metadata": {
        "collapsed": false
      },
      "outputs": [],
      "source": [
        "%matplotlib inline"
      ]
    },
    {
      "cell_type": "markdown",
      "metadata": {},
      "source": [
        "\n# SiftConfig Specification\nHere we look at how to customise the different parts of the sift algorithm.\nThere are many options which can be customised from top level sift parameters\nall the way down to extrema detection.\n"
      ]
    },
    {
      "cell_type": "markdown",
      "metadata": {},
      "source": [
        "## The SiftConfig object\nEMD can create a config dictionary which contains all the options that can be\ncustomised for a given sift function. This can be created using the\nget_config function in the sift submodule. Lets import emd and create the\nconfig for a standard sift - we can view the options by calling print on the\nconfig.\n\nThe SiftConfig dictionary contains all the arguments for functions that\nare used in the sift algorithm.\n\n- \"sift\" contains arguments for the high level sift functions such as ``emd.sift.sift`` or ``emd.sift.ensemble_sift``\n- \"imf\" contains arguments for ``emd.sift.get_next_imf``\n- \"envelope\" contains arguments for ``emd.sift.interpolate_envelope``\n- \"extrema\", \"mag_pad\" and  \"loc_pad\" have arguments for extrema detection and padding\n\n"
      ]
    },
    {
      "cell_type": "code",
      "execution_count": null,
      "metadata": {
        "collapsed": false
      },
      "outputs": [],
      "source": [
        "# sphinx_gallery_thumbnail_path = '_static/emd_siftconfig_thumb.png'\n\nimport emd\nimport numpy as np\n\nconfig = emd.sift.get_config('sift')\nprint(config)"
      ]
    },
    {
      "cell_type": "markdown",
      "metadata": {},
      "source": [
        "These arguments are specific for the each type of sift (particularly at the top \"sift\" level).\n\n"
      ]
    },
    {
      "cell_type": "code",
      "execution_count": null,
      "metadata": {
        "collapsed": false
      },
      "outputs": [],
      "source": [
        "config = emd.sift.get_config('complete_ensemble_sift')\nprint(config)"
      ]
    },
    {
      "cell_type": "markdown",
      "metadata": {},
      "source": [
        "The SiftConfig dictionary contains arguments and default values for functions\nwhich are called internally within the different sift implementations. The\ndictionary can be used for viewing and editing the options before they are\npassed into the sift function.\n\nThe SiftConfig dictionary is nested, in that some items in the dictionary\nstore further dictionaries of options. This hierarchy of options reflects\nwhere the options are used in the sift process. The top-level of the\ndictionary contains arguments which may be passed directly to the sift\nfunctions, whilst options needed for internal function calls are stored in\nnested subdictionaries.\n\nThe parameters in the config can be changed in the same way we would change\nthe key-value pairs in a nested dictionary or using a h5py inspiried shorthand.\n\n"
      ]
    },
    {
      "cell_type": "code",
      "execution_count": null,
      "metadata": {
        "collapsed": false
      },
      "outputs": [],
      "source": [
        "# This is a top-level argument used directly by ensemble_sift\nconfig['nensembles'] = 20\nconfig['nprocesses'] = 4\nconfig['max_imfs'] = 5\n\n# This is a sub-arguemnt used by interp_envelope, which is called within\n# ensemble_sift.\n\n# Standard\nconfig['extrema_opts']['pad_width'] = 4\n# Shorthard\nconfig['extrema_opts/pad_width'] = 4\n\nprint(config)"
      ]
    },
    {
      "cell_type": "markdown",
      "metadata": {},
      "source": [
        "This nested shorthand can be used to customise the low level extrema padding options\n\n"
      ]
    },
    {
      "cell_type": "code",
      "execution_count": null,
      "metadata": {
        "collapsed": false
      },
      "outputs": [],
      "source": [
        "# Standard\n#config['extrema_opts']['loc_pad_opts']['reflect_type'] = 'even'\n# Shorthand\nconfig['extrema_opts/mag_pad_opts/stat_length'] = 3\nconfig['extrema_opts'] = {}\n\nprint(config)\n\n# This nested structure is passed as an unpacked dictionary to our sift function.\n\n# Create some random data\nx = np.random.randn(1000,)\n\nimf = emd.sift.complete_ensemble_sift(x, **config)"
      ]
    },
    {
      "cell_type": "markdown",
      "metadata": {},
      "source": [
        "## Customised sifting with functools.partial\n\nIf you are going to be repeatedly calling a sift function with the same\narguments many times, you could consider creating a partial function to\nsimplify the code. Partial functions are a part of the ``functools`` module\nin python. They act like normal functions but with fixed values for certain\narguments.\n\nThis means we could specify our sift config and use it to create a partial\nfunction which only needs the data to be passed in as an argument. For\nexample:\n\n"
      ]
    },
    {
      "cell_type": "code",
      "execution_count": null,
      "metadata": {
        "collapsed": false
      },
      "outputs": [],
      "source": [
        "# Create a mask sift config object and customise some options\nconfig = emd.sift.get_config('mask_sift')\nconfig['max_imfs'] = 5\nconfig['mask_amp_mode'] = 'ratio_sig'\nconfig['envelope_opts/interp_method'] = 'mono_pchip'\n\n# Create a partial function - my_mask_sift is now a function with the arguments\n# in config fixed as defaults.\nfrom functools import partial\nmy_mask_sift = partial(emd.sift.mask_sift, **config)\n\n# my_mask_sift can then be called with the input data as the only argument.\nimfs = my_mask_sift(x)"
      ]
    },
    {
      "cell_type": "markdown",
      "metadata": {},
      "source": [
        "We can compare the different options for ``emd.sift.mask_sift`` and\n``my_mask_sift`` using the python inspect module to print the default\narguments (or function signature) for each function.\n\n"
      ]
    },
    {
      "cell_type": "code",
      "execution_count": null,
      "metadata": {
        "collapsed": false
      },
      "outputs": [],
      "source": [
        "import inspect\nprint('emd.sift.mask_sift')\nprint(inspect.signature(emd.sift.mask_sift))\nprint()\nprint('my_mask_sift')\nprint(inspect.signature(my_mask_sift))"
      ]
    },
    {
      "cell_type": "markdown",
      "metadata": {},
      "source": [
        "We can see that the input arguments in the signature of ``my_mask_sift``\ncontains all the specified options from the ``config`` so is much longer than\nfor ``emd.sift.mask_sift``.\n\n"
      ]
    },
    {
      "cell_type": "markdown",
      "metadata": {},
      "source": [
        "## Saving and loading sift config files\n\nWe might often want to store, reuse and share sift configurations during a\nproject. To help with this, a SiftConfig specification can be stored as a raw\ntext file in the YAML format. The config can be saved into a text file and\nloaded back into a SiftConfig object for use in a script. We can also\ndirectly edit the text file to customise the sift parameters from there if\npreferred. The save and load operations are performed by\n``emd.sift.SiftConfig.to_yaml_file`` and\n``emd.sift.SiftConfig.from_yaml_file`` respectively.\n\nLets look at an example. We're going to store this config in a temporary file\non your system for this tutorial. This avoids clutter and should work on all\nsystems. If you would prefer to use a specific file on your system please\ncomment out this section and simply specify ``config_file`` to be a path to\nthe file of your choice.\n\n"
      ]
    },
    {
      "cell_type": "code",
      "execution_count": null,
      "metadata": {
        "collapsed": false
      },
      "outputs": [],
      "source": [
        "# Create a temporary file OR specify your own file path\nimport tempfile\nconfig_file = tempfile.NamedTemporaryFile(prefix=\"ExampleSiftConfig_\").name\n# Or uncomment the following line and specify your own file\n#config_file = '/path/to/my/file'\n\n# Save the config into yaml format\nconfig.to_yaml_file(config_file)\n\n# Open the text file and print its contents\nwith open(config_file, 'r') as f:\n    txt = f.read()\nprint(txt)\n\n# Load the config back into a SiftConfig object for use in a script\nnew_config = emd.sift.SiftConfig.from_yaml_file(config_file)"
      ]
    }
  ],
  "metadata": {
    "kernelspec": {
      "display_name": "Python 3",
      "language": "python",
      "name": "python3"
    },
    "language_info": {
      "codemirror_mode": {
        "name": "ipython",
        "version": 3
      },
      "file_extension": ".py",
      "mimetype": "text/x-python",
      "name": "python",
      "nbconvert_exporter": "python",
      "pygments_lexer": "ipython3",
      "version": "3.7.6"
    }
  },
  "nbformat": 4,
  "nbformat_minor": 0
}